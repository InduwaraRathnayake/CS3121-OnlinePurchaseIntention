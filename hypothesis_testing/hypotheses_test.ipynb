{
 "cells": [
  {
   "cell_type": "markdown",
   "id": "50e96535",
   "metadata": {
    "papermill": {
     "duration": 0.008042,
     "end_time": "2025-05-14T07:17:42.568838",
     "exception": false,
     "start_time": "2025-05-14T07:17:42.560796",
     "status": "completed"
    },
    "tags": []
   },
   "source": [
    "<h1 style=\"color:lightblue; text-align:center;\">Hypothesis Testing</h1>\n"
   ]
  },
  {
   "cell_type": "markdown",
   "id": "cb91d486",
   "metadata": {
    "papermill": {
     "duration": 0.006714,
     "end_time": "2025-05-14T07:17:42.582799",
     "exception": false,
     "start_time": "2025-05-14T07:17:42.576085",
     "status": "completed"
    },
    "tags": []
   },
   "source": [
    "# Part (a) Given Hypotheses"
   ]
  },
  {
   "cell_type": "code",
   "execution_count": 1,
   "id": "1e57f646",
   "metadata": {
    "_cell_guid": "b1076dfc-b9ad-4769-8c92-a6c4dae69d19",
    "_uuid": "8f2839f25d086af736a60e9eeb907d3b93b6e0e5",
    "execution": {
     "iopub.execute_input": "2025-05-14T07:17:42.598253Z",
     "iopub.status.busy": "2025-05-14T07:17:42.597301Z",
     "iopub.status.idle": "2025-05-14T07:17:45.322910Z",
     "shell.execute_reply": "2025-05-14T07:17:45.322165Z"
    },
    "papermill": {
     "duration": 2.734798,
     "end_time": "2025-05-14T07:17:45.324468",
     "exception": false,
     "start_time": "2025-05-14T07:17:42.589670",
     "status": "completed"
    },
    "tags": []
   },
   "outputs": [],
   "source": [
    "import numpy as np\n",
    "import pandas as pd\n",
    "from scipy.stats import spearmanr"
   ]
  },
  {
   "cell_type": "code",
   "execution_count": 2,
   "id": "4647f6ac",
   "metadata": {
    "execution": {
     "iopub.execute_input": "2025-05-14T07:17:45.340213Z",
     "iopub.status.busy": "2025-05-14T07:17:45.339804Z",
     "iopub.status.idle": "2025-05-14T07:17:45.383154Z",
     "shell.execute_reply": "2025-05-14T07:17:45.382255Z"
    },
    "papermill": {
     "duration": 0.052896,
     "end_time": "2025-05-14T07:17:45.384980",
     "exception": false,
     "start_time": "2025-05-14T07:17:45.332084",
     "status": "completed"
    },
    "tags": []
   },
   "outputs": [
    {
     "name": "stdout",
     "output_type": "stream",
     "text": [
      "Column names in the dataset:\n",
      "age\n",
      "education\n",
      "used_before\n",
      "profession\n",
      "EaseofNavigation1\n",
      "EaseofNavigation2\n",
      "LearnCurve1\n",
      "LearnCurve2\n",
      "ClarityofInstructions1\n",
      "ClarityofInstructions2\n",
      "ResponseTime1\n",
      "ResponseTime2\n",
      "ErrorHandling1\n",
      "ErrorHandling2\n",
      "ProductAvailability1\n",
      "ProductAvailability2\n",
      "Convenience1\n",
      "Convenience2\n",
      "Cost-effectiveness1\n",
      "Cost-effectiveness2\n",
      "InformationAccessibility1\n",
      "InformationAccessibility2\n",
      "Personalization1\n",
      "Personalization2\n",
      "PrivacyProtection1\n",
      "PrivacyProtection2\n",
      "PaymentSecurity1\n",
      "PaymentSecurity2\n",
      "TransparentPolicies1\n",
      "TransparentPolicies2\n",
      "WordofMouthandRecommendations1\n",
      "WordofMouthandRecommendations2\n",
      "SocialMediaPosts/Influence1\n",
      "SocialMediaPosts/Influence2\n",
      "OnlineReviewsandRatings1\n",
      "OnlineReviewsandRatings2\n",
      "SocialProof1\n",
      "SocialProof2\n",
      "NormativePressure1\n",
      "NormativePressure2\n",
      "InformationSharing1\n",
      "InformationSharing2\n",
      "Attitude1\n",
      "Attitude2\n",
      "PerceivedRisk1\n",
      "PerceivedRisk2\n",
      "IntentiontoPurchaseOnline1\n",
      "IntentiontoPurchaseOnline2\n",
      "IntentiontoPurchaseOnline3\n",
      "IntentiontoPurchaseOnline4\n",
      "gender_Female\n",
      "gender_Male\n",
      "marital_status_Married\n",
      "marital_status_Single\n",
      "Have you made online purchases during crisis time?_No\n",
      "Have you made online purchases during crisis time?_Yes\n",
      "platform_general_clean\n",
      "general_aliexpress\n",
      "general_daraz\n",
      "general_ebay\n",
      "general_ikman\n",
      "general_kapruka\n",
      "general_other\n",
      "general_takas\n",
      "general_unknown\n",
      "general_wishque\n",
      "general_wow\n",
      "platform_auto_clean\n",
      "auto_amazon\n",
      "auto_autolanka\n",
      "auto_ikmnan\n",
      "auto_lankavehicle\n",
      "auto_other\n",
      "auto_patpat\n",
      "auto_pricelanka\n",
      "auto_riyasewana\n",
      "auto_unknown\n",
      "platform_pharmacy_clean\n",
      "pharmacy_ceymed\n",
      "pharmacy_epharma\n",
      "pharmacy_healthgurd\n",
      "pharmacy_healthnet\n",
      "pharmacy_nearby\n",
      "pharmacy_onlinepharmacy\n",
      "pharmacy_other\n",
      "pharmacy_unknown\n",
      "platform_fashion_clean\n",
      "fashion_fashionbug\n",
      "fashion_gflock\n",
      "fashion_kapruka\n",
      "fashion_kellyfelder\n",
      "fashion_midnightdivas\n",
      "fashion_mimosa\n",
      "fashion_odel\n",
      "fashion_other\n",
      "fashion_springandsummer\n",
      "fashion_thilakawardana\n",
      "fashion_unknown\n",
      "platform_grocery_clean\n",
      "grocery_arpico\n",
      "grocery_cinnamonhotel\n",
      "grocery_glomark\n",
      "grocery_keels\n",
      "grocery_other\n",
      "grocery_pickmefoods\n",
      "grocery_ubereats\n",
      "grocery_unknown\n"
     ]
    }
   ],
   "source": [
    "df = pd.read_csv(\"/kaggle/input/online-purchase-intentions-during-crises/preprocessed_dataset.csv\")\n",
    "\n",
    "print(\"Column names in the dataset:\")\n",
    "for col in df.columns:\n",
    "    print(col)"
   ]
  },
  {
   "cell_type": "markdown",
   "id": "88308d6f",
   "metadata": {
    "papermill": {
     "duration": 0.00707,
     "end_time": "2025-05-14T07:17:45.399104",
     "exception": false,
     "start_time": "2025-05-14T07:17:45.392034",
     "status": "completed"
    },
    "tags": []
   },
   "source": [
    "## 1. Perceived ease of use has no impact on intention to purchase."
   ]
  },
  {
   "cell_type": "code",
   "execution_count": 3,
   "id": "a6093654",
   "metadata": {
    "execution": {
     "iopub.execute_input": "2025-05-14T07:17:45.413799Z",
     "iopub.status.busy": "2025-05-14T07:17:45.413169Z",
     "iopub.status.idle": "2025-05-14T07:17:45.440466Z",
     "shell.execute_reply": "2025-05-14T07:17:45.439598Z"
    },
    "papermill": {
     "duration": 0.036085,
     "end_time": "2025-05-14T07:17:45.441798",
     "exception": false,
     "start_time": "2025-05-14T07:17:45.405713",
     "status": "completed"
    },
    "tags": []
   },
   "outputs": [
    {
     "name": "stdout",
     "output_type": "stream",
     "text": [
      "Spearman's rho: 0.19360578301736173\n",
      "p-value: 2.0754481478398974e-08\n",
      "Result: Reject H₀ → Significant relationship exists.\n"
     ]
    }
   ],
   "source": [
    "# Perceived ease of use has no impact on intention to purchase.\n",
    "\n",
    "# Define the columns related to Perceived Ease of Use (PEOU)\n",
    "peou_columns = [\n",
    "    'EaseofNavigation1', 'EaseofNavigation2',\n",
    "    'LearnCurve1', 'LearnCurve2',\n",
    "    'ClarityofInstructions1', 'ClarityofInstructions2',\n",
    "    'ResponseTime1', 'ResponseTime2',\n",
    "    'ErrorHandling1', 'ErrorHandling2'\n",
    "]\n",
    "\n",
    "# Define the columns related to Intention to Purchase Online\n",
    "intention_columns = [\n",
    "    'IntentiontoPurchaseOnline1',\n",
    "    'IntentiontoPurchaseOnline2',\n",
    "    'IntentiontoPurchaseOnline3',\n",
    "    'IntentiontoPurchaseOnline4'\n",
    "]\n",
    "\n",
    "# Compute the average score for each participant\n",
    "df['PEOU'] = df[peou_columns].mean(axis=1)\n",
    "df['Intention'] = df[intention_columns].mean(axis=1)\n",
    "\n",
    "# Drop missing values\n",
    "correlation_df = df[['PEOU', 'Intention']].dropna()\n",
    "\n",
    "# Compute Spearman rank correlation\n",
    "spearman_corr, p_value = spearmanr(correlation_df['PEOU'], correlation_df['Intention'])\n",
    "\n",
    "# Display the result\n",
    "print(\"Spearman's rho:\", spearman_corr)\n",
    "print(\"p-value:\", p_value)\n",
    "\n",
    "if p_value < 0.05:\n",
    "    print(\"Result: Reject H₀ → Significant relationship exists.\")\n",
    "else:\n",
    "    print(\"Result: Fail to reject H₀ → No significant relationship.\")"
   ]
  },
  {
   "cell_type": "markdown",
   "id": "850c7e00",
   "metadata": {
    "papermill": {
     "duration": 0.006422,
     "end_time": "2025-05-14T07:17:45.455042",
     "exception": false,
     "start_time": "2025-05-14T07:17:45.448620",
     "status": "completed"
    },
    "tags": []
   },
   "source": [
    "## 2. Perceived usefulness has no impact on the intention to purchase online."
   ]
  },
  {
   "cell_type": "code",
   "execution_count": 4,
   "id": "a5037744",
   "metadata": {
    "execution": {
     "iopub.execute_input": "2025-05-14T07:17:45.469800Z",
     "iopub.status.busy": "2025-05-14T07:17:45.469180Z",
     "iopub.status.idle": "2025-05-14T07:17:45.481263Z",
     "shell.execute_reply": "2025-05-14T07:17:45.480545Z"
    },
    "papermill": {
     "duration": 0.020855,
     "end_time": "2025-05-14T07:17:45.482614",
     "exception": false,
     "start_time": "2025-05-14T07:17:45.461759",
     "status": "completed"
    },
    "tags": []
   },
   "outputs": [
    {
     "name": "stdout",
     "output_type": "stream",
     "text": [
      "Spearman's rho: 0.19027769499254027\n",
      "p-value: 3.6413919408969154e-08\n",
      "Result: Reject H₀ → Significant relationship exists.\n"
     ]
    }
   ],
   "source": [
    "# Perceived usefulness has no impact on the intention to purchase online.\n",
    "\n",
    "\n",
    "# Correct PU columns (case-sensitive)\n",
    "pu_columns = [\n",
    "    'ProductAvailability1', 'ProductAvailability2',\n",
    "    'Convenience1', 'Convenience2','Cost-effectiveness1','Cost-effectiveness2',\n",
    "    'InformationAccessibility1', 'InformationAccessibility2',\n",
    "    'Personalization1', 'Personalization2'\n",
    "]\n",
    "\n",
    "# Compute averages\n",
    "df['PU'] = df[pu_columns].mean(axis=1)\n",
    "df['Intention'] = df[intention_columns].mean(axis=1)\n",
    "\n",
    "# Drop missing\n",
    "correlation_df = df[['PU', 'Intention']].dropna()\n",
    "\n",
    "# Spearman correlation\n",
    "spearman_corr, p_value = spearmanr(correlation_df['PU'], correlation_df['Intention'])\n",
    "\n",
    "# Output\n",
    "print(\"Spearman's rho:\", spearman_corr)\n",
    "print(\"p-value:\", p_value)\n",
    "\n",
    "if p_value < 0.05:\n",
    "    print(\"Result: Reject H₀ → Significant relationship exists.\")\n",
    "else:\n",
    "    print(\"Result: Fail to reject H₀ → No significant relationship.\")"
   ]
  },
  {
   "cell_type": "markdown",
   "id": "703a77e4",
   "metadata": {
    "papermill": {
     "duration": 0.006639,
     "end_time": "2025-05-14T07:17:45.496306",
     "exception": false,
     "start_time": "2025-05-14T07:17:45.489667",
     "status": "completed"
    },
    "tags": []
   },
   "source": [
    "## 3. Having structural assurance has no impact on the intention to make an online purchase."
   ]
  },
  {
   "cell_type": "code",
   "execution_count": 5,
   "id": "0e5f005e",
   "metadata": {
    "execution": {
     "iopub.execute_input": "2025-05-14T07:17:45.511424Z",
     "iopub.status.busy": "2025-05-14T07:17:45.510811Z",
     "iopub.status.idle": "2025-05-14T07:17:45.522945Z",
     "shell.execute_reply": "2025-05-14T07:17:45.522114Z"
    },
    "papermill": {
     "duration": 0.021162,
     "end_time": "2025-05-14T07:17:45.524232",
     "exception": false,
     "start_time": "2025-05-14T07:17:45.503070",
     "status": "completed"
    },
    "tags": []
   },
   "outputs": [
    {
     "name": "stdout",
     "output_type": "stream",
     "text": [
      "Spearman's rho (SA vs Intention): 0.18097510121525173\n",
      "p-value: 1.6632496435783662e-07\n",
      "Result: Reject H₀ → Significant relationship exists between Structural Assurance and Intention to Purchase.\n"
     ]
    }
   ],
   "source": [
    "# Having structural assurance has no impact on the intention to make an online purchase.\n",
    "\n",
    "# Structural Assurance columns\n",
    "sa_columns = [\n",
    "    'PrivacyProtection1', 'PrivacyProtection2',\n",
    "    'PaymentSecurity1', 'PaymentSecurity2',\n",
    "    'TransparentPolicies1', 'TransparentPolicies2'\n",
    "]\n",
    "\n",
    "# Compute mean scores\n",
    "df['SA'] = df[sa_columns].mean(axis=1)\n",
    "df['Intention'] = df[intention_columns].mean(axis=1)\n",
    "\n",
    "# Drop missing values\n",
    "correlation_df = df[['SA', 'Intention']].dropna()\n",
    "\n",
    "# Compute Spearman rank correlation\n",
    "spearman_corr, p_value = spearmanr(correlation_df['SA'], correlation_df['Intention'])\n",
    "\n",
    "# Display the result\n",
    "print(\"Spearman's rho (SA vs Intention):\", spearman_corr)\n",
    "print(\"p-value:\", p_value)\n",
    "\n",
    "# Interpretation\n",
    "if p_value < 0.05:\n",
    "    print(\"Result: Reject H₀ → Significant relationship exists between Structural Assurance and Intention to Purchase.\")\n",
    "else:\n",
    "    print(\"Result: Fail to reject H₀ → No significant relationship.\")"
   ]
  },
  {
   "cell_type": "markdown",
   "id": "6b858e71",
   "metadata": {
    "papermill": {
     "duration": 0.007794,
     "end_time": "2025-05-14T07:17:45.538968",
     "exception": false,
     "start_time": "2025-05-14T07:17:45.531174",
     "status": "completed"
    },
    "tags": []
   },
   "source": [
    "## 4. Social influence has no impact on the intention to purchase online."
   ]
  },
  {
   "cell_type": "code",
   "execution_count": 6,
   "id": "5d0ee325",
   "metadata": {
    "execution": {
     "iopub.execute_input": "2025-05-14T07:17:45.554252Z",
     "iopub.status.busy": "2025-05-14T07:17:45.553650Z",
     "iopub.status.idle": "2025-05-14T07:17:45.566220Z",
     "shell.execute_reply": "2025-05-14T07:17:45.565429Z"
    },
    "papermill": {
     "duration": 0.021647,
     "end_time": "2025-05-14T07:17:45.567414",
     "exception": false,
     "start_time": "2025-05-14T07:17:45.545767",
     "status": "completed"
    },
    "tags": []
   },
   "outputs": [
    {
     "name": "stdout",
     "output_type": "stream",
     "text": [
      "Spearman's rho (Social Influence vs Intention): 0.257216811279178\n",
      "p-value: 6.218716323440867e-14\n",
      "Result: Reject H₀ → Significant relationship between Social Influence and Intention to Purchase.\n"
     ]
    }
   ],
   "source": [
    "# Social influence has no impact on the intention to purchase online.\n",
    "\n",
    "# Define columns related to Social Influence\n",
    "social_influence_columns = [\n",
    "    'WordofMouthandRecommendations1', 'WordofMouthandRecommendations2',\n",
    "    'SocialMediaPosts/Influence1', 'SocialMediaPosts/Influence2',\n",
    "    'OnlineReviewsandRatings1', 'OnlineReviewsandRatings2',\n",
    "    'SocialProof1', 'SocialProof2',\n",
    "    'NormativePressure1', 'NormativePressure2',\n",
    "    'InformationSharing1', 'InformationSharing2'\n",
    "]\n",
    "\n",
    "# Compute average scores\n",
    "df['SocialInfluence'] = df[social_influence_columns].mean(axis=1)\n",
    "df['Intention'] = df[intention_columns].mean(axis=1)\n",
    "\n",
    "# Drop missing values\n",
    "correlation_df = df[['SocialInfluence', 'Intention']].dropna()\n",
    "\n",
    "# Compute Spearman rank correlation\n",
    "spearman_corr, p_value = spearmanr(correlation_df['SocialInfluence'], correlation_df['Intention'])\n",
    "\n",
    "# Display the result\n",
    "print(\"Spearman's rho (Social Influence vs Intention):\", spearman_corr)\n",
    "print(\"p-value:\", p_value)\n",
    "\n",
    "# Interpretation\n",
    "if p_value < 0.05:\n",
    "    print(\"Result: Reject H₀ → Significant relationship between Social Influence and Intention to Purchase.\")\n",
    "else:\n",
    "    print(\"Result: Fail to reject H₀ → No significant relationship.\")"
   ]
  },
  {
   "cell_type": "markdown",
   "id": "69cc8320",
   "metadata": {
    "papermill": {
     "duration": 0.006786,
     "end_time": "2025-05-14T07:17:45.581255",
     "exception": false,
     "start_time": "2025-05-14T07:17:45.574469",
     "status": "completed"
    },
    "tags": []
   },
   "source": [
    "## 5. The attitude towards online shopping does not mediate the relationship between perceived ease of use and the intention to purchase online."
   ]
  },
  {
   "cell_type": "code",
   "execution_count": 7,
   "id": "a7f3c523",
   "metadata": {
    "execution": {
     "iopub.execute_input": "2025-05-14T07:17:45.596489Z",
     "iopub.status.busy": "2025-05-14T07:17:45.595778Z",
     "iopub.status.idle": "2025-05-14T07:17:46.282495Z",
     "shell.execute_reply": "2025-05-14T07:17:46.281753Z"
    },
    "papermill": {
     "duration": 0.696126,
     "end_time": "2025-05-14T07:17:46.284196",
     "exception": false,
     "start_time": "2025-05-14T07:17:45.588070",
     "status": "completed"
    },
    "tags": []
   },
   "outputs": [
    {
     "name": "stdout",
     "output_type": "stream",
     "text": [
      "\n",
      "Step 1: Total Effect (c) — Intention ~ PEOU\n",
      "                            OLS Regression Results                            \n",
      "==============================================================================\n",
      "Dep. Variable:              Intention   R-squared:                       0.075\n",
      "Model:                            OLS   Adj. R-squared:                  0.074\n",
      "Method:                 Least Squares   F-statistic:                     66.41\n",
      "Date:                Wed, 14 May 2025   Prob (F-statistic):           1.36e-15\n",
      "Time:                        07:17:46   Log-Likelihood:                -597.56\n",
      "No. Observations:                 825   AIC:                             1199.\n",
      "Df Residuals:                     823   BIC:                             1209.\n",
      "Df Model:                           1                                         \n",
      "Covariance Type:            nonrobust                                         \n",
      "==============================================================================\n",
      "                 coef    std err          t      P>|t|      [0.025      0.975]\n",
      "------------------------------------------------------------------------------\n",
      "Intercept      2.9905      0.103     29.062      0.000       2.789       3.192\n",
      "PEOU           0.2536      0.031      8.149      0.000       0.193       0.315\n",
      "==============================================================================\n",
      "Omnibus:                       42.389   Durbin-Watson:                   1.417\n",
      "Prob(Omnibus):                  0.000   Jarque-Bera (JB):               55.767\n",
      "Skew:                          -0.470   Prob(JB):                     7.77e-13\n",
      "Kurtosis:                       3.859   Cond. No.                         21.3\n",
      "==============================================================================\n",
      "\n",
      "Notes:\n",
      "[1] Standard Errors assume that the covariance matrix of the errors is correctly specified.\n",
      "\n",
      "Step 2: Path a — Attitude ~ PEOU\n",
      "                            OLS Regression Results                            \n",
      "==============================================================================\n",
      "Dep. Variable:               Attitude   R-squared:                       0.157\n",
      "Model:                            OLS   Adj. R-squared:                  0.156\n",
      "Method:                 Least Squares   F-statistic:                     153.1\n",
      "Date:                Wed, 14 May 2025   Prob (F-statistic):           2.24e-32\n",
      "Time:                        07:17:46   Log-Likelihood:                -729.40\n",
      "No. Observations:                 825   AIC:                             1463.\n",
      "Df Residuals:                     823   BIC:                             1472.\n",
      "Df Model:                           1                                         \n",
      "Covariance Type:            nonrobust                                         \n",
      "==============================================================================\n",
      "                 coef    std err          t      P>|t|      [0.025      0.975]\n",
      "------------------------------------------------------------------------------\n",
      "Intercept      2.3809      0.121     19.720      0.000       2.144       2.618\n",
      "PEOU           0.4518      0.037     12.374      0.000       0.380       0.524\n",
      "==============================================================================\n",
      "Omnibus:                       62.938   Durbin-Watson:                   1.226\n",
      "Prob(Omnibus):                  0.000   Jarque-Bera (JB):              109.719\n",
      "Skew:                          -0.527   Prob(JB):                     1.50e-24\n",
      "Kurtosis:                       4.442   Cond. No.                         21.3\n",
      "==============================================================================\n",
      "\n",
      "Notes:\n",
      "[1] Standard Errors assume that the covariance matrix of the errors is correctly specified.\n",
      "\n",
      "Step 3: Path b and c′ — Intention ~ PEOU + Attitude\n",
      "                            OLS Regression Results                            \n",
      "==============================================================================\n",
      "Dep. Variable:              Intention   R-squared:                       0.241\n",
      "Model:                            OLS   Adj. R-squared:                  0.240\n",
      "Method:                 Least Squares   F-statistic:                     130.8\n",
      "Date:                Wed, 14 May 2025   Prob (F-statistic):           4.87e-50\n",
      "Time:                        07:17:46   Log-Likelihood:                -515.61\n",
      "No. Observations:                 825   AIC:                             1037.\n",
      "Df Residuals:                     822   BIC:                             1051.\n",
      "Df Model:                           2                                         \n",
      "Covariance Type:            nonrobust                                         \n",
      "==============================================================================\n",
      "                 coef    std err          t      P>|t|      [0.025      0.975]\n",
      "------------------------------------------------------------------------------\n",
      "Intercept      2.1291      0.113     18.820      0.000       1.907       2.351\n",
      "PEOU           0.0901      0.031      2.936      0.003       0.030       0.150\n",
      "Attitude       0.3618      0.027     13.441      0.000       0.309       0.415\n",
      "==============================================================================\n",
      "Omnibus:                       19.070   Durbin-Watson:                   1.282\n",
      "Prob(Omnibus):                  0.000   Jarque-Bera (JB):               23.904\n",
      "Skew:                          -0.270   Prob(JB):                     6.45e-06\n",
      "Kurtosis:                       3.636   Cond. No.                         38.0\n",
      "==============================================================================\n",
      "\n",
      "Notes:\n",
      "[1] Standard Errors assume that the covariance matrix of the errors is correctly specified.\n",
      "\n",
      "Sobel Test for Indirect Effect (a × b):\n",
      "Z = 9.1036\n",
      "p-value = 0.0000\n",
      "Reject H₀: Attitude significantly mediates the relationship between PEOU and Intention.\n"
     ]
    }
   ],
   "source": [
    "import statsmodels.formula.api as smf\n",
    "from math import sqrt\n",
    "from scipy.stats import norm\n",
    "\n",
    "#The attitude towards online shopping does not mediate the relationship between perceived ease of use and the intention to purchase online.\n",
    "\n",
    "\n",
    "# Define columns for each construct\n",
    "peou_columns = [\n",
    "    'EaseofNavigation1', 'EaseofNavigation2',\n",
    "    'LearnCurve1', 'LearnCurve2',\n",
    "    'ClarityofInstructions1', 'ClarityofInstructions2',\n",
    "    'ResponseTime1', 'ResponseTime2',\n",
    "    'ErrorHandling1', 'ErrorHandling2'\n",
    "]\n",
    "\n",
    "attitude_columns = ['Attitude1', 'Attitude2']\n",
    "\n",
    "# Compute construct means\n",
    "df['PEOU'] = df[peou_columns].mean(axis=1)\n",
    "df['Attitude'] = df[attitude_columns].mean(axis=1)\n",
    "df['Intention'] = df[intention_columns].mean(axis=1)\n",
    "\n",
    "# Drop rows with missing values\n",
    "df_clean = df[['PEOU', 'Attitude', 'Intention']].dropna()\n",
    "\n",
    "# Step 1: Total effect (c) — Intention ~ PEOU\n",
    "model_c = smf.ols('Intention ~ PEOU', data=df_clean).fit()\n",
    "\n",
    "# Step 2: Path a — Attitude ~ PEOU\n",
    "model_a = smf.ols('Attitude ~ PEOU', data=df_clean).fit()\n",
    "\n",
    "# Step 3: Path b and c′ — Intention ~ PEOU + Attitude\n",
    "model_b_cprime = smf.ols('Intention ~ PEOU + Attitude', data=df_clean).fit()\n",
    "\n",
    "# Sobel test for indirect effect (a × b)\n",
    "a = model_a.params['PEOU']\n",
    "sa = model_a.bse['PEOU']\n",
    "b = model_b_cprime.params['Attitude']\n",
    "sb = model_b_cprime.bse['Attitude']\n",
    "sobel_z = (a * b) / sqrt(b**2 * sa**2 + a**2 * sb**2)\n",
    "sobel_p = 2 * (1 - norm.cdf(abs(sobel_z)))\n",
    "\n",
    "# Print all results\n",
    "print(\"\\nStep 1: Total Effect (c) — Intention ~ PEOU\")\n",
    "print(model_c.summary())\n",
    "\n",
    "print(\"\\nStep 2: Path a — Attitude ~ PEOU\")\n",
    "print(model_a.summary())\n",
    "\n",
    "print(\"\\nStep 3: Path b and c′ — Intention ~ PEOU + Attitude\")\n",
    "print(model_b_cprime.summary())\n",
    "\n",
    "print(\"\\nSobel Test for Indirect Effect (a × b):\")\n",
    "print(f\"Z = {sobel_z:.4f}\")\n",
    "print(f\"p-value = {sobel_p:.4f}\")\n",
    "\n",
    "# Final Verdict\n",
    "if sobel_p < 0.05:\n",
    "    print(\"Reject H₀: Attitude significantly mediates the relationship between PEOU and Intention.\")\n",
    "else:\n",
    "    print(\"Fail to reject H₀: No significant mediation effect of Attitude.\")\n"
   ]
  },
  {
   "cell_type": "markdown",
   "id": "1c3d7f42",
   "metadata": {
    "papermill": {
     "duration": 0.006849,
     "end_time": "2025-05-14T07:17:46.298244",
     "exception": false,
     "start_time": "2025-05-14T07:17:46.291395",
     "status": "completed"
    },
    "tags": []
   },
   "source": [
    "## 6. Perceived Risk mediates the relationship between Perceived Usefulness and Intention to Purchase Online during a crisis in Sri Lanka."
   ]
  },
  {
   "cell_type": "code",
   "execution_count": 8,
   "id": "b8dc49db",
   "metadata": {
    "execution": {
     "iopub.execute_input": "2025-05-14T07:17:46.313708Z",
     "iopub.status.busy": "2025-05-14T07:17:46.313003Z",
     "iopub.status.idle": "2025-05-14T07:17:47.610597Z",
     "shell.execute_reply": "2025-05-14T07:17:47.609827Z"
    },
    "papermill": {
     "duration": 1.307204,
     "end_time": "2025-05-14T07:17:47.612245",
     "exception": false,
     "start_time": "2025-05-14T07:17:46.305041",
     "status": "completed"
    },
    "tags": []
   },
   "outputs": [
    {
     "name": "stdout",
     "output_type": "stream",
     "text": [
      "\n",
      "Step 1: PU ➜ Intention (Total Effect):\n",
      "                             OLS Regression Results                            \n",
      "==============================================================================\n",
      "Dep. Variable:              Intention   R-squared:                       0.068\n",
      "Model:                            OLS   Adj. R-squared:                  0.067\n",
      "Method:                 Least Squares   F-statistic:                     60.35\n",
      "Date:                Wed, 14 May 2025   Prob (F-statistic):           2.36e-14\n",
      "Time:                        07:17:47   Log-Likelihood:                -600.38\n",
      "No. Observations:                 825   AIC:                             1205.\n",
      "Df Residuals:                     823   BIC:                             1214.\n",
      "Df Model:                           1                                         \n",
      "Covariance Type:            nonrobust                                         \n",
      "==============================================================================\n",
      "                 coef    std err          t      P>|t|      [0.025      0.975]\n",
      "------------------------------------------------------------------------------\n",
      "const          3.0331      0.102     29.618      0.000       2.832       3.234\n",
      "PU             0.2381      0.031      7.768      0.000       0.178       0.298\n",
      "==============================================================================\n",
      "Omnibus:                       41.632   Durbin-Watson:                   1.418\n",
      "Prob(Omnibus):                  0.000   Jarque-Bera (JB):               54.144\n",
      "Skew:                          -0.469   Prob(JB):                     1.75e-12\n",
      "Kurtosis:                       3.835   Cond. No.                         21.3\n",
      "==============================================================================\n",
      "\n",
      "Notes:\n",
      "[1] Standard Errors assume that the covariance matrix of the errors is correctly specified.\n",
      "\n",
      "Step 2: PU ➜ Perceived Risk:\n",
      "                             OLS Regression Results                            \n",
      "==============================================================================\n",
      "Dep. Variable:          PerceivedRisk   R-squared:                       0.027\n",
      "Model:                            OLS   Adj. R-squared:                  0.026\n",
      "Method:                 Least Squares   F-statistic:                     23.10\n",
      "Date:                Wed, 14 May 2025   Prob (F-statistic):           1.83e-06\n",
      "Time:                        07:17:47   Log-Likelihood:                -830.81\n",
      "No. Observations:                 825   AIC:                             1666.\n",
      "Df Residuals:                     823   BIC:                             1675.\n",
      "Df Model:                           1                                         \n",
      "Covariance Type:            nonrobust                                         \n",
      "==============================================================================\n",
      "                 coef    std err          t      P>|t|      [0.025      0.975]\n",
      "------------------------------------------------------------------------------\n",
      "const          3.2339      0.135     23.883      0.000       2.968       3.500\n",
      "PU             0.1948      0.041      4.806      0.000       0.115       0.274\n",
      "==============================================================================\n",
      "Omnibus:                       60.921   Durbin-Watson:                   1.282\n",
      "Prob(Omnibus):                  0.000   Jarque-Bera (JB):               84.948\n",
      "Skew:                          -0.593   Prob(JB):                     3.58e-19\n",
      "Kurtosis:                       4.033   Cond. No.                         21.3\n",
      "==============================================================================\n",
      "\n",
      "Notes:\n",
      "[1] Standard Errors assume that the covariance matrix of the errors is correctly specified.\n",
      "\n",
      "Step 3: PU & Perceived Risk ➜ Intention (Mediation Model):\n",
      "                             OLS Regression Results                            \n",
      "==============================================================================\n",
      "Dep. Variable:              Intention   R-squared:                       0.281\n",
      "Model:                            OLS   Adj. R-squared:                  0.279\n",
      "Method:                 Least Squares   F-statistic:                     160.8\n",
      "Date:                Wed, 14 May 2025   Prob (F-statistic):           1.19e-59\n",
      "Time:                        07:17:47   Log-Likelihood:                -493.40\n",
      "No. Observations:                 825   AIC:                             992.8\n",
      "Df Residuals:                     822   BIC:                             1007.\n",
      "Df Model:                           2                                         \n",
      "Covariance Type:            nonrobust                                         \n",
      "=================================================================================\n",
      "                    coef    std err          t      P>|t|      [0.025      0.975]\n",
      "---------------------------------------------------------------------------------\n",
      "const             1.8640      0.117     15.916      0.000       1.634       2.094\n",
      "PU                0.1677      0.027      6.140      0.000       0.114       0.221\n",
      "PerceivedRisk     0.3615      0.023     15.601      0.000       0.316       0.407\n",
      "==============================================================================\n",
      "Omnibus:                       16.284   Durbin-Watson:                   1.459\n",
      "Prob(Omnibus):                  0.000   Jarque-Bera (JB):               20.174\n",
      "Skew:                          -0.242   Prob(JB):                     4.16e-05\n",
      "Kurtosis:                       3.594   Cond. No.                         40.6\n",
      "==============================================================================\n",
      "\n",
      "Notes:\n",
      "[1] Standard Errors assume that the covariance matrix of the errors is correctly specified.\n",
      "\n",
      "--- Mediation Analysis Summary ---\n",
      "Step 1 PU significantly predicts Intention (p = 0.0000)\n",
      "Step 2 PU significantly predicts Perceived Risk (p = 0.0000)\n",
      "Step 3 Perceived Risk significantly predicts Intention (p = 0.0000)\n",
      " PU's effect on Intention decreased from 0.2381 to 0.1677\n",
      "Reject H₀ -> Perceived Risk mediates the effect of PU on Intention.\n"
     ]
    }
   ],
   "source": [
    "import pandas as pd\n",
    "import statsmodels.api as sm\n",
    "\n",
    "# Step 1: Calculate composite scores\n",
    "df['PU'] = df[[\n",
    "    'ProductAvailability1', 'ProductAvailability2',\n",
    "    'Convenience1', 'Convenience2',\n",
    "    'Cost-effectiveness1', 'Cost-effectiveness2',\n",
    "    'InformationAccessibility1', 'InformationAccessibility2',\n",
    "    'Personalization1', 'Personalization2'\n",
    "]].mean(axis=1)\n",
    "\n",
    "df['PerceivedRisk'] = df[['PerceivedRisk1', 'PerceivedRisk2']].mean(axis=1)\n",
    "\n",
    "\n",
    "\n",
    "# Step 2: Drop missing values\n",
    "df_med = df[['PU', 'PerceivedRisk', 'Intention']].dropna()\n",
    "\n",
    "# Step 3: Run regressions\n",
    "# Total Effect: PU ➜ Intention\n",
    "X1 = sm.add_constant(df_med['PU'])\n",
    "model_total = sm.OLS(df_med['Intention'], X1).fit()\n",
    "\n",
    "# PU ➜ Perceived Risk\n",
    "X2 = sm.add_constant(df_med['PU'])\n",
    "model_a = sm.OLS(df_med['PerceivedRisk'], X2).fit()\n",
    "\n",
    "# PU & Perceived Risk ➜ Intention\n",
    "X3 = sm.add_constant(df_med[['PU', 'PerceivedRisk']])\n",
    "model_b = sm.OLS(df_med['Intention'], X3).fit()\n",
    "\n",
    "# Display summaries\n",
    "print(\"\\nStep 1: PU ➜ Intention (Total Effect):\\n\", model_total.summary())\n",
    "print(\"\\nStep 2: PU ➜ Perceived Risk:\\n\", model_a.summary())\n",
    "print(\"\\nStep 3: PU & Perceived Risk ➜ Intention (Mediation Model):\\n\", model_b.summary())\n",
    "\n",
    "# Extract values for interpretation\n",
    "p1 = model_total.pvalues['PU']\n",
    "p2 = model_a.pvalues['PU']\n",
    "p3 = model_b.pvalues['PerceivedRisk']\n",
    "pu_effect_total = model_total.params['PU']\n",
    "pu_effect_mediation = model_b.params['PU']\n",
    "\n",
    "# Interpretation based on p-values\n",
    "print(\"\\n--- Mediation Analysis Summary ---\")\n",
    "if p1 < 0.05:\n",
    "    print(f\"Step 1 PU significantly predicts Intention (p = {p1:.4f})\")\n",
    "else:\n",
    "    print(f\"Step 1 PU does not significantly predict Intention (p = {p1:.4f})\")\n",
    "\n",
    "if p2 < 0.05:\n",
    "    print(f\"Step 2 PU significantly predicts Perceived Risk (p = {p2:.4f})\")\n",
    "else:\n",
    "    print(f\"Step 2 PU does not significantly predict Perceived Risk (p = {p2:.4f})\")\n",
    "\n",
    "if p3 < 0.05:\n",
    "    print(f\"Step 3 Perceived Risk significantly predicts Intention (p = {p3:.4f})\")\n",
    "    if abs(pu_effect_mediation) < abs(pu_effect_total):\n",
    "        print(f\" PU's effect on Intention decreased from {pu_effect_total:.4f} to {pu_effect_mediation:.4f}\")\n",
    "        print(\"Reject H₀ -> Perceived Risk mediates the effect of PU on Intention.\")\n",
    "    else:\n",
    "        print(\"PU's effect did not reduce in mediation model — partial or no mediation.\")\n",
    "else:\n",
    "    print(f\"Step 3 Perceived Risk does not significantly predict Intention (p = {p3:.4f})\")\n",
    "    print(\"Mediation is not supported.\")\n"
   ]
  },
  {
   "cell_type": "markdown",
   "id": "3898eced",
   "metadata": {
    "papermill": {
     "duration": 0.007549,
     "end_time": "2025-05-14T07:17:47.627370",
     "exception": false,
     "start_time": "2025-05-14T07:17:47.619821",
     "status": "completed"
    },
    "tags": []
   },
   "source": [
    "## 7. Ease of navigation has no impact on the intention to purchase online."
   ]
  },
  {
   "cell_type": "code",
   "execution_count": 9,
   "id": "5ec6e28c",
   "metadata": {
    "execution": {
     "iopub.execute_input": "2025-05-14T07:17:47.643187Z",
     "iopub.status.busy": "2025-05-14T07:17:47.642767Z",
     "iopub.status.idle": "2025-05-14T07:17:47.655892Z",
     "shell.execute_reply": "2025-05-14T07:17:47.655096Z"
    },
    "papermill": {
     "duration": 0.022474,
     "end_time": "2025-05-14T07:17:47.657097",
     "exception": false,
     "start_time": "2025-05-14T07:17:47.634623",
     "status": "completed"
    },
    "tags": []
   },
   "outputs": [
    {
     "name": "stdout",
     "output_type": "stream",
     "text": [
      "Spearman's rho (Ease of Navigation vs Intention): 0.14202818873951203\n",
      "p-value: 4.2393032685419935e-05\n",
      "Result: Reject H₀ → Ease of Navigation significantly correlates with Intention to Purchase.\n"
     ]
    }
   ],
   "source": [
    "# Ease of navigation has no impact on the intention to purchase online.\n",
    "\n",
    "# Define the columns for Ease of Navigation\n",
    "navigation_columns = [\n",
    "    'EaseofNavigation1', 'EaseofNavigation2'\n",
    "]\n",
    "\n",
    "# Compute the average scores\n",
    "df['EaseOfNavigation'] = df[navigation_columns].mean(axis=1)\n",
    "df['Intention'] = df[intention_columns].mean(axis=1)\n",
    "\n",
    "# Drop missing values\n",
    "correlation_df = df[['EaseOfNavigation', 'Intention']].dropna()\n",
    "\n",
    "# Compute Spearman rank correlation\n",
    "spearman_corr, p_value = spearmanr(correlation_df['EaseOfNavigation'], correlation_df['Intention'])\n",
    "\n",
    "# Display the result\n",
    "print(\"Spearman's rho (Ease of Navigation vs Intention):\", spearman_corr)\n",
    "print(\"p-value:\", p_value)\n",
    "\n",
    "# Optional interpretation\n",
    "if p_value < 0.05:\n",
    "    print(\"Result: Reject H₀ → Ease of Navigation significantly correlates with Intention to Purchase.\")\n",
    "else:\n",
    "    print(\"Result: Fail to reject H₀ → No significant relationship detected.\")"
   ]
  },
  {
   "cell_type": "markdown",
   "id": "232005ea",
   "metadata": {
    "papermill": {
     "duration": 0.007071,
     "end_time": "2025-05-14T07:17:47.671501",
     "exception": false,
     "start_time": "2025-05-14T07:17:47.664430",
     "status": "completed"
    },
    "tags": []
   },
   "source": [
    "## 8. Clarity of instructions has no impact on the intention to purchase online."
   ]
  },
  {
   "cell_type": "code",
   "execution_count": 10,
   "id": "658a5183",
   "metadata": {
    "execution": {
     "iopub.execute_input": "2025-05-14T07:17:47.687250Z",
     "iopub.status.busy": "2025-05-14T07:17:47.686516Z",
     "iopub.status.idle": "2025-05-14T07:17:47.711878Z",
     "shell.execute_reply": "2025-05-14T07:17:47.711010Z"
    },
    "papermill": {
     "duration": 0.034607,
     "end_time": "2025-05-14T07:17:47.713196",
     "exception": false,
     "start_time": "2025-05-14T07:17:47.678589",
     "status": "completed"
    },
    "tags": []
   },
   "outputs": [
    {
     "name": "stdout",
     "output_type": "stream",
     "text": [
      "Spearman's rho (Clarity vs Intention): 0.20584246611822185\n",
      "p-value: 2.4102278405661193e-09\n",
      "Reject H₀: Clarity of instructions significantly impacts intention to purchase.\n"
     ]
    }
   ],
   "source": [
    "# Clarity of instructions has no impact on the intention to purchase online.\n",
    "\n",
    "# Load the preprocessed dataset\n",
    "df = pd.read_csv(\"/kaggle/input/online-purchase-intentions-during-crises/preprocessed_dataset.csv\")\n",
    "\n",
    "# Define Clarity of Instructions columns\n",
    "clarity_columns = ['ClarityofInstructions1', 'ClarityofInstructions2']\n",
    "\n",
    "\n",
    "# Compute average scores\n",
    "df['Clarity'] = df[clarity_columns].mean(axis=1)\n",
    "df['Intention'] = df[intention_columns].mean(axis=1)\n",
    "\n",
    "# Drop missing values\n",
    "correlation_df = df[['Clarity', 'Intention']].dropna()\n",
    "\n",
    "# Compute Spearman rank correlation\n",
    "spearman_corr, p_value = spearmanr(correlation_df['Clarity'], correlation_df['Intention'])\n",
    "\n",
    "# Display results\n",
    "print(\"Spearman's rho (Clarity vs Intention):\", spearman_corr)\n",
    "print(\"p-value:\", p_value)\n",
    "\n",
    "# Interpretation\n",
    "if p_value < 0.05:\n",
    "    print(\"Reject H₀: Clarity of instructions significantly impacts intention to purchase.\")\n",
    "else:\n",
    "    print(\"Fail to reject H₀: No significant relationship.\")"
   ]
  },
  {
   "cell_type": "markdown",
   "id": "9425541d",
   "metadata": {
    "papermill": {
     "duration": 0.007296,
     "end_time": "2025-05-14T07:17:47.728255",
     "exception": false,
     "start_time": "2025-05-14T07:17:47.720959",
     "status": "completed"
    },
    "tags": []
   },
   "source": [
    "## 9. Response Time has no impact on intention to purchase online."
   ]
  },
  {
   "cell_type": "code",
   "execution_count": 11,
   "id": "f86ed25d",
   "metadata": {
    "execution": {
     "iopub.execute_input": "2025-05-14T07:17:47.744718Z",
     "iopub.status.busy": "2025-05-14T07:17:47.744084Z",
     "iopub.status.idle": "2025-05-14T07:17:47.756082Z",
     "shell.execute_reply": "2025-05-14T07:17:47.755183Z"
    },
    "papermill": {
     "duration": 0.021796,
     "end_time": "2025-05-14T07:17:47.757416",
     "exception": false,
     "start_time": "2025-05-14T07:17:47.735620",
     "status": "completed"
    },
    "tags": []
   },
   "outputs": [
    {
     "name": "stdout",
     "output_type": "stream",
     "text": [
      "Spearman's rho (Response Time vs Intention): 0.07607996063588794\n",
      "p-value: 0.028882628417328946\n",
      "Result: Reject H₀ → Significant relationship exists between Response Time and Intention.\n"
     ]
    }
   ],
   "source": [
    "# Response Time has no impact on intention to purchase online.\n",
    "\n",
    "# Define columns related to Response Time\n",
    "response_time_columns = ['ResponseTime1', 'ResponseTime2']\n",
    "\n",
    "\n",
    "# Compute average scores for each participant\n",
    "df['ResponseTime'] = df[response_time_columns].mean(axis=1)\n",
    "df['Intention'] = df[intention_columns].mean(axis=1)\n",
    "\n",
    "# Drop missing values\n",
    "correlation_df = df[['ResponseTime', 'Intention']].dropna()\n",
    "\n",
    "# Compute Spearman rank correlation\n",
    "spearman_corr, p_value = spearmanr(correlation_df['ResponseTime'], correlation_df['Intention'])\n",
    "\n",
    "# Display the results\n",
    "print(\"Spearman's rho (Response Time vs Intention):\", spearman_corr)\n",
    "print(\"p-value:\", p_value)\n",
    "\n",
    "# Interpretation\n",
    "if p_value < 0.05:\n",
    "    print(\"Result: Reject H₀ → Significant relationship exists between Response Time and Intention.\")\n",
    "else:\n",
    "    print(\"Result: Fail to reject H₀ → No significant relationship.\")"
   ]
  },
  {
   "cell_type": "markdown",
   "id": "709e1b47",
   "metadata": {
    "papermill": {
     "duration": 0.007485,
     "end_time": "2025-05-14T07:17:47.772693",
     "exception": false,
     "start_time": "2025-05-14T07:17:47.765208",
     "status": "completed"
    },
    "tags": []
   },
   "source": [
    "## 10. Error handling has no impact on intention to purchase online"
   ]
  },
  {
   "cell_type": "code",
   "execution_count": 12,
   "id": "b6d00b08",
   "metadata": {
    "execution": {
     "iopub.execute_input": "2025-05-14T07:17:47.788872Z",
     "iopub.status.busy": "2025-05-14T07:17:47.788561Z",
     "iopub.status.idle": "2025-05-14T07:17:47.801349Z",
     "shell.execute_reply": "2025-05-14T07:17:47.800496Z"
    },
    "papermill": {
     "duration": 0.022521,
     "end_time": "2025-05-14T07:17:47.802603",
     "exception": false,
     "start_time": "2025-05-14T07:17:47.780082",
     "status": "completed"
    },
    "tags": []
   },
   "outputs": [
    {
     "name": "stdout",
     "output_type": "stream",
     "text": [
      "Spearman's rho (Error Handling vs Intention): 0.14893676915712514\n",
      "p-value: 1.7439795709379758e-05\n",
      "Result: Reject H₀ → Significant relationship exists between Error Handling and Intention to Purchase.\n"
     ]
    }
   ],
   "source": [
    "# Error handling has no impact on intention to purchase online\n",
    "\n",
    "# Define the columns related to Error Handling\n",
    "error_handling_columns = ['ErrorHandling1', 'ErrorHandling2']\n",
    "\n",
    "# Compute the average score for each construct\n",
    "df['ErrorHandling'] = df[error_handling_columns].mean(axis=1)\n",
    "df['Intention'] = df[intention_columns].mean(axis=1)\n",
    "\n",
    "# Drop rows with missing values\n",
    "correlation_df = df[['ErrorHandling', 'Intention']].dropna()\n",
    "\n",
    "# Compute Spearman's rank correlation\n",
    "spearman_corr, p_value = spearmanr(correlation_df['ErrorHandling'], correlation_df['Intention'])\n",
    "\n",
    "# Display the result\n",
    "print(\"Spearman's rho (Error Handling vs Intention):\", spearman_corr)\n",
    "print(\"p-value:\", p_value)\n",
    "\n",
    "# Interpret the result\n",
    "if p_value < 0.05:\n",
    "    print(\"Result: Reject H₀ → Significant relationship exists between Error Handling and Intention to Purchase.\")\n",
    "else:\n",
    "    print(\"Result: Fail to reject H₀ → No significant relationship.\")"
   ]
  },
  {
   "cell_type": "markdown",
   "id": "b597a880",
   "metadata": {
    "papermill": {
     "duration": 0.007473,
     "end_time": "2025-05-14T07:17:47.817971",
     "exception": false,
     "start_time": "2025-05-14T07:17:47.810498",
     "status": "completed"
    },
    "tags": []
   },
   "source": [
    "# Part (b) Custom Hypotheses"
   ]
  },
  {
   "cell_type": "markdown",
   "id": "bfdf65de",
   "metadata": {
    "papermill": {
     "duration": 0.007404,
     "end_time": "2025-05-14T07:17:47.833056",
     "exception": false,
     "start_time": "2025-05-14T07:17:47.825652",
     "status": "completed"
    },
    "tags": []
   },
   "source": [
    "In addition to the above hypotheses, create your own 10 hypotheses based\n",
    " on the given conceptual diagram and validate them using suitable statistical\n",
    " tests"
   ]
  },
  {
   "cell_type": "code",
   "execution_count": 13,
   "id": "134f6458",
   "metadata": {
    "execution": {
     "iopub.execute_input": "2025-05-14T07:17:47.849926Z",
     "iopub.status.busy": "2025-05-14T07:17:47.849148Z",
     "iopub.status.idle": "2025-05-14T07:17:47.857017Z",
     "shell.execute_reply": "2025-05-14T07:17:47.856341Z"
    },
    "papermill": {
     "duration": 0.017883,
     "end_time": "2025-05-14T07:17:47.858369",
     "exception": false,
     "start_time": "2025-05-14T07:17:47.840486",
     "status": "completed"
    },
    "tags": []
   },
   "outputs": [],
   "source": [
    "# Define the intention columns globally (used in every case)\n",
    "intention_columns = [\n",
    "    'IntentiontoPurchaseOnline1',\n",
    "    'IntentiontoPurchaseOnline2',\n",
    "    'IntentiontoPurchaseOnline3',\n",
    "    'IntentiontoPurchaseOnline4'\n",
    "]\n",
    "df['Intention'] = df[intention_columns].mean(axis=1)\n",
    "\n",
    "# Define a reusable function\n",
    "def test_spearman_correlation(factor_name, columns):\n",
    "    \"\"\"\n",
    "    Computes and prints Spearman correlation between a given factor and purchase intention.\n",
    "    \n",
    "    Parameters:\n",
    "    - factor_name: str, name of the new column to be used for the factor\n",
    "    - columns: list of str, names of the columns representing the subfactor items\n",
    "    \"\"\"\n",
    "    df[factor_name] = df[columns].mean(axis=1)\n",
    "    corr_df = df[[factor_name, 'Intention']].dropna()\n",
    "    rho, p = spearmanr(corr_df[factor_name], corr_df['Intention'])\n",
    "    print(f\"\\n--- {factor_name} ---\")\n",
    "    print(f\"Spearman's rho: {rho:.3f}\")\n",
    "    print(f\"p-value       : {p:.4g}\")\n",
    "    if p < 0.05:\n",
    "        print(\"Significant relationship (reject H₀)\")\n",
    "    else:\n",
    "        print(\"Not significant (fail to reject H₀)\")"
   ]
  },
  {
   "cell_type": "markdown",
   "id": "7dee6c50",
   "metadata": {
    "papermill": {
     "duration": 0.007825,
     "end_time": "2025-05-14T07:17:47.873804",
     "exception": false,
     "start_time": "2025-05-14T07:17:47.865979",
     "status": "completed"
    },
    "tags": []
   },
   "source": [
    "## 1. Personalization has no impact on the intention to purchase online."
   ]
  },
  {
   "cell_type": "code",
   "execution_count": 14,
   "id": "ab08561d",
   "metadata": {
    "execution": {
     "iopub.execute_input": "2025-05-14T07:17:47.947736Z",
     "iopub.status.busy": "2025-05-14T07:17:47.947066Z",
     "iopub.status.idle": "2025-05-14T07:17:47.955960Z",
     "shell.execute_reply": "2025-05-14T07:17:47.955114Z"
    },
    "papermill": {
     "duration": 0.075957,
     "end_time": "2025-05-14T07:17:47.957129",
     "exception": false,
     "start_time": "2025-05-14T07:17:47.881172",
     "status": "completed"
    },
    "tags": []
   },
   "outputs": [
    {
     "name": "stdout",
     "output_type": "stream",
     "text": [
      "\n",
      "--- Personalization ---\n",
      "Spearman's rho: 0.060\n",
      "p-value       : 0.08348\n",
      "Not significant (fail to reject H₀)\n"
     ]
    }
   ],
   "source": [
    "test_spearman_correlation(\"Personalization\", ['Personalization1', 'Personalization2'])"
   ]
  },
  {
   "cell_type": "markdown",
   "id": "acae6502",
   "metadata": {
    "papermill": {
     "duration": 0.007333,
     "end_time": "2025-05-14T07:17:47.972192",
     "exception": false,
     "start_time": "2025-05-14T07:17:47.964859",
     "status": "completed"
    },
    "tags": []
   },
   "source": [
    "## 2. word of mouth has no impact on the intention to purchase online."
   ]
  },
  {
   "cell_type": "code",
   "execution_count": 15,
   "id": "b2482ad0",
   "metadata": {
    "execution": {
     "iopub.execute_input": "2025-05-14T07:17:47.988788Z",
     "iopub.status.busy": "2025-05-14T07:17:47.988028Z",
     "iopub.status.idle": "2025-05-14T07:17:47.996850Z",
     "shell.execute_reply": "2025-05-14T07:17:47.995943Z"
    },
    "papermill": {
     "duration": 0.018349,
     "end_time": "2025-05-14T07:17:47.998115",
     "exception": false,
     "start_time": "2025-05-14T07:17:47.979766",
     "status": "completed"
    },
    "tags": []
   },
   "outputs": [
    {
     "name": "stdout",
     "output_type": "stream",
     "text": [
      "\n",
      "--- Word of Mouth ---\n",
      "Spearman's rho: 0.195\n",
      "p-value       : 1.609e-08\n",
      "Significant relationship (reject H₀)\n"
     ]
    }
   ],
   "source": [
    "test_spearman_correlation(\"Word of Mouth\", ['WordofMouthandRecommendations1', 'WordofMouthandRecommendations2'])"
   ]
  },
  {
   "cell_type": "markdown",
   "id": "33b1481e",
   "metadata": {
    "papermill": {
     "duration": 0.007376,
     "end_time": "2025-05-14T07:17:48.013120",
     "exception": false,
     "start_time": "2025-05-14T07:17:48.005744",
     "status": "completed"
    },
    "tags": []
   },
   "source": [
    "## 3. Normative Pressure has no impact on the intention to purchase online"
   ]
  },
  {
   "cell_type": "code",
   "execution_count": 16,
   "id": "099c350f",
   "metadata": {
    "execution": {
     "iopub.execute_input": "2025-05-14T07:17:48.029736Z",
     "iopub.status.busy": "2025-05-14T07:17:48.028895Z",
     "iopub.status.idle": "2025-05-14T07:17:48.037895Z",
     "shell.execute_reply": "2025-05-14T07:17:48.037107Z"
    },
    "papermill": {
     "duration": 0.018462,
     "end_time": "2025-05-14T07:17:48.039106",
     "exception": false,
     "start_time": "2025-05-14T07:17:48.020644",
     "status": "completed"
    },
    "tags": []
   },
   "outputs": [
    {
     "name": "stdout",
     "output_type": "stream",
     "text": [
      "\n",
      "--- Normative Pressure ---\n",
      "Spearman's rho: 0.111\n",
      "p-value       : 0.001367\n",
      "Significant relationship (reject H₀)\n"
     ]
    }
   ],
   "source": [
    "test_spearman_correlation(\"Normative Pressure\", ['NormativePressure1', 'NormativePressure2'])"
   ]
  },
  {
   "cell_type": "markdown",
   "id": "51380e5c",
   "metadata": {
    "papermill": {
     "duration": 0.007376,
     "end_time": "2025-05-14T07:17:48.054252",
     "exception": false,
     "start_time": "2025-05-14T07:17:48.046876",
     "status": "completed"
    },
    "tags": []
   },
   "source": [
    "## 4. Learning Curve has no impact on the intention to purchase online"
   ]
  },
  {
   "cell_type": "code",
   "execution_count": 17,
   "id": "fd4e66ce",
   "metadata": {
    "execution": {
     "iopub.execute_input": "2025-05-14T07:17:48.070695Z",
     "iopub.status.busy": "2025-05-14T07:17:48.070365Z",
     "iopub.status.idle": "2025-05-14T07:17:48.079731Z",
     "shell.execute_reply": "2025-05-14T07:17:48.078808Z"
    },
    "papermill": {
     "duration": 0.019173,
     "end_time": "2025-05-14T07:17:48.081063",
     "exception": false,
     "start_time": "2025-05-14T07:17:48.061890",
     "status": "completed"
    },
    "tags": []
   },
   "outputs": [
    {
     "name": "stdout",
     "output_type": "stream",
     "text": [
      "\n",
      "--- Learning Curve ---\n",
      "Spearman's rho: 0.221\n",
      "p-value       : 1.409e-10\n",
      "Significant relationship (reject H₀)\n"
     ]
    }
   ],
   "source": [
    "test_spearman_correlation(\"Learning Curve\", ['LearnCurve1', 'LearnCurve2'])"
   ]
  },
  {
   "cell_type": "markdown",
   "id": "f277bdee",
   "metadata": {
    "papermill": {
     "duration": 0.007468,
     "end_time": "2025-05-14T07:17:48.096417",
     "exception": false,
     "start_time": "2025-05-14T07:17:48.088949",
     "status": "completed"
    },
    "tags": []
   },
   "source": [
    "## 5. Privacy Protection has no impact on the intention to purchase online"
   ]
  },
  {
   "cell_type": "code",
   "execution_count": 18,
   "id": "a235d830",
   "metadata": {
    "execution": {
     "iopub.execute_input": "2025-05-14T07:17:48.114025Z",
     "iopub.status.busy": "2025-05-14T07:17:48.113109Z",
     "iopub.status.idle": "2025-05-14T07:17:48.122258Z",
     "shell.execute_reply": "2025-05-14T07:17:48.121403Z"
    },
    "papermill": {
     "duration": 0.018922,
     "end_time": "2025-05-14T07:17:48.123484",
     "exception": false,
     "start_time": "2025-05-14T07:17:48.104562",
     "status": "completed"
    },
    "tags": []
   },
   "outputs": [
    {
     "name": "stdout",
     "output_type": "stream",
     "text": [
      "\n",
      "--- Privacy Protection ---\n",
      "Spearman's rho: 0.107\n",
      "p-value       : 0.00207\n",
      "Significant relationship (reject H₀)\n"
     ]
    }
   ],
   "source": [
    "test_spearman_correlation(\"Privacy Protection\", ['PrivacyProtection1', 'PrivacyProtection2'])"
   ]
  },
  {
   "cell_type": "markdown",
   "id": "9056de25",
   "metadata": {
    "papermill": {
     "duration": 0.007658,
     "end_time": "2025-05-14T07:17:48.139086",
     "exception": false,
     "start_time": "2025-05-14T07:17:48.131428",
     "status": "completed"
    },
    "tags": []
   },
   "source": [
    "## 6. Perceived risk does not mediate the relationship between social influence and intention to purchase online."
   ]
  },
  {
   "cell_type": "markdown",
   "id": "2796f01c",
   "metadata": {
    "papermill": {
     "duration": 0.007693,
     "end_time": "2025-05-14T07:17:48.154590",
     "exception": false,
     "start_time": "2025-05-14T07:17:48.146897",
     "status": "completed"
    },
    "tags": []
   },
   "source": [
    "Intention = β₀ + β₁*PEOU + β₂*MaritalStatus + β₃*(PEOU × MaritalStatus) + error"
   ]
  },
  {
   "cell_type": "code",
   "execution_count": 19,
   "id": "61932feb",
   "metadata": {
    "execution": {
     "iopub.execute_input": "2025-05-14T07:17:48.171657Z",
     "iopub.status.busy": "2025-05-14T07:17:48.171317Z",
     "iopub.status.idle": "2025-05-14T07:17:48.205104Z",
     "shell.execute_reply": "2025-05-14T07:17:48.204272Z"
    },
    "papermill": {
     "duration": 0.043974,
     "end_time": "2025-05-14T07:17:48.206572",
     "exception": false,
     "start_time": "2025-05-14T07:17:48.162598",
     "status": "completed"
    },
    "tags": []
   },
   "outputs": [
    {
     "name": "stdout",
     "output_type": "stream",
     "text": [
      "----- Mediation Test Summary -----\n",
      "Step 1 (c):  SocialInfluence → Intention   coef = 0.304,  p = 9.868e-24\n",
      "Step 2 (a):  SocialInfluence → Risk        coef = 0.271,  p = 8.842e-12\n",
      "Step 3 (b):  Risk → Intention               coef = 0.342,  p = 6.533e-44\n",
      "Step 3 (c’): SocialInfluence → Intention   coef = 0.211, p = 1.21e-14\n",
      "\n",
      "Partial mediation — Reject H₀\n"
     ]
    }
   ],
   "source": [
    "from statsmodels.formula.api import ols\n",
    "\n",
    "# Define variable groups\n",
    "social_influence_cols = [\n",
    "    'WordofMouthandRecommendations1', 'WordofMouthandRecommendations2',\n",
    "    'SocialMediaPosts/Influence1', 'SocialMediaPosts/Influence2',\n",
    "    'OnlineReviewsandRatings1', 'OnlineReviewsandRatings2',\n",
    "    'SocialProof1', 'SocialProof2',\n",
    "    'NormativePressure1', 'NormativePressure2',\n",
    "    'InformationSharing1', 'InformationSharing2'\n",
    "]\n",
    "\n",
    "risk_cols = ['PerceivedRisk1', 'PerceivedRisk2']\n",
    "\n",
    "intention_cols = [\n",
    "    'IntentiontoPurchaseOnline1',\n",
    "    'IntentiontoPurchaseOnline2',\n",
    "    'IntentiontoPurchaseOnline3',\n",
    "    'IntentiontoPurchaseOnline4'\n",
    "]\n",
    "\n",
    "# Compute mean scores\n",
    "df['SocialInfluence'] = df[social_influence_cols].mean(axis=1)\n",
    "df['Risk'] = df[risk_cols].mean(axis=1)\n",
    "df['Intention'] = df[intention_cols].mean(axis=1)\n",
    "\n",
    "# Drop missing values\n",
    "med_df = df[['SocialInfluence', 'Risk', 'Intention']].dropna()\n",
    "\n",
    "# Step 1: Total effect (c path)\n",
    "model1 = ols(\"Intention ~ SocialInfluence\", data=med_df).fit()\n",
    "c_path = model1.params['SocialInfluence']\n",
    "c_pval = model1.pvalues['SocialInfluence']\n",
    "\n",
    "# Step 2: a path\n",
    "model2 = ols(\"Risk ~ SocialInfluence\", data=med_df).fit()\n",
    "a_path = model2.params['SocialInfluence']\n",
    "a_pval = model2.pvalues['SocialInfluence']\n",
    "\n",
    "# Step 3: Direct + Mediator (c' and b paths)\n",
    "model3 = ols(\"Intention ~ SocialInfluence + Risk\", data=med_df).fit()\n",
    "c_prime = model3.params['SocialInfluence']\n",
    "b_path = model3.params['Risk']\n",
    "c_prime_pval = model3.pvalues['SocialInfluence']\n",
    "b_pval = model3.pvalues['Risk']\n",
    "\n",
    "# Output results\n",
    "print(\"----- Mediation Test Summary -----\")\n",
    "print(f\"Step 1 (c):  SocialInfluence → Intention   coef = {c_path:.3f},  p = {c_pval:.4g}\")\n",
    "print(f\"Step 2 (a):  SocialInfluence → Risk        coef = {a_path:.3f},  p = {a_pval:.4g}\")\n",
    "print(f\"Step 3 (b):  Risk → Intention               coef = {b_path:.3f},  p = {b_pval:.4g}\")\n",
    "print(f\"Step 3 (c’): SocialInfluence → Intention   coef = {c_prime:.3f}, p = {c_prime_pval:.4g}\")\n",
    "\n",
    "# Interpret mediation\n",
    "if a_pval < 0.05 and b_pval < 0.05:\n",
    "    if c_prime_pval < 0.05 and abs(c_prime) < abs(c_path):\n",
    "        print(\"\\nPartial mediation — Reject H₀\")\n",
    "    elif c_prime_pval >= 0.05:\n",
    "        print(\"\\nFull mediation — Reject H₀\")\n",
    "    else:\n",
    "        print(\"\\nNo mediation — Fail to reject H₀\")\n",
    "else:\n",
    "    print(\"\\nNo mediation — Fail to reject H₀\")\n"
   ]
  },
  {
   "cell_type": "markdown",
   "id": "0886e87f",
   "metadata": {
    "papermill": {
     "duration": 0.008224,
     "end_time": "2025-05-14T07:17:48.222986",
     "exception": false,
     "start_time": "2025-05-14T07:17:48.214762",
     "status": "completed"
    },
    "tags": []
   },
   "source": [
    "##  7. Age does not moderate the relationship between Perceived Usefulness and Intention to Purchase Online."
   ]
  },
  {
   "cell_type": "code",
   "execution_count": 20,
   "id": "09e9ac8c",
   "metadata": {
    "execution": {
     "iopub.execute_input": "2025-05-14T07:17:48.240279Z",
     "iopub.status.busy": "2025-05-14T07:17:48.239516Z",
     "iopub.status.idle": "2025-05-14T07:17:48.263890Z",
     "shell.execute_reply": "2025-05-14T07:17:48.262967Z"
    },
    "papermill": {
     "duration": 0.034719,
     "end_time": "2025-05-14T07:17:48.265497",
     "exception": false,
     "start_time": "2025-05-14T07:17:48.230778",
     "status": "completed"
    },
    "tags": []
   },
   "outputs": [
    {
     "name": "stdout",
     "output_type": "stream",
     "text": [
      "0.01327596536818294\n",
      "\n",
      "Age significantly moderates the relationship (Reject H₀)\n"
     ]
    }
   ],
   "source": [
    "import statsmodels.formula.api as smf\n",
    "\n",
    "# Define columns\n",
    "pu_columns = [\n",
    "    'ProductAvailability1', 'ProductAvailability2',\n",
    "    'Convenience1', 'Convenience2',\n",
    "    'Cost-effectiveness1', 'Cost-effectiveness2',\n",
    "    'InformationAccessibility1', 'InformationAccessibility2',\n",
    "    'Personalization1', 'Personalization2'\n",
    "]\n",
    "intention_columns = [\n",
    "    'IntentiontoPurchaseOnline1',\n",
    "    'IntentiontoPurchaseOnline2',\n",
    "    'IntentiontoPurchaseOnline3',\n",
    "    'IntentiontoPurchaseOnline4'\n",
    "]\n",
    "\n",
    "# Compute averages\n",
    "df['PU'] = df[pu_columns].mean(axis=1)\n",
    "df['Intention'] = df[intention_columns].mean(axis=1)\n",
    "\n",
    "# Ensure age is numeric (convert if needed)\n",
    "df['Age'] = pd.to_numeric(df['age'], errors='coerce')\n",
    "\n",
    "# Drop missing values\n",
    "mod_df = df[['PU', 'Age', 'Intention']].dropna()\n",
    "\n",
    "# Create interaction term\n",
    "mod_df['PUxAge'] = mod_df['PU'] * mod_df['Age']\n",
    "\n",
    "# Regression model with interaction\n",
    "model = smf.ols(\"Intention ~ PU + Age + PUxAge\", data=mod_df).fit()\n",
    "\n",
    "# Interpretation\n",
    "pval_interaction = model.pvalues['PUxAge']\n",
    "print(pval_interaction)\n",
    "if pval_interaction < 0.05:\n",
    "    print(\"\\nAge significantly moderates the relationship (Reject H₀)\")\n",
    "else:\n",
    "    print(\"\\nAge does NOT significantly moderate the relationship (Fail to reject H₀)\")"
   ]
  },
  {
   "cell_type": "markdown",
   "id": "7087946f",
   "metadata": {
    "papermill": {
     "duration": 0.007778,
     "end_time": "2025-05-14T07:17:48.281632",
     "exception": false,
     "start_time": "2025-05-14T07:17:48.273854",
     "status": "completed"
    },
    "tags": []
   },
   "source": [
    "## 8. Marital status does not moderate the relationship between Perceived Ease of Use (PEOU) and Intention to Purchase Online."
   ]
  },
  {
   "cell_type": "code",
   "execution_count": 21,
   "id": "056e8e33",
   "metadata": {
    "execution": {
     "iopub.execute_input": "2025-05-14T07:17:48.298951Z",
     "iopub.status.busy": "2025-05-14T07:17:48.298179Z",
     "iopub.status.idle": "2025-05-14T07:17:48.321847Z",
     "shell.execute_reply": "2025-05-14T07:17:48.320895Z"
    },
    "papermill": {
     "duration": 0.03377,
     "end_time": "2025-05-14T07:17:48.323236",
     "exception": false,
     "start_time": "2025-05-14T07:17:48.289466",
     "status": "completed"
    },
    "tags": []
   },
   "outputs": [
    {
     "name": "stdout",
     "output_type": "stream",
     "text": [
      "pval: 0.1491320561538677\n",
      "\n",
      "No significant moderation by marital status (Fail to reject H₀)\n"
     ]
    }
   ],
   "source": [
    "# Define PEOU columns\n",
    "peou_cols = [\n",
    "    'EaseofNavigation1', 'EaseofNavigation2',\n",
    "    'LearnCurve1', 'LearnCurve2',\n",
    "    'ClarityofInstructions1', 'ClarityofInstructions2',\n",
    "    'ResponseTime1', 'ResponseTime2',\n",
    "    'ErrorHandling1', 'ErrorHandling2'\n",
    "]\n",
    "\n",
    "# Intention columns\n",
    "intention_cols = [\n",
    "    'IntentiontoPurchaseOnline1',\n",
    "    'IntentiontoPurchaseOnline2',\n",
    "    'IntentiontoPurchaseOnline3',\n",
    "    'IntentiontoPurchaseOnline4'\n",
    "]\n",
    "\n",
    "# Compute averages\n",
    "df['PEOU'] = df[peou_cols].mean(axis=1)\n",
    "df['Intention'] = df[intention_cols].mean(axis=1)\n",
    "\n",
    "# Encode Marital Status (you may already have dummy columns, if not do this)\n",
    "if 'marital_status_Married' not in df.columns:\n",
    "    df['Married'] = df['marital_status_Married'] = df['marital_status'].apply(lambda x: 1 if x == 'Married' else 0)\n",
    "\n",
    "# Drop missing\n",
    "mod_df = df[['PEOU', 'marital_status_Married', 'Intention']].dropna()\n",
    "\n",
    "# Create interaction term\n",
    "mod_df['PEOUxMarried'] = mod_df['PEOU'] * mod_df['marital_status_Married']\n",
    "\n",
    "# Fit the moderation model\n",
    "model = smf.ols(\"Intention ~ PEOU + marital_status_Married + PEOUxMarried\", data=mod_df).fit()\n",
    "\n",
    "# Interpretation logic\n",
    "pval_interaction = model.pvalues['PEOUxMarried']\n",
    "print(\"pval:\" ,pval_interaction)\n",
    "if pval_interaction < 0.05:\n",
    "    print(\"\\nMarital status significantly moderates the relationship (Reject H₀)\")\n",
    "else:\n",
    "    print(\"\\nNo significant moderation by marital status (Fail to reject H₀)\")"
   ]
  },
  {
   "cell_type": "markdown",
   "id": "b30bba9f",
   "metadata": {
    "papermill": {
     "duration": 0.007936,
     "end_time": "2025-05-14T07:17:48.339434",
     "exception": false,
     "start_time": "2025-05-14T07:17:48.331498",
     "status": "completed"
    },
    "tags": []
   },
   "source": [
    "## 9. Gender does not moderate the relationship between PU and Intention."
   ]
  },
  {
   "cell_type": "code",
   "execution_count": 22,
   "id": "8fb417be",
   "metadata": {
    "execution": {
     "iopub.execute_input": "2025-05-14T07:17:48.357008Z",
     "iopub.status.busy": "2025-05-14T07:17:48.356225Z",
     "iopub.status.idle": "2025-05-14T07:17:48.378585Z",
     "shell.execute_reply": "2025-05-14T07:17:48.377750Z"
    },
    "papermill": {
     "duration": 0.032587,
     "end_time": "2025-05-14T07:17:48.379998",
     "exception": false,
     "start_time": "2025-05-14T07:17:48.347411",
     "status": "completed"
    },
    "tags": []
   },
   "outputs": [
    {
     "name": "stdout",
     "output_type": "stream",
     "text": [
      "\n",
      "No significant moderation by gender (Fail to reject H₀)\n"
     ]
    }
   ],
   "source": [
    "# Define columns for Perceived Usefulness (PU)\n",
    "pu_cols = [\n",
    "    'ProductAvailability1', 'ProductAvailability2',\n",
    "    'Convenience1', 'Convenience2',\n",
    "    'Cost-effectiveness1', 'Cost-effectiveness2',\n",
    "    'InformationAccessibility1', 'InformationAccessibility2',\n",
    "    'Personalization1', 'Personalization2'\n",
    "]\n",
    "\n",
    "# Define Intention columns\n",
    "intention_cols = [\n",
    "    'IntentiontoPurchaseOnline1',\n",
    "    'IntentiontoPurchaseOnline2',\n",
    "    'IntentiontoPurchaseOnline3',\n",
    "    'IntentiontoPurchaseOnline4'\n",
    "]\n",
    "\n",
    "# Calculate averages\n",
    "df['PU'] = df[pu_cols].mean(axis=1)\n",
    "df['Intention'] = df[intention_cols].mean(axis=1)\n",
    "\n",
    "# Ensure gender is binary coded (e.g., Male = 1, Female = 0)\n",
    "if 'gender_Male' not in df.columns:\n",
    "    df['gender_Male'] = df['gender'].apply(lambda x: 1 if x.lower() == 'male' else 0)\n",
    "\n",
    "# Drop missing\n",
    "mod_df = df[['PU', 'Intention', 'gender_Male']].dropna()\n",
    "\n",
    "# Create interaction term\n",
    "mod_df['PUxGender'] = mod_df['PU'] * mod_df['gender_Male']\n",
    "\n",
    "# Fit the moderation model\n",
    "model = smf.ols(\"Intention ~ PU + gender_Male + PUxGender\", data=mod_df).fit()\n",
    "\n",
    "# Interpret the interaction term\n",
    "pval_interaction = model.pvalues['PUxGender']\n",
    "if pval_interaction < 0.05:\n",
    "    print(\"\\nGender significantly moderates the relationship (Reject H₀)\")\n",
    "else:\n",
    "    print(\"\\nNo significant moderation by gender (Fail to reject H₀)\")"
   ]
  },
  {
   "cell_type": "markdown",
   "id": "e39e1d1f",
   "metadata": {
    "papermill": {
     "duration": 0.008103,
     "end_time": "2025-05-14T07:17:48.396911",
     "exception": false,
     "start_time": "2025-05-14T07:17:48.388808",
     "status": "completed"
    },
    "tags": []
   },
   "source": [
    "## 10. Convenience has no impact on the intention to purchase online"
   ]
  },
  {
   "cell_type": "code",
   "execution_count": 23,
   "id": "1bf704c4",
   "metadata": {
    "execution": {
     "iopub.execute_input": "2025-05-14T07:17:48.415029Z",
     "iopub.status.busy": "2025-05-14T07:17:48.414434Z",
     "iopub.status.idle": "2025-05-14T07:17:48.423754Z",
     "shell.execute_reply": "2025-05-14T07:17:48.422796Z"
    },
    "papermill": {
     "duration": 0.019748,
     "end_time": "2025-05-14T07:17:48.425003",
     "exception": false,
     "start_time": "2025-05-14T07:17:48.405255",
     "status": "completed"
    },
    "tags": []
   },
   "outputs": [
    {
     "name": "stdout",
     "output_type": "stream",
     "text": [
      "\n",
      "--- Convenience ---\n",
      "Spearman's rho: 0.240\n",
      "p-value       : 2.991e-12\n",
      "Significant relationship (reject H₀)\n"
     ]
    }
   ],
   "source": [
    "test_spearman_correlation(\"Convenience\", ['Convenience1', 'Convenience2'])"
   ]
  }
 ],
 "metadata": {
  "kaggle": {
   "accelerator": "none",
   "dataSources": [
    {
     "datasetId": 7390461,
     "sourceId": 11793769,
     "sourceType": "datasetVersion"
    }
   ],
   "dockerImageVersionId": 31040,
   "isGpuEnabled": false,
   "isInternetEnabled": false,
   "language": "python",
   "sourceType": "notebook"
  },
  "kernelspec": {
   "display_name": "Python 3",
   "language": "python",
   "name": "python3"
  },
  "language_info": {
   "codemirror_mode": {
    "name": "ipython",
    "version": 3
   },
   "file_extension": ".py",
   "mimetype": "text/x-python",
   "name": "python",
   "nbconvert_exporter": "python",
   "pygments_lexer": "ipython3",
   "version": "3.11.11"
  },
  "papermill": {
   "default_parameters": {},
   "duration": 10.891192,
   "end_time": "2025-05-14T07:17:49.051785",
   "environment_variables": {},
   "exception": null,
   "input_path": "__notebook__.ipynb",
   "output_path": "__notebook__.ipynb",
   "parameters": {},
   "start_time": "2025-05-14T07:17:38.160593",
   "version": "2.6.0"
  }
 },
 "nbformat": 4,
 "nbformat_minor": 5
}
