{
 "cells": [
  {
   "cell_type": "markdown",
   "id": "5086c595",
   "metadata": {
    "papermill": {
     "duration": 0.007609,
     "end_time": "2025-05-13T20:42:02.943502",
     "exception": false,
     "start_time": "2025-05-13T20:42:02.935893",
     "status": "completed"
    },
    "tags": []
   },
   "source": [
    "<h1 style=\"color:lightblue; text-align:center;\">Hypothesis Testing</h1>\n"
   ]
  },
  {
   "cell_type": "code",
   "execution_count": 1,
   "id": "203a6a76",
   "metadata": {
    "_cell_guid": "b1076dfc-b9ad-4769-8c92-a6c4dae69d19",
    "_uuid": "8f2839f25d086af736a60e9eeb907d3b93b6e0e5",
    "execution": {
     "iopub.execute_input": "2025-05-13T20:42:02.959594Z",
     "iopub.status.busy": "2025-05-13T20:42:02.959224Z",
     "iopub.status.idle": "2025-05-13T20:42:06.475418Z",
     "shell.execute_reply": "2025-05-13T20:42:06.474296Z"
    },
    "papermill": {
     "duration": 3.526812,
     "end_time": "2025-05-13T20:42:06.477294",
     "exception": false,
     "start_time": "2025-05-13T20:42:02.950482",
     "status": "completed"
    },
    "tags": []
   },
   "outputs": [],
   "source": [
    "import numpy as np\n",
    "import pandas as pd\n",
    "from scipy.stats import spearmanr"
   ]
  },
  {
   "cell_type": "code",
   "execution_count": 2,
   "id": "f659c320",
   "metadata": {
    "execution": {
     "iopub.execute_input": "2025-05-13T20:42:06.492412Z",
     "iopub.status.busy": "2025-05-13T20:42:06.491878Z",
     "iopub.status.idle": "2025-05-13T20:42:06.540611Z",
     "shell.execute_reply": "2025-05-13T20:42:06.539574Z"
    },
    "papermill": {
     "duration": 0.057967,
     "end_time": "2025-05-13T20:42:06.542298",
     "exception": false,
     "start_time": "2025-05-13T20:42:06.484331",
     "status": "completed"
    },
    "tags": []
   },
   "outputs": [
    {
     "name": "stdout",
     "output_type": "stream",
     "text": [
      "Column names in the dataset:\n",
      "age\n",
      "education\n",
      "used_before\n",
      "profession\n",
      "EaseofNavigation1\n",
      "EaseofNavigation2\n",
      "LearnCurve1\n",
      "LearnCurve2\n",
      "ClarityofInstructions1\n",
      "ClarityofInstructions2\n",
      "ResponseTime1\n",
      "ResponseTime2\n",
      "ErrorHandling1\n",
      "ErrorHandling2\n",
      "ProductAvailability1\n",
      "ProductAvailability2\n",
      "Convenience1\n",
      "Convenience2\n",
      "Cost-effectiveness1\n",
      "Cost-effectiveness2\n",
      "InformationAccessibility1\n",
      "InformationAccessibility2\n",
      "Personalization1\n",
      "Personalization2\n",
      "PrivacyProtection1\n",
      "PrivacyProtection2\n",
      "PaymentSecurity1\n",
      "PaymentSecurity2\n",
      "TransparentPolicies1\n",
      "TransparentPolicies2\n",
      "WordofMouthandRecommendations1\n",
      "WordofMouthandRecommendations2\n",
      "SocialMediaPosts/Influence1\n",
      "SocialMediaPosts/Influence2\n",
      "OnlineReviewsandRatings1\n",
      "OnlineReviewsandRatings2\n",
      "SocialProof1\n",
      "SocialProof2\n",
      "NormativePressure1\n",
      "NormativePressure2\n",
      "InformationSharing1\n",
      "InformationSharing2\n",
      "Attitude1\n",
      "Attitude2\n",
      "PerceivedRisk1\n",
      "PerceivedRisk2\n",
      "IntentiontoPurchaseOnline1\n",
      "IntentiontoPurchaseOnline2\n",
      "IntentiontoPurchaseOnline3\n",
      "IntentiontoPurchaseOnline4\n",
      "gender_Female\n",
      "gender_Male\n",
      "marital_status_Married\n",
      "marital_status_Single\n",
      "Have you made online purchases during crisis time?_No\n",
      "Have you made online purchases during crisis time?_Yes\n",
      "platform_general_clean\n",
      "general_aliexpress\n",
      "general_daraz\n",
      "general_ebay\n",
      "general_ikman\n",
      "general_kapruka\n",
      "general_other\n",
      "general_takas\n",
      "general_unknown\n",
      "general_wishque\n",
      "general_wow\n",
      "platform_auto_clean\n",
      "auto_amazon\n",
      "auto_autolanka\n",
      "auto_ikmnan\n",
      "auto_lankavehicle\n",
      "auto_other\n",
      "auto_patpat\n",
      "auto_pricelanka\n",
      "auto_riyasewana\n",
      "auto_unknown\n",
      "platform_pharmacy_clean\n",
      "pharmacy_ceymed\n",
      "pharmacy_epharma\n",
      "pharmacy_healthgurd\n",
      "pharmacy_healthnet\n",
      "pharmacy_nearby\n",
      "pharmacy_onlinepharmacy\n",
      "pharmacy_other\n",
      "pharmacy_unknown\n",
      "platform_fashion_clean\n",
      "fashion_fashionbug\n",
      "fashion_gflock\n",
      "fashion_kapruka\n",
      "fashion_kellyfelder\n",
      "fashion_midnightdivas\n",
      "fashion_mimosa\n",
      "fashion_odel\n",
      "fashion_other\n",
      "fashion_springandsummer\n",
      "fashion_thilakawardana\n",
      "fashion_unknown\n",
      "platform_grocery_clean\n",
      "grocery_arpico\n",
      "grocery_cinnamonhotel\n",
      "grocery_glomark\n",
      "grocery_keels\n",
      "grocery_other\n",
      "grocery_pickmefoods\n",
      "grocery_ubereats\n",
      "grocery_unknown\n"
     ]
    }
   ],
   "source": [
    "# Load the preprocessed dataset\n",
    "df = pd.read_csv(\"/kaggle/input/online-purchase-intentions-during-crises/preprocessed_dataset.csv\")\n",
    "\n",
    "print(\"Column names in the dataset:\")\n",
    "for col in df.columns:\n",
    "    print(col)"
   ]
  },
  {
   "cell_type": "markdown",
   "id": "751f883a",
   "metadata": {
    "papermill": {
     "duration": 0.006223,
     "end_time": "2025-05-13T20:42:06.555365",
     "exception": false,
     "start_time": "2025-05-13T20:42:06.549142",
     "status": "completed"
    },
    "tags": []
   },
   "source": [
    "# Perceived ease of use has no impact on intention to purchase."
   ]
  },
  {
   "cell_type": "code",
   "execution_count": 3,
   "id": "9bb08dd6",
   "metadata": {
    "execution": {
     "iopub.execute_input": "2025-05-13T20:42:06.570417Z",
     "iopub.status.busy": "2025-05-13T20:42:06.569583Z",
     "iopub.status.idle": "2025-05-13T20:42:06.620469Z",
     "shell.execute_reply": "2025-05-13T20:42:06.619425Z"
    },
    "papermill": {
     "duration": 0.060222,
     "end_time": "2025-05-13T20:42:06.622151",
     "exception": false,
     "start_time": "2025-05-13T20:42:06.561929",
     "status": "completed"
    },
    "tags": []
   },
   "outputs": [
    {
     "name": "stdout",
     "output_type": "stream",
     "text": [
      "Spearman's rho: 0.19360578301736173\n",
      "p-value: 2.0754481478398974e-08\n",
      "Result: Reject H₀ → Significant relationship exists.\n"
     ]
    }
   ],
   "source": [
    "# Perceived ease of use has no impact on intention to purchase.\n",
    "\n",
    "# Define the columns related to Perceived Ease of Use (PEOU)\n",
    "peou_columns = [\n",
    "    'EaseofNavigation1', 'EaseofNavigation2',\n",
    "    'LearnCurve1', 'LearnCurve2',\n",
    "    'ClarityofInstructions1', 'ClarityofInstructions2',\n",
    "    'ResponseTime1', 'ResponseTime2',\n",
    "    'ErrorHandling1', 'ErrorHandling2'\n",
    "]\n",
    "\n",
    "# Define the columns related to Intention to Purchase Online\n",
    "intention_columns = [\n",
    "    'IntentiontoPurchaseOnline1',\n",
    "    'IntentiontoPurchaseOnline2',\n",
    "    'IntentiontoPurchaseOnline3',\n",
    "    'IntentiontoPurchaseOnline4'\n",
    "]\n",
    "\n",
    "# Compute the average score for each participant\n",
    "df['PEOU'] = df[peou_columns].mean(axis=1)\n",
    "df['Intention'] = df[intention_columns].mean(axis=1)\n",
    "\n",
    "# Drop missing values\n",
    "correlation_df = df[['PEOU', 'Intention']].dropna()\n",
    "\n",
    "# Compute Spearman rank correlation\n",
    "spearman_corr, p_value = spearmanr(correlation_df['PEOU'], correlation_df['Intention'])\n",
    "\n",
    "# Display the result\n",
    "print(\"Spearman's rho:\", spearman_corr)\n",
    "print(\"p-value:\", p_value)\n",
    "\n",
    "if p_value < 0.05:\n",
    "    print(\"Result: Reject H₀ → Significant relationship exists.\")\n",
    "else:\n",
    "    print(\"Result: Fail to reject H₀ → No significant relationship.\")"
   ]
  },
  {
   "cell_type": "markdown",
   "id": "59b9babe",
   "metadata": {
    "papermill": {
     "duration": 0.006743,
     "end_time": "2025-05-13T20:42:06.636233",
     "exception": false,
     "start_time": "2025-05-13T20:42:06.629490",
     "status": "completed"
    },
    "tags": []
   },
   "source": [
    "# Perceived usefulness has no impact on the intention to purchase online."
   ]
  },
  {
   "cell_type": "code",
   "execution_count": 4,
   "id": "c42693c1",
   "metadata": {
    "execution": {
     "iopub.execute_input": "2025-05-13T20:42:06.651743Z",
     "iopub.status.busy": "2025-05-13T20:42:06.651136Z",
     "iopub.status.idle": "2025-05-13T20:42:06.665580Z",
     "shell.execute_reply": "2025-05-13T20:42:06.664658Z"
    },
    "papermill": {
     "duration": 0.024347,
     "end_time": "2025-05-13T20:42:06.667138",
     "exception": false,
     "start_time": "2025-05-13T20:42:06.642791",
     "status": "completed"
    },
    "tags": []
   },
   "outputs": [
    {
     "name": "stdout",
     "output_type": "stream",
     "text": [
      "Spearman's rho: 0.19027769499254027\n",
      "p-value: 3.6413919408969154e-08\n",
      "Result: Reject H₀ → Significant relationship exists.\n"
     ]
    }
   ],
   "source": [
    "# Perceived usefulness has no impact on the intention to purchase online.\n",
    "\n",
    "\n",
    "# Correct PU columns (case-sensitive)\n",
    "pu_columns = [\n",
    "    'ProductAvailability1', 'ProductAvailability2',\n",
    "    'Convenience1', 'Convenience2','Cost-effectiveness1','Cost-effectiveness2',\n",
    "    'InformationAccessibility1', 'InformationAccessibility2',\n",
    "    'Personalization1', 'Personalization2'\n",
    "]\n",
    "\n",
    "# Compute averages\n",
    "df['PU'] = df[pu_columns].mean(axis=1)\n",
    "df['Intention'] = df[intention_columns].mean(axis=1)\n",
    "\n",
    "# Drop missing\n",
    "correlation_df = df[['PU', 'Intention']].dropna()\n",
    "\n",
    "# Spearman correlation\n",
    "spearman_corr, p_value = spearmanr(correlation_df['PU'], correlation_df['Intention'])\n",
    "\n",
    "# Output\n",
    "print(\"Spearman's rho:\", spearman_corr)\n",
    "print(\"p-value:\", p_value)\n",
    "\n",
    "if p_value < 0.05:\n",
    "    print(\"Result: Reject H₀ → Significant relationship exists.\")\n",
    "else:\n",
    "    print(\"Result: Fail to reject H₀ → No significant relationship.\")"
   ]
  },
  {
   "cell_type": "markdown",
   "id": "35bfc547",
   "metadata": {
    "papermill": {
     "duration": 0.006613,
     "end_time": "2025-05-13T20:42:06.680752",
     "exception": false,
     "start_time": "2025-05-13T20:42:06.674139",
     "status": "completed"
    },
    "tags": []
   },
   "source": [
    "# Having structural assurance has no impact on the intention to make an online purchase."
   ]
  },
  {
   "cell_type": "code",
   "execution_count": 5,
   "id": "87c16b20",
   "metadata": {
    "execution": {
     "iopub.execute_input": "2025-05-13T20:42:06.696119Z",
     "iopub.status.busy": "2025-05-13T20:42:06.695823Z",
     "iopub.status.idle": "2025-05-13T20:42:06.709814Z",
     "shell.execute_reply": "2025-05-13T20:42:06.708823Z"
    },
    "papermill": {
     "duration": 0.023502,
     "end_time": "2025-05-13T20:42:06.711292",
     "exception": false,
     "start_time": "2025-05-13T20:42:06.687790",
     "status": "completed"
    },
    "tags": []
   },
   "outputs": [
    {
     "name": "stdout",
     "output_type": "stream",
     "text": [
      "Spearman's rho (SA vs Intention): 0.18097510121525173\n",
      "p-value: 1.6632496435783662e-07\n",
      "Result: Reject H₀ → Significant relationship exists between Structural Assurance and Intention to Purchase.\n"
     ]
    }
   ],
   "source": [
    "# Having structural assurance has no impact on the intention to make an online purchase.\n",
    "\n",
    "# Structural Assurance columns\n",
    "sa_columns = [\n",
    "    'PrivacyProtection1', 'PrivacyProtection2',\n",
    "    'PaymentSecurity1', 'PaymentSecurity2',\n",
    "    'TransparentPolicies1', 'TransparentPolicies2'\n",
    "]\n",
    "\n",
    "# Compute mean scores\n",
    "df['SA'] = df[sa_columns].mean(axis=1)\n",
    "df['Intention'] = df[intention_columns].mean(axis=1)\n",
    "\n",
    "# Drop missing values\n",
    "correlation_df = df[['SA', 'Intention']].dropna()\n",
    "\n",
    "# Compute Spearman rank correlation\n",
    "spearman_corr, p_value = spearmanr(correlation_df['SA'], correlation_df['Intention'])\n",
    "\n",
    "# Display the result\n",
    "print(\"Spearman's rho (SA vs Intention):\", spearman_corr)\n",
    "print(\"p-value:\", p_value)\n",
    "\n",
    "# Interpretation\n",
    "if p_value < 0.05:\n",
    "    print(\"Result: Reject H₀ → Significant relationship exists between Structural Assurance and Intention to Purchase.\")\n",
    "else:\n",
    "    print(\"Result: Fail to reject H₀ → No significant relationship.\")"
   ]
  },
  {
   "cell_type": "markdown",
   "id": "d2fc0692",
   "metadata": {
    "papermill": {
     "duration": 0.007401,
     "end_time": "2025-05-13T20:42:06.725490",
     "exception": false,
     "start_time": "2025-05-13T20:42:06.718089",
     "status": "completed"
    },
    "tags": []
   },
   "source": [
    "# Social influence has no impact on the intention to purchase online."
   ]
  },
  {
   "cell_type": "code",
   "execution_count": 6,
   "id": "5346945b",
   "metadata": {
    "execution": {
     "iopub.execute_input": "2025-05-13T20:42:06.741419Z",
     "iopub.status.busy": "2025-05-13T20:42:06.741079Z",
     "iopub.status.idle": "2025-05-13T20:42:06.755258Z",
     "shell.execute_reply": "2025-05-13T20:42:06.754210Z"
    },
    "papermill": {
     "duration": 0.024351,
     "end_time": "2025-05-13T20:42:06.756995",
     "exception": false,
     "start_time": "2025-05-13T20:42:06.732644",
     "status": "completed"
    },
    "tags": []
   },
   "outputs": [
    {
     "name": "stdout",
     "output_type": "stream",
     "text": [
      "Spearman's rho (Social Influence vs Intention): 0.257216811279178\n",
      "p-value: 6.218716323440867e-14\n",
      "Result: Reject H₀ → Significant relationship between Social Influence and Intention to Purchase.\n"
     ]
    }
   ],
   "source": [
    "# Social influence has no impact on the intention to purchase online.\n",
    "\n",
    "# Define columns related to Social Influence\n",
    "social_influence_columns = [\n",
    "    'WordofMouthandRecommendations1', 'WordofMouthandRecommendations2',\n",
    "    'SocialMediaPosts/Influence1', 'SocialMediaPosts/Influence2',\n",
    "    'OnlineReviewsandRatings1', 'OnlineReviewsandRatings2',\n",
    "    'SocialProof1', 'SocialProof2',\n",
    "    'NormativePressure1', 'NormativePressure2',\n",
    "    'InformationSharing1', 'InformationSharing2'\n",
    "]\n",
    "\n",
    "# Compute average scores\n",
    "df['SocialInfluence'] = df[social_influence_columns].mean(axis=1)\n",
    "df['Intention'] = df[intention_columns].mean(axis=1)\n",
    "\n",
    "# Drop missing values\n",
    "correlation_df = df[['SocialInfluence', 'Intention']].dropna()\n",
    "\n",
    "# Compute Spearman rank correlation\n",
    "spearman_corr, p_value = spearmanr(correlation_df['SocialInfluence'], correlation_df['Intention'])\n",
    "\n",
    "# Display the result\n",
    "print(\"Spearman's rho (Social Influence vs Intention):\", spearman_corr)\n",
    "print(\"p-value:\", p_value)\n",
    "\n",
    "# Interpretation\n",
    "if p_value < 0.05:\n",
    "    print(\"Result: Reject H₀ → Significant relationship between Social Influence and Intention to Purchase.\")\n",
    "else:\n",
    "    print(\"Result: Fail to reject H₀ → No significant relationship.\")"
   ]
  },
  {
   "cell_type": "markdown",
   "id": "2d9d5966",
   "metadata": {
    "papermill": {
     "duration": 0.006864,
     "end_time": "2025-05-13T20:42:06.770979",
     "exception": false,
     "start_time": "2025-05-13T20:42:06.764115",
     "status": "completed"
    },
    "tags": []
   },
   "source": [
    "# The attitude towards online shopping does not mediate the relationship between perceived ease of use and the intention to purchase online."
   ]
  },
  {
   "cell_type": "code",
   "execution_count": 7,
   "id": "6ad0acb2",
   "metadata": {
    "execution": {
     "iopub.execute_input": "2025-05-13T20:42:06.786620Z",
     "iopub.status.busy": "2025-05-13T20:42:06.786293Z",
     "iopub.status.idle": "2025-05-13T20:42:07.652255Z",
     "shell.execute_reply": "2025-05-13T20:42:07.651233Z"
    },
    "papermill": {
     "duration": 0.876071,
     "end_time": "2025-05-13T20:42:07.654189",
     "exception": false,
     "start_time": "2025-05-13T20:42:06.778118",
     "status": "completed"
    },
    "tags": []
   },
   "outputs": [
    {
     "name": "stdout",
     "output_type": "stream",
     "text": [
      "\n",
      "Step 1: Total Effect (c) — Intention ~ PEOU\n",
      "                            OLS Regression Results                            \n",
      "==============================================================================\n",
      "Dep. Variable:              Intention   R-squared:                       0.075\n",
      "Model:                            OLS   Adj. R-squared:                  0.074\n",
      "Method:                 Least Squares   F-statistic:                     66.41\n",
      "Date:                Tue, 13 May 2025   Prob (F-statistic):           1.36e-15\n",
      "Time:                        20:42:07   Log-Likelihood:                -597.56\n",
      "No. Observations:                 825   AIC:                             1199.\n",
      "Df Residuals:                     823   BIC:                             1209.\n",
      "Df Model:                           1                                         \n",
      "Covariance Type:            nonrobust                                         \n",
      "==============================================================================\n",
      "                 coef    std err          t      P>|t|      [0.025      0.975]\n",
      "------------------------------------------------------------------------------\n",
      "Intercept      2.9905      0.103     29.062      0.000       2.789       3.192\n",
      "PEOU           0.2536      0.031      8.149      0.000       0.193       0.315\n",
      "==============================================================================\n",
      "Omnibus:                       42.389   Durbin-Watson:                   1.417\n",
      "Prob(Omnibus):                  0.000   Jarque-Bera (JB):               55.767\n",
      "Skew:                          -0.470   Prob(JB):                     7.77e-13\n",
      "Kurtosis:                       3.859   Cond. No.                         21.3\n",
      "==============================================================================\n",
      "\n",
      "Notes:\n",
      "[1] Standard Errors assume that the covariance matrix of the errors is correctly specified.\n",
      "\n",
      "Step 2: Path a — Attitude ~ PEOU\n",
      "                            OLS Regression Results                            \n",
      "==============================================================================\n",
      "Dep. Variable:               Attitude   R-squared:                       0.157\n",
      "Model:                            OLS   Adj. R-squared:                  0.156\n",
      "Method:                 Least Squares   F-statistic:                     153.1\n",
      "Date:                Tue, 13 May 2025   Prob (F-statistic):           2.24e-32\n",
      "Time:                        20:42:07   Log-Likelihood:                -729.40\n",
      "No. Observations:                 825   AIC:                             1463.\n",
      "Df Residuals:                     823   BIC:                             1472.\n",
      "Df Model:                           1                                         \n",
      "Covariance Type:            nonrobust                                         \n",
      "==============================================================================\n",
      "                 coef    std err          t      P>|t|      [0.025      0.975]\n",
      "------------------------------------------------------------------------------\n",
      "Intercept      2.3809      0.121     19.720      0.000       2.144       2.618\n",
      "PEOU           0.4518      0.037     12.374      0.000       0.380       0.524\n",
      "==============================================================================\n",
      "Omnibus:                       62.938   Durbin-Watson:                   1.226\n",
      "Prob(Omnibus):                  0.000   Jarque-Bera (JB):              109.719\n",
      "Skew:                          -0.527   Prob(JB):                     1.50e-24\n",
      "Kurtosis:                       4.442   Cond. No.                         21.3\n",
      "==============================================================================\n",
      "\n",
      "Notes:\n",
      "[1] Standard Errors assume that the covariance matrix of the errors is correctly specified.\n",
      "\n",
      "Step 3: Path b and c′ — Intention ~ PEOU + Attitude\n",
      "                            OLS Regression Results                            \n",
      "==============================================================================\n",
      "Dep. Variable:              Intention   R-squared:                       0.241\n",
      "Model:                            OLS   Adj. R-squared:                  0.240\n",
      "Method:                 Least Squares   F-statistic:                     130.8\n",
      "Date:                Tue, 13 May 2025   Prob (F-statistic):           4.87e-50\n",
      "Time:                        20:42:07   Log-Likelihood:                -515.61\n",
      "No. Observations:                 825   AIC:                             1037.\n",
      "Df Residuals:                     822   BIC:                             1051.\n",
      "Df Model:                           2                                         \n",
      "Covariance Type:            nonrobust                                         \n",
      "==============================================================================\n",
      "                 coef    std err          t      P>|t|      [0.025      0.975]\n",
      "------------------------------------------------------------------------------\n",
      "Intercept      2.1291      0.113     18.820      0.000       1.907       2.351\n",
      "PEOU           0.0901      0.031      2.936      0.003       0.030       0.150\n",
      "Attitude       0.3618      0.027     13.441      0.000       0.309       0.415\n",
      "==============================================================================\n",
      "Omnibus:                       19.070   Durbin-Watson:                   1.282\n",
      "Prob(Omnibus):                  0.000   Jarque-Bera (JB):               23.904\n",
      "Skew:                          -0.270   Prob(JB):                     6.45e-06\n",
      "Kurtosis:                       3.636   Cond. No.                         38.0\n",
      "==============================================================================\n",
      "\n",
      "Notes:\n",
      "[1] Standard Errors assume that the covariance matrix of the errors is correctly specified.\n",
      "\n",
      "Sobel Test for Indirect Effect (a × b):\n",
      "Z = 9.1036\n",
      "p-value = 0.0000\n",
      "Reject H₀: Attitude significantly mediates the relationship between PEOU and Intention.\n"
     ]
    }
   ],
   "source": [
    "import statsmodels.formula.api as smf\n",
    "from math import sqrt\n",
    "from scipy.stats import norm\n",
    "\n",
    "#The attitude towards online shopping does not mediate the relationship between perceived ease of use and the intention to purchase online.\n",
    "\n",
    "\n",
    "# Define columns for each construct\n",
    "peou_columns = [\n",
    "    'EaseofNavigation1', 'EaseofNavigation2',\n",
    "    'LearnCurve1', 'LearnCurve2',\n",
    "    'ClarityofInstructions1', 'ClarityofInstructions2',\n",
    "    'ResponseTime1', 'ResponseTime2',\n",
    "    'ErrorHandling1', 'ErrorHandling2'\n",
    "]\n",
    "\n",
    "attitude_columns = ['Attitude1', 'Attitude2']\n",
    "\n",
    "# Compute construct means\n",
    "df['PEOU'] = df[peou_columns].mean(axis=1)\n",
    "df['Attitude'] = df[attitude_columns].mean(axis=1)\n",
    "df['Intention'] = df[intention_columns].mean(axis=1)\n",
    "\n",
    "# Drop rows with missing values\n",
    "df_clean = df[['PEOU', 'Attitude', 'Intention']].dropna()\n",
    "\n",
    "# Step 1: Total effect (c) — Intention ~ PEOU\n",
    "model_c = smf.ols('Intention ~ PEOU', data=df_clean).fit()\n",
    "\n",
    "# Step 2: Path a — Attitude ~ PEOU\n",
    "model_a = smf.ols('Attitude ~ PEOU', data=df_clean).fit()\n",
    "\n",
    "# Step 3: Path b and c′ — Intention ~ PEOU + Attitude\n",
    "model_b_cprime = smf.ols('Intention ~ PEOU + Attitude', data=df_clean).fit()\n",
    "\n",
    "# Sobel test for indirect effect (a × b)\n",
    "a = model_a.params['PEOU']\n",
    "sa = model_a.bse['PEOU']\n",
    "b = model_b_cprime.params['Attitude']\n",
    "sb = model_b_cprime.bse['Attitude']\n",
    "sobel_z = (a * b) / sqrt(b**2 * sa**2 + a**2 * sb**2)\n",
    "sobel_p = 2 * (1 - norm.cdf(abs(sobel_z)))\n",
    "\n",
    "# Print all results\n",
    "print(\"\\nStep 1: Total Effect (c) — Intention ~ PEOU\")\n",
    "print(model_c.summary())\n",
    "\n",
    "print(\"\\nStep 2: Path a — Attitude ~ PEOU\")\n",
    "print(model_a.summary())\n",
    "\n",
    "print(\"\\nStep 3: Path b and c′ — Intention ~ PEOU + Attitude\")\n",
    "print(model_b_cprime.summary())\n",
    "\n",
    "print(\"\\nSobel Test for Indirect Effect (a × b):\")\n",
    "print(f\"Z = {sobel_z:.4f}\")\n",
    "print(f\"p-value = {sobel_p:.4f}\")\n",
    "\n",
    "# Final Verdict\n",
    "if sobel_p < 0.05:\n",
    "    print(\"Reject H₀: Attitude significantly mediates the relationship between PEOU and Intention.\")\n",
    "else:\n",
    "    print(\"Fail to reject H₀: No significant mediation effect of Attitude.\")\n"
   ]
  },
  {
   "cell_type": "markdown",
   "id": "99ee5395",
   "metadata": {
    "papermill": {
     "duration": 0.006969,
     "end_time": "2025-05-13T20:42:07.668869",
     "exception": false,
     "start_time": "2025-05-13T20:42:07.661900",
     "status": "completed"
    },
    "tags": []
   },
   "source": [
    "# Ease of navigation has no impact on the intention to purchase online."
   ]
  },
  {
   "cell_type": "code",
   "execution_count": 8,
   "id": "a4ff0419",
   "metadata": {
    "execution": {
     "iopub.execute_input": "2025-05-13T20:42:07.685160Z",
     "iopub.status.busy": "2025-05-13T20:42:07.684671Z",
     "iopub.status.idle": "2025-05-13T20:42:07.698650Z",
     "shell.execute_reply": "2025-05-13T20:42:07.697652Z"
    },
    "papermill": {
     "duration": 0.023746,
     "end_time": "2025-05-13T20:42:07.700220",
     "exception": false,
     "start_time": "2025-05-13T20:42:07.676474",
     "status": "completed"
    },
    "tags": []
   },
   "outputs": [
    {
     "name": "stdout",
     "output_type": "stream",
     "text": [
      "Spearman's rho (Ease of Navigation vs Intention): 0.14202818873951203\n",
      "p-value: 4.2393032685419935e-05\n",
      "Result: Reject H₀ → Ease of Navigation significantly correlates with Intention to Purchase.\n"
     ]
    }
   ],
   "source": [
    "# Ease of navigation has no impact on the intention to purchase online.\n",
    "\n",
    "# Define the columns for Ease of Navigation\n",
    "navigation_columns = [\n",
    "    'EaseofNavigation1', 'EaseofNavigation2'\n",
    "]\n",
    "\n",
    "# Compute the average scores\n",
    "df['EaseOfNavigation'] = df[navigation_columns].mean(axis=1)\n",
    "df['Intention'] = df[intention_columns].mean(axis=1)\n",
    "\n",
    "# Drop missing values\n",
    "correlation_df = df[['EaseOfNavigation', 'Intention']].dropna()\n",
    "\n",
    "# Compute Spearman rank correlation\n",
    "spearman_corr, p_value = spearmanr(correlation_df['EaseOfNavigation'], correlation_df['Intention'])\n",
    "\n",
    "# Display the result\n",
    "print(\"Spearman's rho (Ease of Navigation vs Intention):\", spearman_corr)\n",
    "print(\"p-value:\", p_value)\n",
    "\n",
    "# Optional interpretation\n",
    "if p_value < 0.05:\n",
    "    print(\"Result: Reject H₀ → Ease of Navigation significantly correlates with Intention to Purchase.\")\n",
    "else:\n",
    "    print(\"Result: Fail to reject H₀ → No significant relationship detected.\")"
   ]
  },
  {
   "cell_type": "markdown",
   "id": "6546b1f9",
   "metadata": {
    "papermill": {
     "duration": 0.006834,
     "end_time": "2025-05-13T20:42:07.714297",
     "exception": false,
     "start_time": "2025-05-13T20:42:07.707463",
     "status": "completed"
    },
    "tags": []
   },
   "source": [
    "# Clarity of instructions has no impact on the intention to purchase online."
   ]
  },
  {
   "cell_type": "code",
   "execution_count": 9,
   "id": "32b3e893",
   "metadata": {
    "execution": {
     "iopub.execute_input": "2025-05-13T20:42:07.730117Z",
     "iopub.status.busy": "2025-05-13T20:42:07.729787Z",
     "iopub.status.idle": "2025-05-13T20:42:07.756598Z",
     "shell.execute_reply": "2025-05-13T20:42:07.755465Z"
    },
    "papermill": {
     "duration": 0.036815,
     "end_time": "2025-05-13T20:42:07.758187",
     "exception": false,
     "start_time": "2025-05-13T20:42:07.721372",
     "status": "completed"
    },
    "tags": []
   },
   "outputs": [
    {
     "name": "stdout",
     "output_type": "stream",
     "text": [
      "Spearman's rho (Clarity vs Intention): 0.20584246611822185\n",
      "p-value: 2.4102278405661193e-09\n",
      "Reject H₀: Clarity of instructions significantly impacts intention to purchase.\n"
     ]
    }
   ],
   "source": [
    "# Clarity of instructions has no impact on the intention to purchase online.\n",
    "\n",
    "# Load the preprocessed dataset\n",
    "df = pd.read_csv(\"/kaggle/input/online-purchase-intentions-during-crises/preprocessed_dataset.csv\")\n",
    "\n",
    "# Define Clarity of Instructions columns\n",
    "clarity_columns = ['ClarityofInstructions1', 'ClarityofInstructions2']\n",
    "\n",
    "\n",
    "# Compute average scores\n",
    "df['Clarity'] = df[clarity_columns].mean(axis=1)\n",
    "df['Intention'] = df[intention_columns].mean(axis=1)\n",
    "\n",
    "# Drop missing values\n",
    "correlation_df = df[['Clarity', 'Intention']].dropna()\n",
    "\n",
    "# Compute Spearman rank correlation\n",
    "spearman_corr, p_value = spearmanr(correlation_df['Clarity'], correlation_df['Intention'])\n",
    "\n",
    "# Display results\n",
    "print(\"Spearman's rho (Clarity vs Intention):\", spearman_corr)\n",
    "print(\"p-value:\", p_value)\n",
    "\n",
    "# Interpretation\n",
    "if p_value < 0.05:\n",
    "    print(\"Reject H₀: Clarity of instructions significantly impacts intention to purchase.\")\n",
    "else:\n",
    "    print(\"Fail to reject H₀: No significant relationship.\")"
   ]
  },
  {
   "cell_type": "markdown",
   "id": "42eaa404",
   "metadata": {
    "papermill": {
     "duration": 0.00703,
     "end_time": "2025-05-13T20:42:07.772406",
     "exception": false,
     "start_time": "2025-05-13T20:42:07.765376",
     "status": "completed"
    },
    "tags": []
   },
   "source": [
    "# Response Time has no impact on intention to purchase online."
   ]
  },
  {
   "cell_type": "code",
   "execution_count": 10,
   "id": "802320de",
   "metadata": {
    "execution": {
     "iopub.execute_input": "2025-05-13T20:42:07.788324Z",
     "iopub.status.busy": "2025-05-13T20:42:07.787889Z",
     "iopub.status.idle": "2025-05-13T20:42:07.802582Z",
     "shell.execute_reply": "2025-05-13T20:42:07.801510Z"
    },
    "papermill": {
     "duration": 0.024594,
     "end_time": "2025-05-13T20:42:07.804097",
     "exception": false,
     "start_time": "2025-05-13T20:42:07.779503",
     "status": "completed"
    },
    "tags": []
   },
   "outputs": [
    {
     "name": "stdout",
     "output_type": "stream",
     "text": [
      "Spearman's rho (Response Time vs Intention): 0.07607996063588794\n",
      "p-value: 0.028882628417328946\n",
      "Result: Reject H₀ → Significant relationship exists between Response Time and Intention.\n"
     ]
    }
   ],
   "source": [
    "# Response Time has no impact on intention to purchase online.\n",
    "\n",
    "# Define columns related to Response Time\n",
    "response_time_columns = ['ResponseTime1', 'ResponseTime2']\n",
    "\n",
    "\n",
    "# Compute average scores for each participant\n",
    "df['ResponseTime'] = df[response_time_columns].mean(axis=1)\n",
    "df['Intention'] = df[intention_columns].mean(axis=1)\n",
    "\n",
    "# Drop missing values\n",
    "correlation_df = df[['ResponseTime', 'Intention']].dropna()\n",
    "\n",
    "# Compute Spearman rank correlation\n",
    "spearman_corr, p_value = spearmanr(correlation_df['ResponseTime'], correlation_df['Intention'])\n",
    "\n",
    "# Display the results\n",
    "print(\"Spearman's rho (Response Time vs Intention):\", spearman_corr)\n",
    "print(\"p-value:\", p_value)\n",
    "\n",
    "# Interpretation\n",
    "if p_value < 0.05:\n",
    "    print(\"Result: Reject H₀ → Significant relationship exists between Response Time and Intention.\")\n",
    "else:\n",
    "    print(\"Result: Fail to reject H₀ → No significant relationship.\")"
   ]
  },
  {
   "cell_type": "markdown",
   "id": "e405cac3",
   "metadata": {
    "papermill": {
     "duration": 0.007159,
     "end_time": "2025-05-13T20:42:07.818471",
     "exception": false,
     "start_time": "2025-05-13T20:42:07.811312",
     "status": "completed"
    },
    "tags": []
   },
   "source": [
    "# Error handling has no impact on intention to purchase online"
   ]
  },
  {
   "cell_type": "code",
   "execution_count": 11,
   "id": "f45c07a4",
   "metadata": {
    "execution": {
     "iopub.execute_input": "2025-05-13T20:42:07.834252Z",
     "iopub.status.busy": "2025-05-13T20:42:07.833910Z",
     "iopub.status.idle": "2025-05-13T20:42:07.849215Z",
     "shell.execute_reply": "2025-05-13T20:42:07.848006Z"
    },
    "papermill": {
     "duration": 0.025132,
     "end_time": "2025-05-13T20:42:07.850641",
     "exception": false,
     "start_time": "2025-05-13T20:42:07.825509",
     "status": "completed"
    },
    "tags": []
   },
   "outputs": [
    {
     "name": "stdout",
     "output_type": "stream",
     "text": [
      "Spearman's rho (Error Handling vs Intention): 0.14893676915712514\n",
      "p-value: 1.7439795709379758e-05\n",
      "Result: Reject H₀ → Significant relationship exists between Error Handling and Intention to Purchase.\n"
     ]
    }
   ],
   "source": [
    "# Error handling has no impact on intention to purchase online\n",
    "\n",
    "# Define the columns related to Error Handling\n",
    "error_handling_columns = ['ErrorHandling1', 'ErrorHandling2']\n",
    "\n",
    "# Compute the average score for each construct\n",
    "df['ErrorHandling'] = df[error_handling_columns].mean(axis=1)\n",
    "df['Intention'] = df[intention_columns].mean(axis=1)\n",
    "\n",
    "# Drop rows with missing values\n",
    "correlation_df = df[['ErrorHandling', 'Intention']].dropna()\n",
    "\n",
    "# Compute Spearman's rank correlation\n",
    "spearman_corr, p_value = spearmanr(correlation_df['ErrorHandling'], correlation_df['Intention'])\n",
    "\n",
    "# Display the result\n",
    "print(\"Spearman's rho (Error Handling vs Intention):\", spearman_corr)\n",
    "print(\"p-value:\", p_value)\n",
    "\n",
    "# Interpret the result\n",
    "if p_value < 0.05:\n",
    "    print(\"Result: Reject H₀ → Significant relationship exists between Error Handling and Intention to Purchase.\")\n",
    "else:\n",
    "    print(\"Result: Fail to reject H₀ → No significant relationship.\")"
   ]
  },
  {
   "cell_type": "markdown",
   "id": "1ebd53e6",
   "metadata": {
    "papermill": {
     "duration": 0.007145,
     "end_time": "2025-05-13T20:42:07.865288",
     "exception": false,
     "start_time": "2025-05-13T20:42:07.858143",
     "status": "completed"
    },
    "tags": []
   },
   "source": [
    "# Part (b)"
   ]
  },
  {
   "cell_type": "markdown",
   "id": "cc15e308",
   "metadata": {
    "papermill": {
     "duration": 0.007447,
     "end_time": "2025-05-13T20:42:07.880084",
     "exception": false,
     "start_time": "2025-05-13T20:42:07.872637",
     "status": "completed"
    },
    "tags": []
   },
   "source": [
    "In addition to the above hypotheses, create your own 10 hypotheses based\n",
    " on the given conceptual diagram and validate them using suitable statistical\n",
    " tests"
   ]
  },
  {
   "cell_type": "code",
   "execution_count": 12,
   "id": "9baeceed",
   "metadata": {
    "execution": {
     "iopub.execute_input": "2025-05-13T20:42:07.895935Z",
     "iopub.status.busy": "2025-05-13T20:42:07.895615Z",
     "iopub.status.idle": "2025-05-13T20:42:07.904489Z",
     "shell.execute_reply": "2025-05-13T20:42:07.903443Z"
    },
    "papermill": {
     "duration": 0.018733,
     "end_time": "2025-05-13T20:42:07.906092",
     "exception": false,
     "start_time": "2025-05-13T20:42:07.887359",
     "status": "completed"
    },
    "tags": []
   },
   "outputs": [],
   "source": [
    "# Define the intention columns globally (used in every case)\n",
    "intention_columns = [\n",
    "    'IntentiontoPurchaseOnline1',\n",
    "    'IntentiontoPurchaseOnline2',\n",
    "    'IntentiontoPurchaseOnline3',\n",
    "    'IntentiontoPurchaseOnline4'\n",
    "]\n",
    "df['Intention'] = df[intention_columns].mean(axis=1)\n",
    "\n",
    "# Define a reusable function\n",
    "def test_spearman_correlation(factor_name, columns):\n",
    "    \"\"\"\n",
    "    Computes and prints Spearman correlation between a given factor and purchase intention.\n",
    "    \n",
    "    Parameters:\n",
    "    - factor_name: str, name of the new column to be used for the factor\n",
    "    - columns: list of str, names of the columns representing the subfactor items\n",
    "    \"\"\"\n",
    "    df[factor_name] = df[columns].mean(axis=1)\n",
    "    corr_df = df[[factor_name, 'Intention']].dropna()\n",
    "    rho, p = spearmanr(corr_df[factor_name], corr_df['Intention'])\n",
    "    print(f\"\\n--- {factor_name} ---\")\n",
    "    print(f\"Spearman's rho: {rho:.3f}\")\n",
    "    print(f\"p-value       : {p:.4g}\")\n",
    "    if p < 0.05:\n",
    "        print(\"✅ Significant relationship (reject H₀)\")\n",
    "    else:\n",
    "        print(\"❌ Not significant (fail to reject H₀)\")"
   ]
  },
  {
   "cell_type": "markdown",
   "id": "0a48cf79",
   "metadata": {
    "papermill": {
     "duration": 0.007101,
     "end_time": "2025-05-13T20:42:07.920684",
     "exception": false,
     "start_time": "2025-05-13T20:42:07.913583",
     "status": "completed"
    },
    "tags": []
   },
   "source": [
    "### 1. Personalization has no impact on the intention to purchase online."
   ]
  },
  {
   "cell_type": "code",
   "execution_count": 13,
   "id": "fbf48561",
   "metadata": {
    "execution": {
     "iopub.execute_input": "2025-05-13T20:42:07.936892Z",
     "iopub.status.busy": "2025-05-13T20:42:07.936557Z",
     "iopub.status.idle": "2025-05-13T20:42:07.947540Z",
     "shell.execute_reply": "2025-05-13T20:42:07.946488Z"
    },
    "papermill": {
     "duration": 0.021267,
     "end_time": "2025-05-13T20:42:07.949342",
     "exception": false,
     "start_time": "2025-05-13T20:42:07.928075",
     "status": "completed"
    },
    "tags": []
   },
   "outputs": [
    {
     "name": "stdout",
     "output_type": "stream",
     "text": [
      "\n",
      "--- Personalization ---\n",
      "Spearman's rho: 0.060\n",
      "p-value       : 0.08348\n",
      "❌ Not significant (fail to reject H₀)\n"
     ]
    }
   ],
   "source": [
    "test_spearman_correlation(\"Personalization\", ['Personalization1', 'Personalization2'])"
   ]
  },
  {
   "cell_type": "markdown",
   "id": "25700a89",
   "metadata": {
    "papermill": {
     "duration": 0.008836,
     "end_time": "2025-05-13T20:42:07.966389",
     "exception": false,
     "start_time": "2025-05-13T20:42:07.957553",
     "status": "completed"
    },
    "tags": []
   },
   "source": [
    "### 2. word of mouth has no impact on the intention to purchase online."
   ]
  },
  {
   "cell_type": "code",
   "execution_count": 14,
   "id": "8f0e5bc5",
   "metadata": {
    "execution": {
     "iopub.execute_input": "2025-05-13T20:42:07.983575Z",
     "iopub.status.busy": "2025-05-13T20:42:07.983282Z",
     "iopub.status.idle": "2025-05-13T20:42:07.994564Z",
     "shell.execute_reply": "2025-05-13T20:42:07.993546Z"
    },
    "papermill": {
     "duration": 0.021128,
     "end_time": "2025-05-13T20:42:07.995988",
     "exception": false,
     "start_time": "2025-05-13T20:42:07.974860",
     "status": "completed"
    },
    "tags": []
   },
   "outputs": [
    {
     "name": "stdout",
     "output_type": "stream",
     "text": [
      "\n",
      "--- Word of Mouth ---\n",
      "Spearman's rho: 0.195\n",
      "p-value       : 1.609e-08\n",
      "✅ Significant relationship (reject H₀)\n"
     ]
    }
   ],
   "source": [
    "test_spearman_correlation(\"Word of Mouth\", ['WordofMouthandRecommendations1', 'WordofMouthandRecommendations2'])"
   ]
  },
  {
   "cell_type": "markdown",
   "id": "f7ca3ace",
   "metadata": {
    "papermill": {
     "duration": 0.007233,
     "end_time": "2025-05-13T20:42:08.010847",
     "exception": false,
     "start_time": "2025-05-13T20:42:08.003614",
     "status": "completed"
    },
    "tags": []
   },
   "source": [
    "### 3. Normative Pressure has no impact on the intention to purchase online"
   ]
  },
  {
   "cell_type": "code",
   "execution_count": 15,
   "id": "72ba7d31",
   "metadata": {
    "execution": {
     "iopub.execute_input": "2025-05-13T20:42:08.094043Z",
     "iopub.status.busy": "2025-05-13T20:42:08.093683Z",
     "iopub.status.idle": "2025-05-13T20:42:08.106463Z",
     "shell.execute_reply": "2025-05-13T20:42:08.105246Z"
    },
    "papermill": {
     "duration": 0.08946,
     "end_time": "2025-05-13T20:42:08.108194",
     "exception": false,
     "start_time": "2025-05-13T20:42:08.018734",
     "status": "completed"
    },
    "tags": []
   },
   "outputs": [
    {
     "name": "stdout",
     "output_type": "stream",
     "text": [
      "\n",
      "--- Normative Pressure ---\n",
      "Spearman's rho: 0.111\n",
      "p-value       : 0.001367\n",
      "✅ Significant relationship (reject H₀)\n"
     ]
    }
   ],
   "source": [
    "test_spearman_correlation(\"Normative Pressure\", ['NormativePressure1', 'NormativePressure2'])"
   ]
  },
  {
   "cell_type": "markdown",
   "id": "2b619316",
   "metadata": {
    "papermill": {
     "duration": 0.007463,
     "end_time": "2025-05-13T20:42:08.123345",
     "exception": false,
     "start_time": "2025-05-13T20:42:08.115882",
     "status": "completed"
    },
    "tags": []
   },
   "source": [
    "### 4. Learning Curve has no impact on the intention to purchase online"
   ]
  },
  {
   "cell_type": "code",
   "execution_count": 16,
   "id": "d7b0d82d",
   "metadata": {
    "execution": {
     "iopub.execute_input": "2025-05-13T20:42:08.139892Z",
     "iopub.status.busy": "2025-05-13T20:42:08.139558Z",
     "iopub.status.idle": "2025-05-13T20:42:08.150673Z",
     "shell.execute_reply": "2025-05-13T20:42:08.149557Z"
    },
    "papermill": {
     "duration": 0.021433,
     "end_time": "2025-05-13T20:42:08.152304",
     "exception": false,
     "start_time": "2025-05-13T20:42:08.130871",
     "status": "completed"
    },
    "tags": []
   },
   "outputs": [
    {
     "name": "stdout",
     "output_type": "stream",
     "text": [
      "\n",
      "--- Learning Curve ---\n",
      "Spearman's rho: 0.221\n",
      "p-value       : 1.409e-10\n",
      "✅ Significant relationship (reject H₀)\n"
     ]
    }
   ],
   "source": [
    "test_spearman_correlation(\"Learning Curve\", ['LearnCurve1', 'LearnCurve2'])"
   ]
  },
  {
   "cell_type": "markdown",
   "id": "75311c5b",
   "metadata": {
    "papermill": {
     "duration": 0.007761,
     "end_time": "2025-05-13T20:42:08.168226",
     "exception": false,
     "start_time": "2025-05-13T20:42:08.160465",
     "status": "completed"
    },
    "tags": []
   },
   "source": [
    "### 5. Privacy Protection has no impact on the intention to purchase online"
   ]
  },
  {
   "cell_type": "code",
   "execution_count": 17,
   "id": "fa5b0d9d",
   "metadata": {
    "execution": {
     "iopub.execute_input": "2025-05-13T20:42:08.186053Z",
     "iopub.status.busy": "2025-05-13T20:42:08.185690Z",
     "iopub.status.idle": "2025-05-13T20:42:08.195816Z",
     "shell.execute_reply": "2025-05-13T20:42:08.194817Z"
    },
    "papermill": {
     "duration": 0.02079,
     "end_time": "2025-05-13T20:42:08.197305",
     "exception": false,
     "start_time": "2025-05-13T20:42:08.176515",
     "status": "completed"
    },
    "tags": []
   },
   "outputs": [
    {
     "name": "stdout",
     "output_type": "stream",
     "text": [
      "\n",
      "--- Privacy Protection ---\n",
      "Spearman's rho: 0.107\n",
      "p-value       : 0.00207\n",
      "✅ Significant relationship (reject H₀)\n"
     ]
    }
   ],
   "source": [
    "test_spearman_correlation(\"Privacy Protection\", ['PrivacyProtection1', 'PrivacyProtection2'])"
   ]
  },
  {
   "cell_type": "markdown",
   "id": "c7e245c7",
   "metadata": {
    "papermill": {
     "duration": 0.0075,
     "end_time": "2025-05-13T20:42:08.212679",
     "exception": false,
     "start_time": "2025-05-13T20:42:08.205179",
     "status": "completed"
    },
    "tags": []
   },
   "source": [
    "### 6. Perceived risk does not mediate the relationship between social influence and intention to purchase online."
   ]
  },
  {
   "cell_type": "markdown",
   "id": "99330316",
   "metadata": {
    "papermill": {
     "duration": 0.00766,
     "end_time": "2025-05-13T20:42:08.228206",
     "exception": false,
     "start_time": "2025-05-13T20:42:08.220546",
     "status": "completed"
    },
    "tags": []
   },
   "source": [
    "Intention = β₀ + β₁*PEOU + β₂*MaritalStatus + β₃*(PEOU × MaritalStatus) + error"
   ]
  },
  {
   "cell_type": "code",
   "execution_count": 18,
   "id": "68cad401",
   "metadata": {
    "execution": {
     "iopub.execute_input": "2025-05-13T20:42:08.245987Z",
     "iopub.status.busy": "2025-05-13T20:42:08.244967Z",
     "iopub.status.idle": "2025-05-13T20:42:08.284833Z",
     "shell.execute_reply": "2025-05-13T20:42:08.283554Z"
    },
    "papermill": {
     "duration": 0.050423,
     "end_time": "2025-05-13T20:42:08.286372",
     "exception": false,
     "start_time": "2025-05-13T20:42:08.235949",
     "status": "completed"
    },
    "tags": []
   },
   "outputs": [
    {
     "name": "stdout",
     "output_type": "stream",
     "text": [
      "----- Mediation Test Summary -----\n",
      "Step 1 (c):  SocialInfluence → Intention   coef = 0.304,  p = 9.868e-24\n",
      "Step 2 (a):  SocialInfluence → Risk        coef = 0.271,  p = 8.842e-12\n",
      "Step 3 (b):  Risk → Intention               coef = 0.342,  p = 6.533e-44\n",
      "Step 3 (c’): SocialInfluence → Intention   coef = 0.211, p = 1.21e-14\n",
      "\n",
      "✅ Partial mediation — Reject H₀\n"
     ]
    }
   ],
   "source": [
    "from statsmodels.formula.api import ols\n",
    "\n",
    "# Define variable groups\n",
    "social_influence_cols = [\n",
    "    'WordofMouthandRecommendations1', 'WordofMouthandRecommendations2',\n",
    "    'SocialMediaPosts/Influence1', 'SocialMediaPosts/Influence2',\n",
    "    'OnlineReviewsandRatings1', 'OnlineReviewsandRatings2',\n",
    "    'SocialProof1', 'SocialProof2',\n",
    "    'NormativePressure1', 'NormativePressure2',\n",
    "    'InformationSharing1', 'InformationSharing2'\n",
    "]\n",
    "\n",
    "risk_cols = ['PerceivedRisk1', 'PerceivedRisk2']\n",
    "\n",
    "intention_cols = [\n",
    "    'IntentiontoPurchaseOnline1',\n",
    "    'IntentiontoPurchaseOnline2',\n",
    "    'IntentiontoPurchaseOnline3',\n",
    "    'IntentiontoPurchaseOnline4'\n",
    "]\n",
    "\n",
    "# Compute mean scores\n",
    "df['SocialInfluence'] = df[social_influence_cols].mean(axis=1)\n",
    "df['Risk'] = df[risk_cols].mean(axis=1)\n",
    "df['Intention'] = df[intention_cols].mean(axis=1)\n",
    "\n",
    "# Drop missing values\n",
    "med_df = df[['SocialInfluence', 'Risk', 'Intention']].dropna()\n",
    "\n",
    "# Step 1: Total effect (c path)\n",
    "model1 = ols(\"Intention ~ SocialInfluence\", data=med_df).fit()\n",
    "c_path = model1.params['SocialInfluence']\n",
    "c_pval = model1.pvalues['SocialInfluence']\n",
    "\n",
    "# Step 2: a path\n",
    "model2 = ols(\"Risk ~ SocialInfluence\", data=med_df).fit()\n",
    "a_path = model2.params['SocialInfluence']\n",
    "a_pval = model2.pvalues['SocialInfluence']\n",
    "\n",
    "# Step 3: Direct + Mediator (c' and b paths)\n",
    "model3 = ols(\"Intention ~ SocialInfluence + Risk\", data=med_df).fit()\n",
    "c_prime = model3.params['SocialInfluence']\n",
    "b_path = model3.params['Risk']\n",
    "c_prime_pval = model3.pvalues['SocialInfluence']\n",
    "b_pval = model3.pvalues['Risk']\n",
    "\n",
    "# Output results\n",
    "print(\"----- Mediation Test Summary -----\")\n",
    "print(f\"Step 1 (c):  SocialInfluence → Intention   coef = {c_path:.3f},  p = {c_pval:.4g}\")\n",
    "print(f\"Step 2 (a):  SocialInfluence → Risk        coef = {a_path:.3f},  p = {a_pval:.4g}\")\n",
    "print(f\"Step 3 (b):  Risk → Intention               coef = {b_path:.3f},  p = {b_pval:.4g}\")\n",
    "print(f\"Step 3 (c’): SocialInfluence → Intention   coef = {c_prime:.3f}, p = {c_prime_pval:.4g}\")\n",
    "\n",
    "# Interpret mediation\n",
    "if a_pval < 0.05 and b_pval < 0.05:\n",
    "    if c_prime_pval < 0.05 and abs(c_prime) < abs(c_path):\n",
    "        print(\"\\n✅ Partial mediation — Reject H₀\")\n",
    "    elif c_prime_pval >= 0.05:\n",
    "        print(\"\\n✅ Full mediation — Reject H₀\")\n",
    "    else:\n",
    "        print(\"\\n❌ No mediation — Fail to reject H₀\")\n",
    "else:\n",
    "    print(\"\\n❌ No mediation — Fail to reject H₀\")\n"
   ]
  },
  {
   "cell_type": "markdown",
   "id": "16db7c89",
   "metadata": {
    "papermill": {
     "duration": 0.007717,
     "end_time": "2025-05-13T20:42:08.303047",
     "exception": false,
     "start_time": "2025-05-13T20:42:08.295330",
     "status": "completed"
    },
    "tags": []
   },
   "source": [
    "###  7. Age does not moderate the relationship between Perceived Usefulness and Intention to Purchase Online."
   ]
  },
  {
   "cell_type": "code",
   "execution_count": 19,
   "id": "19f826db",
   "metadata": {
    "execution": {
     "iopub.execute_input": "2025-05-13T20:42:08.320810Z",
     "iopub.status.busy": "2025-05-13T20:42:08.320469Z",
     "iopub.status.idle": "2025-05-13T20:42:08.351632Z",
     "shell.execute_reply": "2025-05-13T20:42:08.350651Z"
    },
    "papermill": {
     "duration": 0.042202,
     "end_time": "2025-05-13T20:42:08.353266",
     "exception": false,
     "start_time": "2025-05-13T20:42:08.311064",
     "status": "completed"
    },
    "tags": []
   },
   "outputs": [
    {
     "name": "stdout",
     "output_type": "stream",
     "text": [
      "0.01327596536818294\n",
      "\n",
      "✅ Age significantly moderates the relationship (Reject H₀)\n"
     ]
    }
   ],
   "source": [
    "import statsmodels.formula.api as smf\n",
    "\n",
    "# Define columns\n",
    "pu_columns = [\n",
    "    'ProductAvailability1', 'ProductAvailability2',\n",
    "    'Convenience1', 'Convenience2',\n",
    "    'Cost-effectiveness1', 'Cost-effectiveness2',\n",
    "    'InformationAccessibility1', 'InformationAccessibility2',\n",
    "    'Personalization1', 'Personalization2'\n",
    "]\n",
    "intention_columns = [\n",
    "    'IntentiontoPurchaseOnline1',\n",
    "    'IntentiontoPurchaseOnline2',\n",
    "    'IntentiontoPurchaseOnline3',\n",
    "    'IntentiontoPurchaseOnline4'\n",
    "]\n",
    "\n",
    "# Compute averages\n",
    "df['PU'] = df[pu_columns].mean(axis=1)\n",
    "df['Intention'] = df[intention_columns].mean(axis=1)\n",
    "\n",
    "# Ensure age is numeric (convert if needed)\n",
    "df['Age'] = pd.to_numeric(df['age'], errors='coerce')\n",
    "\n",
    "# Drop missing values\n",
    "mod_df = df[['PU', 'Age', 'Intention']].dropna()\n",
    "\n",
    "# Create interaction term\n",
    "mod_df['PUxAge'] = mod_df['PU'] * mod_df['Age']\n",
    "\n",
    "# Regression model with interaction\n",
    "model = smf.ols(\"Intention ~ PU + Age + PUxAge\", data=mod_df).fit()\n",
    "\n",
    "# Interpretation\n",
    "pval_interaction = model.pvalues['PUxAge']\n",
    "print(pval_interaction)\n",
    "if pval_interaction < 0.05:\n",
    "    print(\"\\n✅ Age significantly moderates the relationship (Reject H₀)\")\n",
    "else:\n",
    "    print(\"\\n❌ Age does NOT significantly moderate the relationship (Fail to reject H₀)\")"
   ]
  },
  {
   "cell_type": "markdown",
   "id": "acece121",
   "metadata": {
    "papermill": {
     "duration": 0.007967,
     "end_time": "2025-05-13T20:42:08.369271",
     "exception": false,
     "start_time": "2025-05-13T20:42:08.361304",
     "status": "completed"
    },
    "tags": []
   },
   "source": [
    "### 8. Marital status does not moderate the relationship between Perceived Ease of Use (PEOU) and Intention to Purchase Online."
   ]
  },
  {
   "cell_type": "code",
   "execution_count": 20,
   "id": "3fca8562",
   "metadata": {
    "execution": {
     "iopub.execute_input": "2025-05-13T20:42:08.386014Z",
     "iopub.status.busy": "2025-05-13T20:42:08.385693Z",
     "iopub.status.idle": "2025-05-13T20:42:08.410901Z",
     "shell.execute_reply": "2025-05-13T20:42:08.409850Z"
    },
    "papermill": {
     "duration": 0.035693,
     "end_time": "2025-05-13T20:42:08.412850",
     "exception": false,
     "start_time": "2025-05-13T20:42:08.377157",
     "status": "completed"
    },
    "tags": []
   },
   "outputs": [
    {
     "name": "stdout",
     "output_type": "stream",
     "text": [
      "pval: 0.1491320561538677\n",
      "\n",
      "❌ No significant moderation by marital status (Fail to reject H₀)\n"
     ]
    }
   ],
   "source": [
    "# Define PEOU columns\n",
    "peou_cols = [\n",
    "    'EaseofNavigation1', 'EaseofNavigation2',\n",
    "    'LearnCurve1', 'LearnCurve2',\n",
    "    'ClarityofInstructions1', 'ClarityofInstructions2',\n",
    "    'ResponseTime1', 'ResponseTime2',\n",
    "    'ErrorHandling1', 'ErrorHandling2'\n",
    "]\n",
    "\n",
    "# Intention columns\n",
    "intention_cols = [\n",
    "    'IntentiontoPurchaseOnline1',\n",
    "    'IntentiontoPurchaseOnline2',\n",
    "    'IntentiontoPurchaseOnline3',\n",
    "    'IntentiontoPurchaseOnline4'\n",
    "]\n",
    "\n",
    "# Compute averages\n",
    "df['PEOU'] = df[peou_cols].mean(axis=1)\n",
    "df['Intention'] = df[intention_cols].mean(axis=1)\n",
    "\n",
    "# Encode Marital Status (you may already have dummy columns, if not do this)\n",
    "if 'marital_status_Married' not in df.columns:\n",
    "    df['Married'] = df['marital_status_Married'] = df['marital_status'].apply(lambda x: 1 if x == 'Married' else 0)\n",
    "\n",
    "# Drop missing\n",
    "mod_df = df[['PEOU', 'marital_status_Married', 'Intention']].dropna()\n",
    "\n",
    "# Create interaction term\n",
    "mod_df['PEOUxMarried'] = mod_df['PEOU'] * mod_df['marital_status_Married']\n",
    "\n",
    "# Fit the moderation model\n",
    "model = smf.ols(\"Intention ~ PEOU + marital_status_Married + PEOUxMarried\", data=mod_df).fit()\n",
    "\n",
    "# Interpretation logic\n",
    "pval_interaction = model.pvalues['PEOUxMarried']\n",
    "print(\"pval:\" ,pval_interaction)\n",
    "if pval_interaction < 0.05:\n",
    "    print(\"\\n✅ Marital status significantly moderates the relationship (Reject H₀)\")\n",
    "else:\n",
    "    print(\"\\n❌ No significant moderation by marital status (Fail to reject H₀)\")"
   ]
  },
  {
   "cell_type": "markdown",
   "id": "b1d54101",
   "metadata": {
    "papermill": {
     "duration": 0.007462,
     "end_time": "2025-05-13T20:42:08.428449",
     "exception": false,
     "start_time": "2025-05-13T20:42:08.420987",
     "status": "completed"
    },
    "tags": []
   },
   "source": [
    "### 9. Gender does not moderate the relationship between PU and Intention."
   ]
  },
  {
   "cell_type": "code",
   "execution_count": 21,
   "id": "d67305e0",
   "metadata": {
    "execution": {
     "iopub.execute_input": "2025-05-13T20:42:08.445810Z",
     "iopub.status.busy": "2025-05-13T20:42:08.445474Z",
     "iopub.status.idle": "2025-05-13T20:42:08.469155Z",
     "shell.execute_reply": "2025-05-13T20:42:08.467963Z"
    },
    "papermill": {
     "duration": 0.034321,
     "end_time": "2025-05-13T20:42:08.470683",
     "exception": false,
     "start_time": "2025-05-13T20:42:08.436362",
     "status": "completed"
    },
    "tags": []
   },
   "outputs": [
    {
     "name": "stdout",
     "output_type": "stream",
     "text": [
      "\n",
      "❌ No significant moderation by gender (Fail to reject H₀)\n"
     ]
    }
   ],
   "source": [
    "# Define columns for Perceived Usefulness (PU)\n",
    "pu_cols = [\n",
    "    'ProductAvailability1', 'ProductAvailability2',\n",
    "    'Convenience1', 'Convenience2',\n",
    "    'Cost-effectiveness1', 'Cost-effectiveness2',\n",
    "    'InformationAccessibility1', 'InformationAccessibility2',\n",
    "    'Personalization1', 'Personalization2'\n",
    "]\n",
    "\n",
    "# Define Intention columns\n",
    "intention_cols = [\n",
    "    'IntentiontoPurchaseOnline1',\n",
    "    'IntentiontoPurchaseOnline2',\n",
    "    'IntentiontoPurchaseOnline3',\n",
    "    'IntentiontoPurchaseOnline4'\n",
    "]\n",
    "\n",
    "# Calculate averages\n",
    "df['PU'] = df[pu_cols].mean(axis=1)\n",
    "df['Intention'] = df[intention_cols].mean(axis=1)\n",
    "\n",
    "# Ensure gender is binary coded (e.g., Male = 1, Female = 0)\n",
    "if 'gender_Male' not in df.columns:\n",
    "    df['gender_Male'] = df['gender'].apply(lambda x: 1 if x.lower() == 'male' else 0)\n",
    "\n",
    "# Drop missing\n",
    "mod_df = df[['PU', 'Intention', 'gender_Male']].dropna()\n",
    "\n",
    "# Create interaction term\n",
    "mod_df['PUxGender'] = mod_df['PU'] * mod_df['gender_Male']\n",
    "\n",
    "# Fit the moderation model\n",
    "model = smf.ols(\"Intention ~ PU + gender_Male + PUxGender\", data=mod_df).fit()\n",
    "\n",
    "# Interpret the interaction term\n",
    "pval_interaction = model.pvalues['PUxGender']\n",
    "if pval_interaction < 0.05:\n",
    "    print(\"\\n✅ Gender significantly moderates the relationship (Reject H₀)\")\n",
    "else:\n",
    "    print(\"\\n❌ No significant moderation by gender (Fail to reject H₀)\")"
   ]
  },
  {
   "cell_type": "markdown",
   "id": "30d8d961",
   "metadata": {
    "papermill": {
     "duration": 0.007615,
     "end_time": "2025-05-13T20:42:08.486284",
     "exception": false,
     "start_time": "2025-05-13T20:42:08.478669",
     "status": "completed"
    },
    "tags": []
   },
   "source": [
    "### 10. Convenience has no impact on the intention to purchase online"
   ]
  },
  {
   "cell_type": "code",
   "execution_count": 22,
   "id": "5118bfa7",
   "metadata": {
    "execution": {
     "iopub.execute_input": "2025-05-13T20:42:08.504355Z",
     "iopub.status.busy": "2025-05-13T20:42:08.504013Z",
     "iopub.status.idle": "2025-05-13T20:42:08.515226Z",
     "shell.execute_reply": "2025-05-13T20:42:08.514287Z"
    },
    "papermill": {
     "duration": 0.021851,
     "end_time": "2025-05-13T20:42:08.516717",
     "exception": false,
     "start_time": "2025-05-13T20:42:08.494866",
     "status": "completed"
    },
    "tags": []
   },
   "outputs": [
    {
     "name": "stdout",
     "output_type": "stream",
     "text": [
      "\n",
      "--- Convenience ---\n",
      "Spearman's rho: 0.240\n",
      "p-value       : 2.991e-12\n",
      "✅ Significant relationship (reject H₀)\n"
     ]
    }
   ],
   "source": [
    "test_spearman_correlation(\"Convenience\", ['Convenience1', 'Convenience2'])"
   ]
  }
 ],
 "metadata": {
  "kaggle": {
   "accelerator": "none",
   "dataSources": [
    {
     "datasetId": 7390461,
     "sourceId": 11793769,
     "sourceType": "datasetVersion"
    }
   ],
   "dockerImageVersionId": 31040,
   "isGpuEnabled": false,
   "isInternetEnabled": false,
   "language": "python",
   "sourceType": "notebook"
  },
  "kernelspec": {
   "display_name": "Python 3",
   "language": "python",
   "name": "python3"
  },
  "language_info": {
   "codemirror_mode": {
    "name": "ipython",
    "version": 3
   },
   "file_extension": ".py",
   "mimetype": "text/x-python",
   "name": "python",
   "nbconvert_exporter": "python",
   "pygments_lexer": "ipython3",
   "version": "3.11.11"
  },
  "papermill": {
   "default_parameters": {},
   "duration": 11.318562,
   "end_time": "2025-05-13T20:42:09.145293",
   "environment_variables": {},
   "exception": null,
   "input_path": "__notebook__.ipynb",
   "output_path": "__notebook__.ipynb",
   "parameters": {},
   "start_time": "2025-05-13T20:41:57.826731",
   "version": "2.6.0"
  }
 },
 "nbformat": 4,
 "nbformat_minor": 5
}
