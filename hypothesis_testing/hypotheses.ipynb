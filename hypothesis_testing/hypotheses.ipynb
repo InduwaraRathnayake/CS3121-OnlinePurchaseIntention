{
 "cells": [
  {
   "cell_type": "code",
   "execution_count": 1,
   "id": "60f4d4fa",
   "metadata": {
    "_cell_guid": "b1076dfc-b9ad-4769-8c92-a6c4dae69d19",
    "_uuid": "8f2839f25d086af736a60e9eeb907d3b93b6e0e5",
    "execution": {
     "iopub.execute_input": "2025-05-13T20:18:37.081738Z",
     "iopub.status.busy": "2025-05-13T20:18:37.081401Z",
     "iopub.status.idle": "2025-05-13T20:18:39.711262Z",
     "shell.execute_reply": "2025-05-13T20:18:39.710432Z"
    },
    "papermill": {
     "duration": 2.63676,
     "end_time": "2025-05-13T20:18:39.712917",
     "exception": false,
     "start_time": "2025-05-13T20:18:37.076157",
     "status": "completed"
    },
    "tags": []
   },
   "outputs": [],
   "source": [
    "import numpy as np\n",
    "import pandas as pd\n",
    "from scipy.stats import spearmanr"
   ]
  },
  {
   "cell_type": "code",
   "execution_count": 2,
   "id": "e5a52c8a",
   "metadata": {
    "execution": {
     "iopub.execute_input": "2025-05-13T20:18:39.721382Z",
     "iopub.status.busy": "2025-05-13T20:18:39.721011Z",
     "iopub.status.idle": "2025-05-13T20:18:39.769569Z",
     "shell.execute_reply": "2025-05-13T20:18:39.768653Z"
    },
    "papermill": {
     "duration": 0.054213,
     "end_time": "2025-05-13T20:18:39.771064",
     "exception": false,
     "start_time": "2025-05-13T20:18:39.716851",
     "status": "completed"
    },
    "tags": []
   },
   "outputs": [
    {
     "name": "stdout",
     "output_type": "stream",
     "text": [
      "Column names in the dataset:\n",
      "age\n",
      "education\n",
      "used_before\n",
      "profession\n",
      "EaseofNavigation1\n",
      "EaseofNavigation2\n",
      "LearnCurve1\n",
      "LearnCurve2\n",
      "ClarityofInstructions1\n",
      "ClarityofInstructions2\n",
      "ResponseTime1\n",
      "ResponseTime2\n",
      "ErrorHandling1\n",
      "ErrorHandling2\n",
      "ProductAvailability1\n",
      "ProductAvailability2\n",
      "Convenience1\n",
      "Convenience2\n",
      "Cost-effectiveness1\n",
      "Cost-effectiveness2\n",
      "InformationAccessibility1\n",
      "InformationAccessibility2\n",
      "Personalization1\n",
      "Personalization2\n",
      "PrivacyProtection1\n",
      "PrivacyProtection2\n",
      "PaymentSecurity1\n",
      "PaymentSecurity2\n",
      "TransparentPolicies1\n",
      "TransparentPolicies2\n",
      "WordofMouthandRecommendations1\n",
      "WordofMouthandRecommendations2\n",
      "SocialMediaPosts/Influence1\n",
      "SocialMediaPosts/Influence2\n",
      "OnlineReviewsandRatings1\n",
      "OnlineReviewsandRatings2\n",
      "SocialProof1\n",
      "SocialProof2\n",
      "NormativePressure1\n",
      "NormativePressure2\n",
      "InformationSharing1\n",
      "InformationSharing2\n",
      "Attitude1\n",
      "Attitude2\n",
      "PerceivedRisk1\n",
      "PerceivedRisk2\n",
      "IntentiontoPurchaseOnline1\n",
      "IntentiontoPurchaseOnline2\n",
      "IntentiontoPurchaseOnline3\n",
      "IntentiontoPurchaseOnline4\n",
      "gender_Female\n",
      "gender_Male\n",
      "marital_status_Married\n",
      "marital_status_Single\n",
      "Have you made online purchases during crisis time?_No\n",
      "Have you made online purchases during crisis time?_Yes\n",
      "platform_general_clean\n",
      "general_aliexpress\n",
      "general_daraz\n",
      "general_ebay\n",
      "general_ikman\n",
      "general_kapruka\n",
      "general_other\n",
      "general_takas\n",
      "general_unknown\n",
      "general_wishque\n",
      "general_wow\n",
      "platform_auto_clean\n",
      "auto_amazon\n",
      "auto_autolanka\n",
      "auto_ikmnan\n",
      "auto_lankavehicle\n",
      "auto_other\n",
      "auto_patpat\n",
      "auto_pricelanka\n",
      "auto_riyasewana\n",
      "auto_unknown\n",
      "platform_pharmacy_clean\n",
      "pharmacy_ceymed\n",
      "pharmacy_epharma\n",
      "pharmacy_healthgurd\n",
      "pharmacy_healthnet\n",
      "pharmacy_nearby\n",
      "pharmacy_onlinepharmacy\n",
      "pharmacy_other\n",
      "pharmacy_unknown\n",
      "platform_fashion_clean\n",
      "fashion_fashionbug\n",
      "fashion_gflock\n",
      "fashion_kapruka\n",
      "fashion_kellyfelder\n",
      "fashion_midnightdivas\n",
      "fashion_mimosa\n",
      "fashion_odel\n",
      "fashion_other\n",
      "fashion_springandsummer\n",
      "fashion_thilakawardana\n",
      "fashion_unknown\n",
      "platform_grocery_clean\n",
      "grocery_arpico\n",
      "grocery_cinnamonhotel\n",
      "grocery_glomark\n",
      "grocery_keels\n",
      "grocery_other\n",
      "grocery_pickmefoods\n",
      "grocery_ubereats\n",
      "grocery_unknown\n"
     ]
    }
   ],
   "source": [
    "# Load the preprocessed dataset\n",
    "df = pd.read_csv(\"/kaggle/input/online-purchase-intentions-during-crises/preprocessed_dataset.csv\")\n",
    "\n",
    "print(\"Column names in the dataset:\")\n",
    "for col in df.columns:\n",
    "    print(col)"
   ]
  },
  {
   "cell_type": "markdown",
   "id": "48f8ecb4",
   "metadata": {
    "papermill": {
     "duration": 0.00317,
     "end_time": "2025-05-13T20:18:39.778062",
     "exception": false,
     "start_time": "2025-05-13T20:18:39.774892",
     "status": "completed"
    },
    "tags": []
   },
   "source": [
    "# Perceived ease of use has no impact on intention to purchase."
   ]
  },
  {
   "cell_type": "code",
   "execution_count": 3,
   "id": "6416bbb6",
   "metadata": {
    "execution": {
     "iopub.execute_input": "2025-05-13T20:18:39.785906Z",
     "iopub.status.busy": "2025-05-13T20:18:39.785363Z",
     "iopub.status.idle": "2025-05-13T20:18:39.819837Z",
     "shell.execute_reply": "2025-05-13T20:18:39.818903Z"
    },
    "papermill": {
     "duration": 0.039728,
     "end_time": "2025-05-13T20:18:39.821068",
     "exception": false,
     "start_time": "2025-05-13T20:18:39.781340",
     "status": "completed"
    },
    "tags": []
   },
   "outputs": [
    {
     "name": "stdout",
     "output_type": "stream",
     "text": [
      "Spearman's rho: 0.19360578301736173\n",
      "p-value: 2.0754481478398974e-08\n",
      "Result: Reject H₀ → Significant relationship exists.\n"
     ]
    }
   ],
   "source": [
    "# Perceived ease of use has no impact on intention to purchase.\n",
    "\n",
    "# Define the columns related to Perceived Ease of Use (PEOU)\n",
    "peou_columns = [\n",
    "    'EaseofNavigation1', 'EaseofNavigation2',\n",
    "    'LearnCurve1', 'LearnCurve2',\n",
    "    'ClarityofInstructions1', 'ClarityofInstructions2',\n",
    "    'ResponseTime1', 'ResponseTime2',\n",
    "    'ErrorHandling1', 'ErrorHandling2'\n",
    "]\n",
    "\n",
    "# Define the columns related to Intention to Purchase Online\n",
    "intention_columns = [\n",
    "    'IntentiontoPurchaseOnline1',\n",
    "    'IntentiontoPurchaseOnline2',\n",
    "    'IntentiontoPurchaseOnline3',\n",
    "    'IntentiontoPurchaseOnline4'\n",
    "]\n",
    "\n",
    "# Compute the average score for each participant\n",
    "df['PEOU'] = df[peou_columns].mean(axis=1)\n",
    "df['Intention'] = df[intention_columns].mean(axis=1)\n",
    "\n",
    "# Drop missing values\n",
    "correlation_df = df[['PEOU', 'Intention']].dropna()\n",
    "\n",
    "# Compute Spearman rank correlation\n",
    "spearman_corr, p_value = spearmanr(correlation_df['PEOU'], correlation_df['Intention'])\n",
    "\n",
    "# Display the result\n",
    "print(\"Spearman's rho:\", spearman_corr)\n",
    "print(\"p-value:\", p_value)\n",
    "\n",
    "if p_value < 0.05:\n",
    "    print(\"Result: Reject H₀ → Significant relationship exists.\")\n",
    "else:\n",
    "    print(\"Result: Fail to reject H₀ → No significant relationship.\")"
   ]
  },
  {
   "cell_type": "markdown",
   "id": "abd0696e",
   "metadata": {
    "papermill": {
     "duration": 0.004912,
     "end_time": "2025-05-13T20:18:39.829768",
     "exception": false,
     "start_time": "2025-05-13T20:18:39.824856",
     "status": "completed"
    },
    "tags": []
   },
   "source": [
    "# Perceived usefulness has no impact on the intention to purchase online."
   ]
  },
  {
   "cell_type": "code",
   "execution_count": 4,
   "id": "ccc6fc5e",
   "metadata": {
    "execution": {
     "iopub.execute_input": "2025-05-13T20:18:39.837529Z",
     "iopub.status.busy": "2025-05-13T20:18:39.837282Z",
     "iopub.status.idle": "2025-05-13T20:18:39.849610Z",
     "shell.execute_reply": "2025-05-13T20:18:39.848800Z"
    },
    "papermill": {
     "duration": 0.017794,
     "end_time": "2025-05-13T20:18:39.850956",
     "exception": false,
     "start_time": "2025-05-13T20:18:39.833162",
     "status": "completed"
    },
    "tags": []
   },
   "outputs": [
    {
     "name": "stdout",
     "output_type": "stream",
     "text": [
      "Spearman's rho: 0.19027769499254027\n",
      "p-value: 3.6413919408969154e-08\n",
      "Result: Reject H₀ → Significant relationship exists.\n"
     ]
    }
   ],
   "source": [
    "# Perceived usefulness has no impact on the intention to purchase online.\n",
    "\n",
    "\n",
    "# Correct PU columns (case-sensitive)\n",
    "pu_columns = [\n",
    "    'ProductAvailability1', 'ProductAvailability2',\n",
    "    'Convenience1', 'Convenience2','Cost-effectiveness1','Cost-effectiveness2',\n",
    "    'InformationAccessibility1', 'InformationAccessibility2',\n",
    "    'Personalization1', 'Personalization2'\n",
    "]\n",
    "\n",
    "# Compute averages\n",
    "df['PU'] = df[pu_columns].mean(axis=1)\n",
    "df['Intention'] = df[intention_columns].mean(axis=1)\n",
    "\n",
    "# Drop missing\n",
    "correlation_df = df[['PU', 'Intention']].dropna()\n",
    "\n",
    "# Spearman correlation\n",
    "spearman_corr, p_value = spearmanr(correlation_df['PU'], correlation_df['Intention'])\n",
    "\n",
    "# Output\n",
    "print(\"Spearman's rho:\", spearman_corr)\n",
    "print(\"p-value:\", p_value)\n",
    "\n",
    "if p_value < 0.05:\n",
    "    print(\"Result: Reject H₀ → Significant relationship exists.\")\n",
    "else:\n",
    "    print(\"Result: Fail to reject H₀ → No significant relationship.\")"
   ]
  },
  {
   "cell_type": "markdown",
   "id": "b8ab15f0",
   "metadata": {
    "papermill": {
     "duration": 0.003297,
     "end_time": "2025-05-13T20:18:39.858008",
     "exception": false,
     "start_time": "2025-05-13T20:18:39.854711",
     "status": "completed"
    },
    "tags": []
   },
   "source": [
    "# Having structural assurance has no impact on the intention to make an online purchase."
   ]
  },
  {
   "cell_type": "code",
   "execution_count": 5,
   "id": "bcf580e6",
   "metadata": {
    "execution": {
     "iopub.execute_input": "2025-05-13T20:18:39.866450Z",
     "iopub.status.busy": "2025-05-13T20:18:39.865776Z",
     "iopub.status.idle": "2025-05-13T20:18:39.878101Z",
     "shell.execute_reply": "2025-05-13T20:18:39.877199Z"
    },
    "papermill": {
     "duration": 0.017949,
     "end_time": "2025-05-13T20:18:39.879405",
     "exception": false,
     "start_time": "2025-05-13T20:18:39.861456",
     "status": "completed"
    },
    "tags": []
   },
   "outputs": [
    {
     "name": "stdout",
     "output_type": "stream",
     "text": [
      "Spearman's rho (SA vs Intention): 0.18097510121525173\n",
      "p-value: 1.6632496435783662e-07\n",
      "Result: Reject H₀ → Significant relationship exists between Structural Assurance and Intention to Purchase.\n"
     ]
    }
   ],
   "source": [
    "# Having structural assurance has no impact on the intention to make an online purchase.\n",
    "\n",
    "# Structural Assurance columns\n",
    "sa_columns = [\n",
    "    'PrivacyProtection1', 'PrivacyProtection2',\n",
    "    'PaymentSecurity1', 'PaymentSecurity2',\n",
    "    'TransparentPolicies1', 'TransparentPolicies2'\n",
    "]\n",
    "\n",
    "# Compute mean scores\n",
    "df['SA'] = df[sa_columns].mean(axis=1)\n",
    "df['Intention'] = df[intention_columns].mean(axis=1)\n",
    "\n",
    "# Drop missing values\n",
    "correlation_df = df[['SA', 'Intention']].dropna()\n",
    "\n",
    "# Compute Spearman rank correlation\n",
    "spearman_corr, p_value = spearmanr(correlation_df['SA'], correlation_df['Intention'])\n",
    "\n",
    "# Display the result\n",
    "print(\"Spearman's rho (SA vs Intention):\", spearman_corr)\n",
    "print(\"p-value:\", p_value)\n",
    "\n",
    "# Interpretation\n",
    "if p_value < 0.05:\n",
    "    print(\"Result: Reject H₀ → Significant relationship exists between Structural Assurance and Intention to Purchase.\")\n",
    "else:\n",
    "    print(\"Result: Fail to reject H₀ → No significant relationship.\")"
   ]
  },
  {
   "cell_type": "markdown",
   "id": "36d2b532",
   "metadata": {
    "papermill": {
     "duration": 0.003347,
     "end_time": "2025-05-13T20:18:39.886880",
     "exception": false,
     "start_time": "2025-05-13T20:18:39.883533",
     "status": "completed"
    },
    "tags": []
   },
   "source": [
    "# Social influence has no impact on the intention to purchase online."
   ]
  },
  {
   "cell_type": "code",
   "execution_count": 6,
   "id": "b850df12",
   "metadata": {
    "execution": {
     "iopub.execute_input": "2025-05-13T20:18:39.894956Z",
     "iopub.status.busy": "2025-05-13T20:18:39.894467Z",
     "iopub.status.idle": "2025-05-13T20:18:39.906451Z",
     "shell.execute_reply": "2025-05-13T20:18:39.905564Z"
    },
    "papermill": {
     "duration": 0.017342,
     "end_time": "2025-05-13T20:18:39.907652",
     "exception": false,
     "start_time": "2025-05-13T20:18:39.890310",
     "status": "completed"
    },
    "tags": []
   },
   "outputs": [
    {
     "name": "stdout",
     "output_type": "stream",
     "text": [
      "Spearman's rho (Social Influence vs Intention): 0.257216811279178\n",
      "p-value: 6.218716323440867e-14\n",
      "Result: Reject H₀ → Significant relationship between Social Influence and Intention to Purchase.\n"
     ]
    }
   ],
   "source": [
    "# Social influence has no impact on the intention to purchase online.\n",
    "\n",
    "# Define columns related to Social Influence\n",
    "social_influence_columns = [\n",
    "    'WordofMouthandRecommendations1', 'WordofMouthandRecommendations2',\n",
    "    'SocialMediaPosts/Influence1', 'SocialMediaPosts/Influence2',\n",
    "    'OnlineReviewsandRatings1', 'OnlineReviewsandRatings2',\n",
    "    'SocialProof1', 'SocialProof2',\n",
    "    'NormativePressure1', 'NormativePressure2',\n",
    "    'InformationSharing1', 'InformationSharing2'\n",
    "]\n",
    "\n",
    "# Compute average scores\n",
    "df['SocialInfluence'] = df[social_influence_columns].mean(axis=1)\n",
    "df['Intention'] = df[intention_columns].mean(axis=1)\n",
    "\n",
    "# Drop missing values\n",
    "correlation_df = df[['SocialInfluence', 'Intention']].dropna()\n",
    "\n",
    "# Compute Spearman rank correlation\n",
    "spearman_corr, p_value = spearmanr(correlation_df['SocialInfluence'], correlation_df['Intention'])\n",
    "\n",
    "# Display the result\n",
    "print(\"Spearman's rho (Social Influence vs Intention):\", spearman_corr)\n",
    "print(\"p-value:\", p_value)\n",
    "\n",
    "# Interpretation\n",
    "if p_value < 0.05:\n",
    "    print(\"Result: Reject H₀ → Significant relationship between Social Influence and Intention to Purchase.\")\n",
    "else:\n",
    "    print(\"Result: Fail to reject H₀ → No significant relationship.\")"
   ]
  },
  {
   "cell_type": "markdown",
   "id": "cfdf69dd",
   "metadata": {
    "papermill": {
     "duration": 0.003357,
     "end_time": "2025-05-13T20:18:39.914764",
     "exception": false,
     "start_time": "2025-05-13T20:18:39.911407",
     "status": "completed"
    },
    "tags": []
   },
   "source": [
    "# The attitude towards online shopping does not mediate the relationship between perceived ease of use and the intention to purchase online."
   ]
  },
  {
   "cell_type": "code",
   "execution_count": 7,
   "id": "fdf79bfe",
   "metadata": {
    "execution": {
     "iopub.execute_input": "2025-05-13T20:18:39.923233Z",
     "iopub.status.busy": "2025-05-13T20:18:39.922594Z",
     "iopub.status.idle": "2025-05-13T20:18:40.622406Z",
     "shell.execute_reply": "2025-05-13T20:18:40.621602Z"
    },
    "papermill": {
     "duration": 0.705662,
     "end_time": "2025-05-13T20:18:40.623927",
     "exception": false,
     "start_time": "2025-05-13T20:18:39.918265",
     "status": "completed"
    },
    "tags": []
   },
   "outputs": [
    {
     "name": "stdout",
     "output_type": "stream",
     "text": [
      "\n",
      "Step 1: Total Effect (c) — Intention ~ PEOU\n",
      "                            OLS Regression Results                            \n",
      "==============================================================================\n",
      "Dep. Variable:              Intention   R-squared:                       0.075\n",
      "Model:                            OLS   Adj. R-squared:                  0.074\n",
      "Method:                 Least Squares   F-statistic:                     66.41\n",
      "Date:                Tue, 13 May 2025   Prob (F-statistic):           1.36e-15\n",
      "Time:                        20:18:40   Log-Likelihood:                -597.56\n",
      "No. Observations:                 825   AIC:                             1199.\n",
      "Df Residuals:                     823   BIC:                             1209.\n",
      "Df Model:                           1                                         \n",
      "Covariance Type:            nonrobust                                         \n",
      "==============================================================================\n",
      "                 coef    std err          t      P>|t|      [0.025      0.975]\n",
      "------------------------------------------------------------------------------\n",
      "Intercept      2.9905      0.103     29.062      0.000       2.789       3.192\n",
      "PEOU           0.2536      0.031      8.149      0.000       0.193       0.315\n",
      "==============================================================================\n",
      "Omnibus:                       42.389   Durbin-Watson:                   1.417\n",
      "Prob(Omnibus):                  0.000   Jarque-Bera (JB):               55.767\n",
      "Skew:                          -0.470   Prob(JB):                     7.77e-13\n",
      "Kurtosis:                       3.859   Cond. No.                         21.3\n",
      "==============================================================================\n",
      "\n",
      "Notes:\n",
      "[1] Standard Errors assume that the covariance matrix of the errors is correctly specified.\n",
      "\n",
      "Step 2: Path a — Attitude ~ PEOU\n",
      "                            OLS Regression Results                            \n",
      "==============================================================================\n",
      "Dep. Variable:               Attitude   R-squared:                       0.157\n",
      "Model:                            OLS   Adj. R-squared:                  0.156\n",
      "Method:                 Least Squares   F-statistic:                     153.1\n",
      "Date:                Tue, 13 May 2025   Prob (F-statistic):           2.24e-32\n",
      "Time:                        20:18:40   Log-Likelihood:                -729.40\n",
      "No. Observations:                 825   AIC:                             1463.\n",
      "Df Residuals:                     823   BIC:                             1472.\n",
      "Df Model:                           1                                         \n",
      "Covariance Type:            nonrobust                                         \n",
      "==============================================================================\n",
      "                 coef    std err          t      P>|t|      [0.025      0.975]\n",
      "------------------------------------------------------------------------------\n",
      "Intercept      2.3809      0.121     19.720      0.000       2.144       2.618\n",
      "PEOU           0.4518      0.037     12.374      0.000       0.380       0.524\n",
      "==============================================================================\n",
      "Omnibus:                       62.938   Durbin-Watson:                   1.226\n",
      "Prob(Omnibus):                  0.000   Jarque-Bera (JB):              109.719\n",
      "Skew:                          -0.527   Prob(JB):                     1.50e-24\n",
      "Kurtosis:                       4.442   Cond. No.                         21.3\n",
      "==============================================================================\n",
      "\n",
      "Notes:\n",
      "[1] Standard Errors assume that the covariance matrix of the errors is correctly specified.\n",
      "\n",
      "Step 3: Path b and c′ — Intention ~ PEOU + Attitude\n",
      "                            OLS Regression Results                            \n",
      "==============================================================================\n",
      "Dep. Variable:              Intention   R-squared:                       0.241\n",
      "Model:                            OLS   Adj. R-squared:                  0.240\n",
      "Method:                 Least Squares   F-statistic:                     130.8\n",
      "Date:                Tue, 13 May 2025   Prob (F-statistic):           4.87e-50\n",
      "Time:                        20:18:40   Log-Likelihood:                -515.61\n",
      "No. Observations:                 825   AIC:                             1037.\n",
      "Df Residuals:                     822   BIC:                             1051.\n",
      "Df Model:                           2                                         \n",
      "Covariance Type:            nonrobust                                         \n",
      "==============================================================================\n",
      "                 coef    std err          t      P>|t|      [0.025      0.975]\n",
      "------------------------------------------------------------------------------\n",
      "Intercept      2.1291      0.113     18.820      0.000       1.907       2.351\n",
      "PEOU           0.0901      0.031      2.936      0.003       0.030       0.150\n",
      "Attitude       0.3618      0.027     13.441      0.000       0.309       0.415\n",
      "==============================================================================\n",
      "Omnibus:                       19.070   Durbin-Watson:                   1.282\n",
      "Prob(Omnibus):                  0.000   Jarque-Bera (JB):               23.904\n",
      "Skew:                          -0.270   Prob(JB):                     6.45e-06\n",
      "Kurtosis:                       3.636   Cond. No.                         38.0\n",
      "==============================================================================\n",
      "\n",
      "Notes:\n",
      "[1] Standard Errors assume that the covariance matrix of the errors is correctly specified.\n",
      "\n",
      "Sobel Test for Indirect Effect (a × b):\n",
      "Z = 9.1036\n",
      "p-value = 0.0000\n",
      "Reject H₀: Attitude significantly mediates the relationship between PEOU and Intention.\n"
     ]
    }
   ],
   "source": [
    "import statsmodels.formula.api as smf\n",
    "from math import sqrt\n",
    "from scipy.stats import norm\n",
    "\n",
    "#The attitude towards online shopping does not mediate the relationship between perceived ease of use and the intention to purchase online.\n",
    "\n",
    "\n",
    "# Define columns for each construct\n",
    "peou_columns = [\n",
    "    'EaseofNavigation1', 'EaseofNavigation2',\n",
    "    'LearnCurve1', 'LearnCurve2',\n",
    "    'ClarityofInstructions1', 'ClarityofInstructions2',\n",
    "    'ResponseTime1', 'ResponseTime2',\n",
    "    'ErrorHandling1', 'ErrorHandling2'\n",
    "]\n",
    "\n",
    "attitude_columns = ['Attitude1', 'Attitude2']\n",
    "\n",
    "# Compute construct means\n",
    "df['PEOU'] = df[peou_columns].mean(axis=1)\n",
    "df['Attitude'] = df[attitude_columns].mean(axis=1)\n",
    "df['Intention'] = df[intention_columns].mean(axis=1)\n",
    "\n",
    "# Drop rows with missing values\n",
    "df_clean = df[['PEOU', 'Attitude', 'Intention']].dropna()\n",
    "\n",
    "# Step 1: Total effect (c) — Intention ~ PEOU\n",
    "model_c = smf.ols('Intention ~ PEOU', data=df_clean).fit()\n",
    "\n",
    "# Step 2: Path a — Attitude ~ PEOU\n",
    "model_a = smf.ols('Attitude ~ PEOU', data=df_clean).fit()\n",
    "\n",
    "# Step 3: Path b and c′ — Intention ~ PEOU + Attitude\n",
    "model_b_cprime = smf.ols('Intention ~ PEOU + Attitude', data=df_clean).fit()\n",
    "\n",
    "# Sobel test for indirect effect (a × b)\n",
    "a = model_a.params['PEOU']\n",
    "sa = model_a.bse['PEOU']\n",
    "b = model_b_cprime.params['Attitude']\n",
    "sb = model_b_cprime.bse['Attitude']\n",
    "sobel_z = (a * b) / sqrt(b**2 * sa**2 + a**2 * sb**2)\n",
    "sobel_p = 2 * (1 - norm.cdf(abs(sobel_z)))\n",
    "\n",
    "# Print all results\n",
    "print(\"\\nStep 1: Total Effect (c) — Intention ~ PEOU\")\n",
    "print(model_c.summary())\n",
    "\n",
    "print(\"\\nStep 2: Path a — Attitude ~ PEOU\")\n",
    "print(model_a.summary())\n",
    "\n",
    "print(\"\\nStep 3: Path b and c′ — Intention ~ PEOU + Attitude\")\n",
    "print(model_b_cprime.summary())\n",
    "\n",
    "print(\"\\nSobel Test for Indirect Effect (a × b):\")\n",
    "print(f\"Z = {sobel_z:.4f}\")\n",
    "print(f\"p-value = {sobel_p:.4f}\")\n",
    "\n",
    "# Final Verdict\n",
    "if sobel_p < 0.05:\n",
    "    print(\"Reject H₀: Attitude significantly mediates the relationship between PEOU and Intention.\")\n",
    "else:\n",
    "    print(\"Fail to reject H₀: No significant mediation effect of Attitude.\")\n"
   ]
  },
  {
   "cell_type": "markdown",
   "id": "fe51c8a2",
   "metadata": {
    "papermill": {
     "duration": 0.003593,
     "end_time": "2025-05-13T20:18:40.631720",
     "exception": false,
     "start_time": "2025-05-13T20:18:40.628127",
     "status": "completed"
    },
    "tags": []
   },
   "source": [
    "# Ease of navigation has no impact on the intention to purchase online."
   ]
  },
  {
   "cell_type": "code",
   "execution_count": 8,
   "id": "bab56113",
   "metadata": {
    "execution": {
     "iopub.execute_input": "2025-05-13T20:18:40.640373Z",
     "iopub.status.busy": "2025-05-13T20:18:40.639964Z",
     "iopub.status.idle": "2025-05-13T20:18:40.652026Z",
     "shell.execute_reply": "2025-05-13T20:18:40.651275Z"
    },
    "papermill": {
     "duration": 0.017783,
     "end_time": "2025-05-13T20:18:40.653201",
     "exception": false,
     "start_time": "2025-05-13T20:18:40.635418",
     "status": "completed"
    },
    "tags": []
   },
   "outputs": [
    {
     "name": "stdout",
     "output_type": "stream",
     "text": [
      "Spearman's rho (Ease of Navigation vs Intention): 0.14202818873951203\n",
      "p-value: 4.2393032685419935e-05\n",
      "Result: Reject H₀ → Ease of Navigation significantly correlates with Intention to Purchase.\n"
     ]
    }
   ],
   "source": [
    "# Ease of navigation has no impact on the intention to purchase online.\n",
    "\n",
    "# Define the columns for Ease of Navigation\n",
    "navigation_columns = [\n",
    "    'EaseofNavigation1', 'EaseofNavigation2'\n",
    "]\n",
    "\n",
    "# Compute the average scores\n",
    "df['EaseOfNavigation'] = df[navigation_columns].mean(axis=1)\n",
    "df['Intention'] = df[intention_columns].mean(axis=1)\n",
    "\n",
    "# Drop missing values\n",
    "correlation_df = df[['EaseOfNavigation', 'Intention']].dropna()\n",
    "\n",
    "# Compute Spearman rank correlation\n",
    "spearman_corr, p_value = spearmanr(correlation_df['EaseOfNavigation'], correlation_df['Intention'])\n",
    "\n",
    "# Display the result\n",
    "print(\"Spearman's rho (Ease of Navigation vs Intention):\", spearman_corr)\n",
    "print(\"p-value:\", p_value)\n",
    "\n",
    "# Optional interpretation\n",
    "if p_value < 0.05:\n",
    "    print(\"Result: Reject H₀ → Ease of Navigation significantly correlates with Intention to Purchase.\")\n",
    "else:\n",
    "    print(\"Result: Fail to reject H₀ → No significant relationship detected.\")"
   ]
  },
  {
   "cell_type": "markdown",
   "id": "432d3ab5",
   "metadata": {
    "papermill": {
     "duration": 0.004519,
     "end_time": "2025-05-13T20:18:40.661733",
     "exception": false,
     "start_time": "2025-05-13T20:18:40.657214",
     "status": "completed"
    },
    "tags": []
   },
   "source": [
    "# Clarity of instructions has no impact on the intention to purchase online."
   ]
  },
  {
   "cell_type": "code",
   "execution_count": 9,
   "id": "957458c2",
   "metadata": {
    "execution": {
     "iopub.execute_input": "2025-05-13T20:18:40.673113Z",
     "iopub.status.busy": "2025-05-13T20:18:40.672260Z",
     "iopub.status.idle": "2025-05-13T20:18:40.705230Z",
     "shell.execute_reply": "2025-05-13T20:18:40.704002Z"
    },
    "papermill": {
     "duration": 0.040245,
     "end_time": "2025-05-13T20:18:40.707534",
     "exception": false,
     "start_time": "2025-05-13T20:18:40.667289",
     "status": "completed"
    },
    "tags": []
   },
   "outputs": [
    {
     "name": "stdout",
     "output_type": "stream",
     "text": [
      "Spearman's rho (Clarity vs Intention): 0.20584246611822185\n",
      "p-value: 2.4102278405661193e-09\n",
      "Reject H₀: Clarity of instructions significantly impacts intention to purchase.\n"
     ]
    }
   ],
   "source": [
    "# Clarity of instructions has no impact on the intention to purchase online.\n",
    "\n",
    "# Load the preprocessed dataset\n",
    "df = pd.read_csv(\"/kaggle/input/online-purchase-intentions-during-crises/preprocessed_dataset.csv\")\n",
    "\n",
    "# Define Clarity of Instructions columns\n",
    "clarity_columns = ['ClarityofInstructions1', 'ClarityofInstructions2']\n",
    "\n",
    "\n",
    "# Compute average scores\n",
    "df['Clarity'] = df[clarity_columns].mean(axis=1)\n",
    "df['Intention'] = df[intention_columns].mean(axis=1)\n",
    "\n",
    "# Drop missing values\n",
    "correlation_df = df[['Clarity', 'Intention']].dropna()\n",
    "\n",
    "# Compute Spearman rank correlation\n",
    "spearman_corr, p_value = spearmanr(correlation_df['Clarity'], correlation_df['Intention'])\n",
    "\n",
    "# Display results\n",
    "print(\"Spearman's rho (Clarity vs Intention):\", spearman_corr)\n",
    "print(\"p-value:\", p_value)\n",
    "\n",
    "# Interpretation\n",
    "if p_value < 0.05:\n",
    "    print(\"Reject H₀: Clarity of instructions significantly impacts intention to purchase.\")\n",
    "else:\n",
    "    print(\"Fail to reject H₀: No significant relationship.\")"
   ]
  },
  {
   "cell_type": "markdown",
   "id": "714c3b90",
   "metadata": {
    "papermill": {
     "duration": 0.004586,
     "end_time": "2025-05-13T20:18:40.717633",
     "exception": false,
     "start_time": "2025-05-13T20:18:40.713047",
     "status": "completed"
    },
    "tags": []
   },
   "source": [
    "# Response Time has no impact on intention to purchase online."
   ]
  },
  {
   "cell_type": "code",
   "execution_count": 10,
   "id": "bf4b4d6a",
   "metadata": {
    "execution": {
     "iopub.execute_input": "2025-05-13T20:18:40.729211Z",
     "iopub.status.busy": "2025-05-13T20:18:40.728737Z",
     "iopub.status.idle": "2025-05-13T20:18:40.742888Z",
     "shell.execute_reply": "2025-05-13T20:18:40.741952Z"
    },
    "papermill": {
     "duration": 0.0221,
     "end_time": "2025-05-13T20:18:40.744508",
     "exception": false,
     "start_time": "2025-05-13T20:18:40.722408",
     "status": "completed"
    },
    "tags": []
   },
   "outputs": [
    {
     "name": "stdout",
     "output_type": "stream",
     "text": [
      "Spearman's rho (Response Time vs Intention): 0.07607996063588794\n",
      "p-value: 0.028882628417328946\n",
      "Result: Reject H₀ → Significant relationship exists between Response Time and Intention.\n"
     ]
    }
   ],
   "source": [
    "# Response Time has no impact on intention to purchase online.\n",
    "\n",
    "# Define columns related to Response Time\n",
    "response_time_columns = ['ResponseTime1', 'ResponseTime2']\n",
    "\n",
    "\n",
    "# Compute average scores for each participant\n",
    "df['ResponseTime'] = df[response_time_columns].mean(axis=1)\n",
    "df['Intention'] = df[intention_columns].mean(axis=1)\n",
    "\n",
    "# Drop missing values\n",
    "correlation_df = df[['ResponseTime', 'Intention']].dropna()\n",
    "\n",
    "# Compute Spearman rank correlation\n",
    "spearman_corr, p_value = spearmanr(correlation_df['ResponseTime'], correlation_df['Intention'])\n",
    "\n",
    "# Display the results\n",
    "print(\"Spearman's rho (Response Time vs Intention):\", spearman_corr)\n",
    "print(\"p-value:\", p_value)\n",
    "\n",
    "# Interpretation\n",
    "if p_value < 0.05:\n",
    "    print(\"Result: Reject H₀ → Significant relationship exists between Response Time and Intention.\")\n",
    "else:\n",
    "    print(\"Result: Fail to reject H₀ → No significant relationship.\")"
   ]
  },
  {
   "cell_type": "markdown",
   "id": "da22fe74",
   "metadata": {
    "papermill": {
     "duration": 0.003731,
     "end_time": "2025-05-13T20:18:40.755652",
     "exception": false,
     "start_time": "2025-05-13T20:18:40.751921",
     "status": "completed"
    },
    "tags": []
   },
   "source": [
    "# Error handling has no impact on intention to purchase online"
   ]
  },
  {
   "cell_type": "code",
   "execution_count": 11,
   "id": "9ef2f582",
   "metadata": {
    "execution": {
     "iopub.execute_input": "2025-05-13T20:18:40.767784Z",
     "iopub.status.busy": "2025-05-13T20:18:40.767415Z",
     "iopub.status.idle": "2025-05-13T20:18:40.780006Z",
     "shell.execute_reply": "2025-05-13T20:18:40.779294Z"
    },
    "papermill": {
     "duration": 0.019874,
     "end_time": "2025-05-13T20:18:40.781181",
     "exception": false,
     "start_time": "2025-05-13T20:18:40.761307",
     "status": "completed"
    },
    "tags": []
   },
   "outputs": [
    {
     "name": "stdout",
     "output_type": "stream",
     "text": [
      "Spearman's rho (Error Handling vs Intention): 0.14893676915712514\n",
      "p-value: 1.7439795709379758e-05\n",
      "Result: Reject H₀ → Significant relationship exists between Error Handling and Intention to Purchase.\n"
     ]
    }
   ],
   "source": [
    "# Error handling has no impact on intention to purchase online\n",
    "\n",
    "# Define the columns related to Error Handling\n",
    "error_handling_columns = ['ErrorHandling1', 'ErrorHandling2']\n",
    "\n",
    "# Compute the average score for each construct\n",
    "df['ErrorHandling'] = df[error_handling_columns].mean(axis=1)\n",
    "df['Intention'] = df[intention_columns].mean(axis=1)\n",
    "\n",
    "# Drop rows with missing values\n",
    "correlation_df = df[['ErrorHandling', 'Intention']].dropna()\n",
    "\n",
    "# Compute Spearman's rank correlation\n",
    "spearman_corr, p_value = spearmanr(correlation_df['ErrorHandling'], correlation_df['Intention'])\n",
    "\n",
    "# Display the result\n",
    "print(\"Spearman's rho (Error Handling vs Intention):\", spearman_corr)\n",
    "print(\"p-value:\", p_value)\n",
    "\n",
    "# Interpret the result\n",
    "if p_value < 0.05:\n",
    "    print(\"Result: Reject H₀ → Significant relationship exists between Error Handling and Intention to Purchase.\")\n",
    "else:\n",
    "    print(\"Result: Fail to reject H₀ → No significant relationship.\")"
   ]
  }
 ],
 "metadata": {
  "kaggle": {
   "accelerator": "none",
   "dataSources": [
    {
     "datasetId": 7390461,
     "sourceId": 11793769,
     "sourceType": "datasetVersion"
    }
   ],
   "dockerImageVersionId": 31040,
   "isGpuEnabled": false,
   "isInternetEnabled": false,
   "language": "python",
   "sourceType": "notebook"
  },
  "kernelspec": {
   "display_name": "Python 3",
   "language": "python",
   "name": "python3"
  },
  "language_info": {
   "codemirror_mode": {
    "name": "ipython",
    "version": 3
   },
   "file_extension": ".py",
   "mimetype": "text/x-python",
   "name": "python",
   "nbconvert_exporter": "python",
   "pygments_lexer": "ipython3",
   "version": "3.11.11"
  },
  "papermill": {
   "default_parameters": {},
   "duration": 8.450513,
   "end_time": "2025-05-13T20:18:41.304456",
   "environment_variables": {},
   "exception": null,
   "input_path": "__notebook__.ipynb",
   "output_path": "__notebook__.ipynb",
   "parameters": {},
   "start_time": "2025-05-13T20:18:32.853943",
   "version": "2.6.0"
  }
 },
 "nbformat": 4,
 "nbformat_minor": 5
}
