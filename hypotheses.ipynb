{
 "cells": [
  {
   "cell_type": "markdown",
   "id": "b49ca460",
   "metadata": {
    "papermill": {
     "duration": 0.007834,
     "end_time": "2025-05-13T21:13:55.567495",
     "exception": false,
     "start_time": "2025-05-13T21:13:55.559661",
     "status": "completed"
    },
    "tags": []
   },
   "source": [
    "<h1 style=\"color:lightblue; text-align:center;\">Hypothesis Testing</h1>\n"
   ]
  },
  {
   "cell_type": "code",
   "execution_count": 1,
   "id": "45d34cfd",
   "metadata": {
    "_cell_guid": "b1076dfc-b9ad-4769-8c92-a6c4dae69d19",
    "_uuid": "8f2839f25d086af736a60e9eeb907d3b93b6e0e5",
    "execution": {
     "iopub.execute_input": "2025-05-13T21:13:55.582905Z",
     "iopub.status.busy": "2025-05-13T21:13:55.582567Z",
     "iopub.status.idle": "2025-05-13T21:13:58.733604Z",
     "shell.execute_reply": "2025-05-13T21:13:58.732845Z"
    },
    "papermill": {
     "duration": 3.160746,
     "end_time": "2025-05-13T21:13:58.735381",
     "exception": false,
     "start_time": "2025-05-13T21:13:55.574635",
     "status": "completed"
    },
    "tags": []
   },
   "outputs": [],
   "source": [
    "import numpy as np\n",
    "import pandas as pd\n",
    "from scipy.stats import spearmanr"
   ]
  },
  {
   "cell_type": "code",
   "execution_count": 2,
   "id": "ec2122e1",
   "metadata": {
    "execution": {
     "iopub.execute_input": "2025-05-13T21:13:58.751479Z",
     "iopub.status.busy": "2025-05-13T21:13:58.750393Z",
     "iopub.status.idle": "2025-05-13T21:13:58.800109Z",
     "shell.execute_reply": "2025-05-13T21:13:58.798844Z"
    },
    "papermill": {
     "duration": 0.059844,
     "end_time": "2025-05-13T21:13:58.802400",
     "exception": false,
     "start_time": "2025-05-13T21:13:58.742556",
     "status": "completed"
    },
    "tags": []
   },
   "outputs": [
    {
     "name": "stdout",
     "output_type": "stream",
     "text": [
      "Column names in the dataset:\n",
      "age\n",
      "education\n",
      "used_before\n",
      "profession\n",
      "EaseofNavigation1\n",
      "EaseofNavigation2\n",
      "LearnCurve1\n",
      "LearnCurve2\n",
      "ClarityofInstructions1\n",
      "ClarityofInstructions2\n",
      "ResponseTime1\n",
      "ResponseTime2\n",
      "ErrorHandling1\n",
      "ErrorHandling2\n",
      "ProductAvailability1\n",
      "ProductAvailability2\n",
      "Convenience1\n",
      "Convenience2\n",
      "Cost-effectiveness1\n",
      "Cost-effectiveness2\n",
      "InformationAccessibility1\n",
      "InformationAccessibility2\n",
      "Personalization1\n",
      "Personalization2\n",
      "PrivacyProtection1\n",
      "PrivacyProtection2\n",
      "PaymentSecurity1\n",
      "PaymentSecurity2\n",
      "TransparentPolicies1\n",
      "TransparentPolicies2\n",
      "WordofMouthandRecommendations1\n",
      "WordofMouthandRecommendations2\n",
      "SocialMediaPosts/Influence1\n",
      "SocialMediaPosts/Influence2\n",
      "OnlineReviewsandRatings1\n",
      "OnlineReviewsandRatings2\n",
      "SocialProof1\n",
      "SocialProof2\n",
      "NormativePressure1\n",
      "NormativePressure2\n",
      "InformationSharing1\n",
      "InformationSharing2\n",
      "Attitude1\n",
      "Attitude2\n",
      "PerceivedRisk1\n",
      "PerceivedRisk2\n",
      "IntentiontoPurchaseOnline1\n",
      "IntentiontoPurchaseOnline2\n",
      "IntentiontoPurchaseOnline3\n",
      "IntentiontoPurchaseOnline4\n",
      "gender_Female\n",
      "gender_Male\n",
      "marital_status_Married\n",
      "marital_status_Single\n",
      "Have you made online purchases during crisis time?_No\n",
      "Have you made online purchases during crisis time?_Yes\n",
      "platform_general_clean\n",
      "general_aliexpress\n",
      "general_daraz\n",
      "general_ebay\n",
      "general_ikman\n",
      "general_kapruka\n",
      "general_other\n",
      "general_takas\n",
      "general_unknown\n",
      "general_wishque\n",
      "general_wow\n",
      "platform_auto_clean\n",
      "auto_amazon\n",
      "auto_autolanka\n",
      "auto_ikmnan\n",
      "auto_lankavehicle\n",
      "auto_other\n",
      "auto_patpat\n",
      "auto_pricelanka\n",
      "auto_riyasewana\n",
      "auto_unknown\n",
      "platform_pharmacy_clean\n",
      "pharmacy_ceymed\n",
      "pharmacy_epharma\n",
      "pharmacy_healthgurd\n",
      "pharmacy_healthnet\n",
      "pharmacy_nearby\n",
      "pharmacy_onlinepharmacy\n",
      "pharmacy_other\n",
      "pharmacy_unknown\n",
      "platform_fashion_clean\n",
      "fashion_fashionbug\n",
      "fashion_gflock\n",
      "fashion_kapruka\n",
      "fashion_kellyfelder\n",
      "fashion_midnightdivas\n",
      "fashion_mimosa\n",
      "fashion_odel\n",
      "fashion_other\n",
      "fashion_springandsummer\n",
      "fashion_thilakawardana\n",
      "fashion_unknown\n",
      "platform_grocery_clean\n",
      "grocery_arpico\n",
      "grocery_cinnamonhotel\n",
      "grocery_glomark\n",
      "grocery_keels\n",
      "grocery_other\n",
      "grocery_pickmefoods\n",
      "grocery_ubereats\n",
      "grocery_unknown\n"
     ]
    }
   ],
   "source": [
    "# Load the preprocessed dataset\n",
    "df = pd.read_csv(\"/kaggle/input/online-purchase-intentions-during-crises/preprocessed_dataset.csv\")\n",
    "\n",
    "print(\"Column names in the dataset:\")\n",
    "for col in df.columns:\n",
    "    print(col)"
   ]
  },
  {
   "cell_type": "markdown",
   "id": "956de65b",
   "metadata": {
    "papermill": {
     "duration": 0.006826,
     "end_time": "2025-05-13T21:13:58.816869",
     "exception": false,
     "start_time": "2025-05-13T21:13:58.810043",
     "status": "completed"
    },
    "tags": []
   },
   "source": [
    "# Perceived ease of use has no impact on intention to purchase."
   ]
  },
  {
   "cell_type": "code",
   "execution_count": 3,
   "id": "aec77252",
   "metadata": {
    "execution": {
     "iopub.execute_input": "2025-05-13T21:13:58.833148Z",
     "iopub.status.busy": "2025-05-13T21:13:58.832373Z",
     "iopub.status.idle": "2025-05-13T21:13:58.866452Z",
     "shell.execute_reply": "2025-05-13T21:13:58.865521Z"
    },
    "papermill": {
     "duration": 0.044216,
     "end_time": "2025-05-13T21:13:58.868083",
     "exception": false,
     "start_time": "2025-05-13T21:13:58.823867",
     "status": "completed"
    },
    "tags": []
   },
   "outputs": [
    {
     "name": "stdout",
     "output_type": "stream",
     "text": [
      "Spearman's rho: 0.19360578301736173\n",
      "p-value: 2.0754481478398974e-08\n",
      "Result: Reject H₀ → Significant relationship exists.\n"
     ]
    }
   ],
   "source": [
    "# Perceived ease of use has no impact on intention to purchase.\n",
    "\n",
    "# Define the columns related to Perceived Ease of Use (PEOU)\n",
    "peou_columns = [\n",
    "    'EaseofNavigation1', 'EaseofNavigation2',\n",
    "    'LearnCurve1', 'LearnCurve2',\n",
    "    'ClarityofInstructions1', 'ClarityofInstructions2',\n",
    "    'ResponseTime1', 'ResponseTime2',\n",
    "    'ErrorHandling1', 'ErrorHandling2'\n",
    "]\n",
    "\n",
    "# Define the columns related to Intention to Purchase Online\n",
    "intention_columns = [\n",
    "    'IntentiontoPurchaseOnline1',\n",
    "    'IntentiontoPurchaseOnline2',\n",
    "    'IntentiontoPurchaseOnline3',\n",
    "    'IntentiontoPurchaseOnline4'\n",
    "]\n",
    "\n",
    "# Compute the average score for each participant\n",
    "df['PEOU'] = df[peou_columns].mean(axis=1)\n",
    "df['Intention'] = df[intention_columns].mean(axis=1)\n",
    "\n",
    "# Drop missing values\n",
    "correlation_df = df[['PEOU', 'Intention']].dropna()\n",
    "\n",
    "# Compute Spearman rank correlation\n",
    "spearman_corr, p_value = spearmanr(correlation_df['PEOU'], correlation_df['Intention'])\n",
    "\n",
    "# Display the result\n",
    "print(\"Spearman's rho:\", spearman_corr)\n",
    "print(\"p-value:\", p_value)\n",
    "\n",
    "if p_value < 0.05:\n",
    "    print(\"Result: Reject H₀ → Significant relationship exists.\")\n",
    "else:\n",
    "    print(\"Result: Fail to reject H₀ → No significant relationship.\")"
   ]
  },
  {
   "cell_type": "markdown",
   "id": "cce1aba7",
   "metadata": {
    "papermill": {
     "duration": 0.006886,
     "end_time": "2025-05-13T21:13:58.882348",
     "exception": false,
     "start_time": "2025-05-13T21:13:58.875462",
     "status": "completed"
    },
    "tags": []
   },
   "source": [
    "# Perceived usefulness has no impact on the intention to purchase online."
   ]
  },
  {
   "cell_type": "code",
   "execution_count": 4,
   "id": "e2c53d8c",
   "metadata": {
    "execution": {
     "iopub.execute_input": "2025-05-13T21:13:58.897663Z",
     "iopub.status.busy": "2025-05-13T21:13:58.897350Z",
     "iopub.status.idle": "2025-05-13T21:13:58.911513Z",
     "shell.execute_reply": "2025-05-13T21:13:58.910492Z"
    },
    "papermill": {
     "duration": 0.02381,
     "end_time": "2025-05-13T21:13:58.913041",
     "exception": false,
     "start_time": "2025-05-13T21:13:58.889231",
     "status": "completed"
    },
    "tags": []
   },
   "outputs": [
    {
     "name": "stdout",
     "output_type": "stream",
     "text": [
      "Spearman's rho: 0.19027769499254027\n",
      "p-value: 3.6413919408969154e-08\n",
      "Result: Reject H₀ → Significant relationship exists.\n"
     ]
    }
   ],
   "source": [
    "# Perceived usefulness has no impact on the intention to purchase online.\n",
    "\n",
    "\n",
    "# Correct PU columns (case-sensitive)\n",
    "pu_columns = [\n",
    "    'ProductAvailability1', 'ProductAvailability2',\n",
    "    'Convenience1', 'Convenience2','Cost-effectiveness1','Cost-effectiveness2',\n",
    "    'InformationAccessibility1', 'InformationAccessibility2',\n",
    "    'Personalization1', 'Personalization2'\n",
    "]\n",
    "\n",
    "# Compute averages\n",
    "df['PU'] = df[pu_columns].mean(axis=1)\n",
    "df['Intention'] = df[intention_columns].mean(axis=1)\n",
    "\n",
    "# Drop missing\n",
    "correlation_df = df[['PU', 'Intention']].dropna()\n",
    "\n",
    "# Spearman correlation\n",
    "spearman_corr, p_value = spearmanr(correlation_df['PU'], correlation_df['Intention'])\n",
    "\n",
    "# Output\n",
    "print(\"Spearman's rho:\", spearman_corr)\n",
    "print(\"p-value:\", p_value)\n",
    "\n",
    "if p_value < 0.05:\n",
    "    print(\"Result: Reject H₀ → Significant relationship exists.\")\n",
    "else:\n",
    "    print(\"Result: Fail to reject H₀ → No significant relationship.\")"
   ]
  },
  {
   "cell_type": "markdown",
   "id": "ef88f109",
   "metadata": {
    "papermill": {
     "duration": 0.007348,
     "end_time": "2025-05-13T21:13:58.927603",
     "exception": false,
     "start_time": "2025-05-13T21:13:58.920255",
     "status": "completed"
    },
    "tags": []
   },
   "source": [
    "# Having structural assurance has no impact on the intention to make an online purchase."
   ]
  },
  {
   "cell_type": "code",
   "execution_count": 5,
   "id": "b385b7ae",
   "metadata": {
    "execution": {
     "iopub.execute_input": "2025-05-13T21:13:58.943207Z",
     "iopub.status.busy": "2025-05-13T21:13:58.942896Z",
     "iopub.status.idle": "2025-05-13T21:13:58.955677Z",
     "shell.execute_reply": "2025-05-13T21:13:58.954721Z"
    },
    "papermill": {
     "duration": 0.022356,
     "end_time": "2025-05-13T21:13:58.957038",
     "exception": false,
     "start_time": "2025-05-13T21:13:58.934682",
     "status": "completed"
    },
    "tags": []
   },
   "outputs": [
    {
     "name": "stdout",
     "output_type": "stream",
     "text": [
      "Spearman's rho (SA vs Intention): 0.18097510121525173\n",
      "p-value: 1.6632496435783662e-07\n",
      "Result: Reject H₀ → Significant relationship exists between Structural Assurance and Intention to Purchase.\n"
     ]
    }
   ],
   "source": [
    "# Having structural assurance has no impact on the intention to make an online purchase.\n",
    "\n",
    "# Structural Assurance columns\n",
    "sa_columns = [\n",
    "    'PrivacyProtection1', 'PrivacyProtection2',\n",
    "    'PaymentSecurity1', 'PaymentSecurity2',\n",
    "    'TransparentPolicies1', 'TransparentPolicies2'\n",
    "]\n",
    "\n",
    "# Compute mean scores\n",
    "df['SA'] = df[sa_columns].mean(axis=1)\n",
    "df['Intention'] = df[intention_columns].mean(axis=1)\n",
    "\n",
    "# Drop missing values\n",
    "correlation_df = df[['SA', 'Intention']].dropna()\n",
    "\n",
    "# Compute Spearman rank correlation\n",
    "spearman_corr, p_value = spearmanr(correlation_df['SA'], correlation_df['Intention'])\n",
    "\n",
    "# Display the result\n",
    "print(\"Spearman's rho (SA vs Intention):\", spearman_corr)\n",
    "print(\"p-value:\", p_value)\n",
    "\n",
    "# Interpretation\n",
    "if p_value < 0.05:\n",
    "    print(\"Result: Reject H₀ → Significant relationship exists between Structural Assurance and Intention to Purchase.\")\n",
    "else:\n",
    "    print(\"Result: Fail to reject H₀ → No significant relationship.\")"
   ]
  },
  {
   "cell_type": "markdown",
   "id": "f87657bd",
   "metadata": {
    "papermill": {
     "duration": 0.006998,
     "end_time": "2025-05-13T21:13:58.971290",
     "exception": false,
     "start_time": "2025-05-13T21:13:58.964292",
     "status": "completed"
    },
    "tags": []
   },
   "source": [
    "# Social influence has no impact on the intention to purchase online."
   ]
  },
  {
   "cell_type": "code",
   "execution_count": 6,
   "id": "32a14c5d",
   "metadata": {
    "execution": {
     "iopub.execute_input": "2025-05-13T21:13:58.987102Z",
     "iopub.status.busy": "2025-05-13T21:13:58.986299Z",
     "iopub.status.idle": "2025-05-13T21:13:58.998989Z",
     "shell.execute_reply": "2025-05-13T21:13:58.997966Z"
    },
    "papermill": {
     "duration": 0.022036,
     "end_time": "2025-05-13T21:13:59.000312",
     "exception": false,
     "start_time": "2025-05-13T21:13:58.978276",
     "status": "completed"
    },
    "tags": []
   },
   "outputs": [
    {
     "name": "stdout",
     "output_type": "stream",
     "text": [
      "Spearman's rho (Social Influence vs Intention): 0.257216811279178\n",
      "p-value: 6.218716323440867e-14\n",
      "Result: Reject H₀ → Significant relationship between Social Influence and Intention to Purchase.\n"
     ]
    }
   ],
   "source": [
    "# Social influence has no impact on the intention to purchase online.\n",
    "\n",
    "# Define columns related to Social Influence\n",
    "social_influence_columns = [\n",
    "    'WordofMouthandRecommendations1', 'WordofMouthandRecommendations2',\n",
    "    'SocialMediaPosts/Influence1', 'SocialMediaPosts/Influence2',\n",
    "    'OnlineReviewsandRatings1', 'OnlineReviewsandRatings2',\n",
    "    'SocialProof1', 'SocialProof2',\n",
    "    'NormativePressure1', 'NormativePressure2',\n",
    "    'InformationSharing1', 'InformationSharing2'\n",
    "]\n",
    "\n",
    "# Compute average scores\n",
    "df['SocialInfluence'] = df[social_influence_columns].mean(axis=1)\n",
    "df['Intention'] = df[intention_columns].mean(axis=1)\n",
    "\n",
    "# Drop missing values\n",
    "correlation_df = df[['SocialInfluence', 'Intention']].dropna()\n",
    "\n",
    "# Compute Spearman rank correlation\n",
    "spearman_corr, p_value = spearmanr(correlation_df['SocialInfluence'], correlation_df['Intention'])\n",
    "\n",
    "# Display the result\n",
    "print(\"Spearman's rho (Social Influence vs Intention):\", spearman_corr)\n",
    "print(\"p-value:\", p_value)\n",
    "\n",
    "# Interpretation\n",
    "if p_value < 0.05:\n",
    "    print(\"Result: Reject H₀ → Significant relationship between Social Influence and Intention to Purchase.\")\n",
    "else:\n",
    "    print(\"Result: Fail to reject H₀ → No significant relationship.\")"
   ]
  },
  {
   "cell_type": "markdown",
   "id": "17a3131a",
   "metadata": {
    "papermill": {
     "duration": 0.006823,
     "end_time": "2025-05-13T21:13:59.014228",
     "exception": false,
     "start_time": "2025-05-13T21:13:59.007405",
     "status": "completed"
    },
    "tags": []
   },
   "source": [
    "# The attitude towards online shopping does not mediate the relationship between perceived ease of use and the intention to purchase online."
   ]
  },
  {
   "cell_type": "code",
   "execution_count": 7,
   "id": "f0efa1ff",
   "metadata": {
    "execution": {
     "iopub.execute_input": "2025-05-13T21:13:59.029733Z",
     "iopub.status.busy": "2025-05-13T21:13:59.029413Z",
     "iopub.status.idle": "2025-05-13T21:13:59.805742Z",
     "shell.execute_reply": "2025-05-13T21:13:59.804130Z"
    },
    "papermill": {
     "duration": 0.78633,
     "end_time": "2025-05-13T21:13:59.807472",
     "exception": false,
     "start_time": "2025-05-13T21:13:59.021142",
     "status": "completed"
    },
    "tags": []
   },
   "outputs": [
    {
     "name": "stdout",
     "output_type": "stream",
     "text": [
      "\n",
      "Step 1: Total Effect (c) — Intention ~ PEOU\n",
      "                            OLS Regression Results                            \n",
      "==============================================================================\n",
      "Dep. Variable:              Intention   R-squared:                       0.075\n",
      "Model:                            OLS   Adj. R-squared:                  0.074\n",
      "Method:                 Least Squares   F-statistic:                     66.41\n",
      "Date:                Tue, 13 May 2025   Prob (F-statistic):           1.36e-15\n",
      "Time:                        21:13:59   Log-Likelihood:                -597.56\n",
      "No. Observations:                 825   AIC:                             1199.\n",
      "Df Residuals:                     823   BIC:                             1209.\n",
      "Df Model:                           1                                         \n",
      "Covariance Type:            nonrobust                                         \n",
      "==============================================================================\n",
      "                 coef    std err          t      P>|t|      [0.025      0.975]\n",
      "------------------------------------------------------------------------------\n",
      "Intercept      2.9905      0.103     29.062      0.000       2.789       3.192\n",
      "PEOU           0.2536      0.031      8.149      0.000       0.193       0.315\n",
      "==============================================================================\n",
      "Omnibus:                       42.389   Durbin-Watson:                   1.417\n",
      "Prob(Omnibus):                  0.000   Jarque-Bera (JB):               55.767\n",
      "Skew:                          -0.470   Prob(JB):                     7.77e-13\n",
      "Kurtosis:                       3.859   Cond. No.                         21.3\n",
      "==============================================================================\n",
      "\n",
      "Notes:\n",
      "[1] Standard Errors assume that the covariance matrix of the errors is correctly specified.\n",
      "\n",
      "Step 2: Path a — Attitude ~ PEOU\n",
      "                            OLS Regression Results                            \n",
      "==============================================================================\n",
      "Dep. Variable:               Attitude   R-squared:                       0.157\n",
      "Model:                            OLS   Adj. R-squared:                  0.156\n",
      "Method:                 Least Squares   F-statistic:                     153.1\n",
      "Date:                Tue, 13 May 2025   Prob (F-statistic):           2.24e-32\n",
      "Time:                        21:13:59   Log-Likelihood:                -729.40\n",
      "No. Observations:                 825   AIC:                             1463.\n",
      "Df Residuals:                     823   BIC:                             1472.\n",
      "Df Model:                           1                                         \n",
      "Covariance Type:            nonrobust                                         \n",
      "==============================================================================\n",
      "                 coef    std err          t      P>|t|      [0.025      0.975]\n",
      "------------------------------------------------------------------------------\n",
      "Intercept      2.3809      0.121     19.720      0.000       2.144       2.618\n",
      "PEOU           0.4518      0.037     12.374      0.000       0.380       0.524\n",
      "==============================================================================\n",
      "Omnibus:                       62.938   Durbin-Watson:                   1.226\n",
      "Prob(Omnibus):                  0.000   Jarque-Bera (JB):              109.719\n",
      "Skew:                          -0.527   Prob(JB):                     1.50e-24\n",
      "Kurtosis:                       4.442   Cond. No.                         21.3\n",
      "==============================================================================\n",
      "\n",
      "Notes:\n",
      "[1] Standard Errors assume that the covariance matrix of the errors is correctly specified.\n",
      "\n",
      "Step 3: Path b and c′ — Intention ~ PEOU + Attitude\n",
      "                            OLS Regression Results                            \n",
      "==============================================================================\n",
      "Dep. Variable:              Intention   R-squared:                       0.241\n",
      "Model:                            OLS   Adj. R-squared:                  0.240\n",
      "Method:                 Least Squares   F-statistic:                     130.8\n",
      "Date:                Tue, 13 May 2025   Prob (F-statistic):           4.87e-50\n",
      "Time:                        21:13:59   Log-Likelihood:                -515.61\n",
      "No. Observations:                 825   AIC:                             1037.\n",
      "Df Residuals:                     822   BIC:                             1051.\n",
      "Df Model:                           2                                         \n",
      "Covariance Type:            nonrobust                                         \n",
      "==============================================================================\n",
      "                 coef    std err          t      P>|t|      [0.025      0.975]\n",
      "------------------------------------------------------------------------------\n",
      "Intercept      2.1291      0.113     18.820      0.000       1.907       2.351\n",
      "PEOU           0.0901      0.031      2.936      0.003       0.030       0.150\n",
      "Attitude       0.3618      0.027     13.441      0.000       0.309       0.415\n",
      "==============================================================================\n",
      "Omnibus:                       19.070   Durbin-Watson:                   1.282\n",
      "Prob(Omnibus):                  0.000   Jarque-Bera (JB):               23.904\n",
      "Skew:                          -0.270   Prob(JB):                     6.45e-06\n",
      "Kurtosis:                       3.636   Cond. No.                         38.0\n",
      "==============================================================================\n",
      "\n",
      "Notes:\n",
      "[1] Standard Errors assume that the covariance matrix of the errors is correctly specified.\n",
      "\n",
      "Sobel Test for Indirect Effect (a × b):\n",
      "Z = 9.1036\n",
      "p-value = 0.0000\n",
      "Reject H₀: Attitude significantly mediates the relationship between PEOU and Intention.\n"
     ]
    }
   ],
   "source": [
    "import statsmodels.formula.api as smf\n",
    "from math import sqrt\n",
    "from scipy.stats import norm\n",
    "\n",
    "#The attitude towards online shopping does not mediate the relationship between perceived ease of use and the intention to purchase online.\n",
    "\n",
    "\n",
    "# Define columns for each construct\n",
    "peou_columns = [\n",
    "    'EaseofNavigation1', 'EaseofNavigation2',\n",
    "    'LearnCurve1', 'LearnCurve2',\n",
    "    'ClarityofInstructions1', 'ClarityofInstructions2',\n",
    "    'ResponseTime1', 'ResponseTime2',\n",
    "    'ErrorHandling1', 'ErrorHandling2'\n",
    "]\n",
    "\n",
    "attitude_columns = ['Attitude1', 'Attitude2']\n",
    "\n",
    "# Compute construct means\n",
    "df['PEOU'] = df[peou_columns].mean(axis=1)\n",
    "df['Attitude'] = df[attitude_columns].mean(axis=1)\n",
    "df['Intention'] = df[intention_columns].mean(axis=1)\n",
    "\n",
    "# Drop rows with missing values\n",
    "df_clean = df[['PEOU', 'Attitude', 'Intention']].dropna()\n",
    "\n",
    "# Step 1: Total effect (c) — Intention ~ PEOU\n",
    "model_c = smf.ols('Intention ~ PEOU', data=df_clean).fit()\n",
    "\n",
    "# Step 2: Path a — Attitude ~ PEOU\n",
    "model_a = smf.ols('Attitude ~ PEOU', data=df_clean).fit()\n",
    "\n",
    "# Step 3: Path b and c′ — Intention ~ PEOU + Attitude\n",
    "model_b_cprime = smf.ols('Intention ~ PEOU + Attitude', data=df_clean).fit()\n",
    "\n",
    "# Sobel test for indirect effect (a × b)\n",
    "a = model_a.params['PEOU']\n",
    "sa = model_a.bse['PEOU']\n",
    "b = model_b_cprime.params['Attitude']\n",
    "sb = model_b_cprime.bse['Attitude']\n",
    "sobel_z = (a * b) / sqrt(b**2 * sa**2 + a**2 * sb**2)\n",
    "sobel_p = 2 * (1 - norm.cdf(abs(sobel_z)))\n",
    "\n",
    "# Print all results\n",
    "print(\"\\nStep 1: Total Effect (c) — Intention ~ PEOU\")\n",
    "print(model_c.summary())\n",
    "\n",
    "print(\"\\nStep 2: Path a — Attitude ~ PEOU\")\n",
    "print(model_a.summary())\n",
    "\n",
    "print(\"\\nStep 3: Path b and c′ — Intention ~ PEOU + Attitude\")\n",
    "print(model_b_cprime.summary())\n",
    "\n",
    "print(\"\\nSobel Test for Indirect Effect (a × b):\")\n",
    "print(f\"Z = {sobel_z:.4f}\")\n",
    "print(f\"p-value = {sobel_p:.4f}\")\n",
    "\n",
    "# Final Verdict\n",
    "if sobel_p < 0.05:\n",
    "    print(\"Reject H₀: Attitude significantly mediates the relationship between PEOU and Intention.\")\n",
    "else:\n",
    "    print(\"Fail to reject H₀: No significant mediation effect of Attitude.\")\n"
   ]
  },
  {
   "cell_type": "markdown",
   "id": "5aa6b131",
   "metadata": {
    "papermill": {
     "duration": 0.007045,
     "end_time": "2025-05-13T21:13:59.822103",
     "exception": false,
     "start_time": "2025-05-13T21:13:59.815058",
     "status": "completed"
    },
    "tags": []
   },
   "source": [
    "# Perceived Risk mediates the relationship between Perceived Usefulness and Intention to Purchase Online during a crisis in Sri Lanka."
   ]
  },
  {
   "cell_type": "code",
   "execution_count": 8,
   "id": "63b89ca0",
   "metadata": {
    "execution": {
     "iopub.execute_input": "2025-05-13T21:13:59.838541Z",
     "iopub.status.busy": "2025-05-13T21:13:59.837512Z",
     "iopub.status.idle": "2025-05-13T21:14:01.244666Z",
     "shell.execute_reply": "2025-05-13T21:14:01.243202Z"
    },
    "papermill": {
     "duration": 1.417209,
     "end_time": "2025-05-13T21:14:01.246325",
     "exception": false,
     "start_time": "2025-05-13T21:13:59.829116",
     "status": "completed"
    },
    "tags": []
   },
   "outputs": [
    {
     "name": "stdout",
     "output_type": "stream",
     "text": [
      "\n",
      "Step 1: PU ➜ Intention (Total Effect):\n",
      "                             OLS Regression Results                            \n",
      "==============================================================================\n",
      "Dep. Variable:              Intention   R-squared:                       0.068\n",
      "Model:                            OLS   Adj. R-squared:                  0.067\n",
      "Method:                 Least Squares   F-statistic:                     60.35\n",
      "Date:                Tue, 13 May 2025   Prob (F-statistic):           2.36e-14\n",
      "Time:                        21:14:01   Log-Likelihood:                -600.38\n",
      "No. Observations:                 825   AIC:                             1205.\n",
      "Df Residuals:                     823   BIC:                             1214.\n",
      "Df Model:                           1                                         \n",
      "Covariance Type:            nonrobust                                         \n",
      "==============================================================================\n",
      "                 coef    std err          t      P>|t|      [0.025      0.975]\n",
      "------------------------------------------------------------------------------\n",
      "const          3.0331      0.102     29.618      0.000       2.832       3.234\n",
      "PU             0.2381      0.031      7.768      0.000       0.178       0.298\n",
      "==============================================================================\n",
      "Omnibus:                       41.632   Durbin-Watson:                   1.418\n",
      "Prob(Omnibus):                  0.000   Jarque-Bera (JB):               54.144\n",
      "Skew:                          -0.469   Prob(JB):                     1.75e-12\n",
      "Kurtosis:                       3.835   Cond. No.                         21.3\n",
      "==============================================================================\n",
      "\n",
      "Notes:\n",
      "[1] Standard Errors assume that the covariance matrix of the errors is correctly specified.\n",
      "\n",
      "Step 2: PU ➜ Perceived Risk:\n",
      "                             OLS Regression Results                            \n",
      "==============================================================================\n",
      "Dep. Variable:          PerceivedRisk   R-squared:                       0.027\n",
      "Model:                            OLS   Adj. R-squared:                  0.026\n",
      "Method:                 Least Squares   F-statistic:                     23.10\n",
      "Date:                Tue, 13 May 2025   Prob (F-statistic):           1.83e-06\n",
      "Time:                        21:14:01   Log-Likelihood:                -830.81\n",
      "No. Observations:                 825   AIC:                             1666.\n",
      "Df Residuals:                     823   BIC:                             1675.\n",
      "Df Model:                           1                                         \n",
      "Covariance Type:            nonrobust                                         \n",
      "==============================================================================\n",
      "                 coef    std err          t      P>|t|      [0.025      0.975]\n",
      "------------------------------------------------------------------------------\n",
      "const          3.2339      0.135     23.883      0.000       2.968       3.500\n",
      "PU             0.1948      0.041      4.806      0.000       0.115       0.274\n",
      "==============================================================================\n",
      "Omnibus:                       60.921   Durbin-Watson:                   1.282\n",
      "Prob(Omnibus):                  0.000   Jarque-Bera (JB):               84.948\n",
      "Skew:                          -0.593   Prob(JB):                     3.58e-19\n",
      "Kurtosis:                       4.033   Cond. No.                         21.3\n",
      "==============================================================================\n",
      "\n",
      "Notes:\n",
      "[1] Standard Errors assume that the covariance matrix of the errors is correctly specified.\n",
      "\n",
      "Step 3: PU & Perceived Risk ➜ Intention (Mediation Model):\n",
      "                             OLS Regression Results                            \n",
      "==============================================================================\n",
      "Dep. Variable:              Intention   R-squared:                       0.281\n",
      "Model:                            OLS   Adj. R-squared:                  0.279\n",
      "Method:                 Least Squares   F-statistic:                     160.8\n",
      "Date:                Tue, 13 May 2025   Prob (F-statistic):           1.19e-59\n",
      "Time:                        21:14:01   Log-Likelihood:                -493.40\n",
      "No. Observations:                 825   AIC:                             992.8\n",
      "Df Residuals:                     822   BIC:                             1007.\n",
      "Df Model:                           2                                         \n",
      "Covariance Type:            nonrobust                                         \n",
      "=================================================================================\n",
      "                    coef    std err          t      P>|t|      [0.025      0.975]\n",
      "---------------------------------------------------------------------------------\n",
      "const             1.8640      0.117     15.916      0.000       1.634       2.094\n",
      "PU                0.1677      0.027      6.140      0.000       0.114       0.221\n",
      "PerceivedRisk     0.3615      0.023     15.601      0.000       0.316       0.407\n",
      "==============================================================================\n",
      "Omnibus:                       16.284   Durbin-Watson:                   1.459\n",
      "Prob(Omnibus):                  0.000   Jarque-Bera (JB):               20.174\n",
      "Skew:                          -0.242   Prob(JB):                     4.16e-05\n",
      "Kurtosis:                       3.594   Cond. No.                         40.6\n",
      "==============================================================================\n",
      "\n",
      "Notes:\n",
      "[1] Standard Errors assume that the covariance matrix of the errors is correctly specified.\n",
      "\n",
      "--- Mediation Analysis Summary ---\n",
      "Step 1 PU significantly predicts Intention (p = 0.0000)\n",
      "Step 2 PU significantly predicts Perceived Risk (p = 0.0000)\n",
      "Step 3 Perceived Risk significantly predicts Intention (p = 0.0000)\n",
      " PU's effect on Intention decreased from 0.2381 to 0.1677\n",
      "Conclusion: Perceived Risk mediates the effect of PU on Intention.\n"
     ]
    }
   ],
   "source": [
    "import pandas as pd\n",
    "import statsmodels.api as sm\n",
    "\n",
    "# Step 1: Calculate composite scores\n",
    "df['PU'] = df[[\n",
    "    'ProductAvailability1', 'ProductAvailability2',\n",
    "    'Convenience1', 'Convenience2',\n",
    "    'Cost-effectiveness1', 'Cost-effectiveness2',\n",
    "    'InformationAccessibility1', 'InformationAccessibility2',\n",
    "    'Personalization1', 'Personalization2'\n",
    "]].mean(axis=1)\n",
    "\n",
    "df['PerceivedRisk'] = df[['PerceivedRisk1', 'PerceivedRisk2']].mean(axis=1)\n",
    "\n",
    "\n",
    "\n",
    "# Step 2: Drop missing values\n",
    "df_med = df[['PU', 'PerceivedRisk', 'Intention']].dropna()\n",
    "\n",
    "# Step 3: Run regressions\n",
    "# Total Effect: PU ➜ Intention\n",
    "X1 = sm.add_constant(df_med['PU'])\n",
    "model_total = sm.OLS(df_med['Intention'], X1).fit()\n",
    "\n",
    "# PU ➜ Perceived Risk\n",
    "X2 = sm.add_constant(df_med['PU'])\n",
    "model_a = sm.OLS(df_med['PerceivedRisk'], X2).fit()\n",
    "\n",
    "# PU & Perceived Risk ➜ Intention\n",
    "X3 = sm.add_constant(df_med[['PU', 'PerceivedRisk']])\n",
    "model_b = sm.OLS(df_med['Intention'], X3).fit()\n",
    "\n",
    "# Display summaries\n",
    "print(\"\\nStep 1: PU ➜ Intention (Total Effect):\\n\", model_total.summary())\n",
    "print(\"\\nStep 2: PU ➜ Perceived Risk:\\n\", model_a.summary())\n",
    "print(\"\\nStep 3: PU & Perceived Risk ➜ Intention (Mediation Model):\\n\", model_b.summary())\n",
    "\n",
    "# Extract values for interpretation\n",
    "p1 = model_total.pvalues['PU']\n",
    "p2 = model_a.pvalues['PU']\n",
    "p3 = model_b.pvalues['PerceivedRisk']\n",
    "pu_effect_total = model_total.params['PU']\n",
    "pu_effect_mediation = model_b.params['PU']\n",
    "\n",
    "# Interpretation based on p-values\n",
    "print(\"\\n--- Mediation Analysis Summary ---\")\n",
    "if p1 < 0.05:\n",
    "    print(f\"Step 1 PU significantly predicts Intention (p = {p1:.4f})\")\n",
    "else:\n",
    "    print(f\"Step 1 PU does not significantly predict Intention (p = {p1:.4f})\")\n",
    "\n",
    "if p2 < 0.05:\n",
    "    print(f\"Step 2 PU significantly predicts Perceived Risk (p = {p2:.4f})\")\n",
    "else:\n",
    "    print(f\"Step 2 PU does not significantly predict Perceived Risk (p = {p2:.4f})\")\n",
    "\n",
    "if p3 < 0.05:\n",
    "    print(f\"Step 3 Perceived Risk significantly predicts Intention (p = {p3:.4f})\")\n",
    "    if abs(pu_effect_mediation) < abs(pu_effect_total):\n",
    "        print(f\" PU's effect on Intention decreased from {pu_effect_total:.4f} to {pu_effect_mediation:.4f}\")\n",
    "        print(\"Conclusion: Perceived Risk mediates the effect of PU on Intention.\")\n",
    "    else:\n",
    "        print(\"PU's effect did not reduce in mediation model — partial or no mediation.\")\n",
    "else:\n",
    "    print(f\"Step 3 Perceived Risk does not significantly predict Intention (p = {p3:.4f})\")\n",
    "    print(\"Mediation is not supported.\")\n"
   ]
  },
  {
   "cell_type": "markdown",
   "id": "21f2fc95",
   "metadata": {
    "papermill": {
     "duration": 0.007613,
     "end_time": "2025-05-13T21:14:01.261781",
     "exception": false,
     "start_time": "2025-05-13T21:14:01.254168",
     "status": "completed"
    },
    "tags": []
   },
   "source": [
    "# Ease of navigation has no impact on the intention to purchase online."
   ]
  },
  {
   "cell_type": "code",
   "execution_count": 9,
   "id": "706872f0",
   "metadata": {
    "execution": {
     "iopub.execute_input": "2025-05-13T21:14:01.278394Z",
     "iopub.status.busy": "2025-05-13T21:14:01.277967Z",
     "iopub.status.idle": "2025-05-13T21:14:01.291350Z",
     "shell.execute_reply": "2025-05-13T21:14:01.290525Z"
    },
    "papermill": {
     "duration": 0.023352,
     "end_time": "2025-05-13T21:14:01.292574",
     "exception": false,
     "start_time": "2025-05-13T21:14:01.269222",
     "status": "completed"
    },
    "tags": []
   },
   "outputs": [
    {
     "name": "stdout",
     "output_type": "stream",
     "text": [
      "Spearman's rho (Ease of Navigation vs Intention): 0.14202818873951203\n",
      "p-value: 4.2393032685419935e-05\n",
      "Result: Reject H₀ → Ease of Navigation significantly correlates with Intention to Purchase.\n"
     ]
    }
   ],
   "source": [
    "# Ease of navigation has no impact on the intention to purchase online.\n",
    "\n",
    "# Define the columns for Ease of Navigation\n",
    "navigation_columns = [\n",
    "    'EaseofNavigation1', 'EaseofNavigation2'\n",
    "]\n",
    "\n",
    "# Compute the average scores\n",
    "df['EaseOfNavigation'] = df[navigation_columns].mean(axis=1)\n",
    "df['Intention'] = df[intention_columns].mean(axis=1)\n",
    "\n",
    "# Drop missing values\n",
    "correlation_df = df[['EaseOfNavigation', 'Intention']].dropna()\n",
    "\n",
    "# Compute Spearman rank correlation\n",
    "spearman_corr, p_value = spearmanr(correlation_df['EaseOfNavigation'], correlation_df['Intention'])\n",
    "\n",
    "# Display the result\n",
    "print(\"Spearman's rho (Ease of Navigation vs Intention):\", spearman_corr)\n",
    "print(\"p-value:\", p_value)\n",
    "\n",
    "# Optional interpretation\n",
    "if p_value < 0.05:\n",
    "    print(\"Result: Reject H₀ → Ease of Navigation significantly correlates with Intention to Purchase.\")\n",
    "else:\n",
    "    print(\"Result: Fail to reject H₀ → No significant relationship detected.\")"
   ]
  },
  {
   "cell_type": "markdown",
   "id": "40bf518d",
   "metadata": {
    "papermill": {
     "duration": 0.007429,
     "end_time": "2025-05-13T21:14:01.307925",
     "exception": false,
     "start_time": "2025-05-13T21:14:01.300496",
     "status": "completed"
    },
    "tags": []
   },
   "source": [
    "# Clarity of instructions has no impact on the intention to purchase online."
   ]
  },
  {
   "cell_type": "code",
   "execution_count": 10,
   "id": "2084b946",
   "metadata": {
    "execution": {
     "iopub.execute_input": "2025-05-13T21:14:01.323918Z",
     "iopub.status.busy": "2025-05-13T21:14:01.323581Z",
     "iopub.status.idle": "2025-05-13T21:14:01.351428Z",
     "shell.execute_reply": "2025-05-13T21:14:01.350533Z"
    },
    "papermill": {
     "duration": 0.037663,
     "end_time": "2025-05-13T21:14:01.352878",
     "exception": false,
     "start_time": "2025-05-13T21:14:01.315215",
     "status": "completed"
    },
    "tags": []
   },
   "outputs": [
    {
     "name": "stdout",
     "output_type": "stream",
     "text": [
      "Spearman's rho (Clarity vs Intention): 0.20584246611822185\n",
      "p-value: 2.4102278405661193e-09\n",
      "Reject H₀: Clarity of instructions significantly impacts intention to purchase.\n"
     ]
    }
   ],
   "source": [
    "# Clarity of instructions has no impact on the intention to purchase online.\n",
    "\n",
    "# Load the preprocessed dataset\n",
    "df = pd.read_csv(\"/kaggle/input/online-purchase-intentions-during-crises/preprocessed_dataset.csv\")\n",
    "\n",
    "# Define Clarity of Instructions columns\n",
    "clarity_columns = ['ClarityofInstructions1', 'ClarityofInstructions2']\n",
    "\n",
    "\n",
    "# Compute average scores\n",
    "df['Clarity'] = df[clarity_columns].mean(axis=1)\n",
    "df['Intention'] = df[intention_columns].mean(axis=1)\n",
    "\n",
    "# Drop missing values\n",
    "correlation_df = df[['Clarity', 'Intention']].dropna()\n",
    "\n",
    "# Compute Spearman rank correlation\n",
    "spearman_corr, p_value = spearmanr(correlation_df['Clarity'], correlation_df['Intention'])\n",
    "\n",
    "# Display results\n",
    "print(\"Spearman's rho (Clarity vs Intention):\", spearman_corr)\n",
    "print(\"p-value:\", p_value)\n",
    "\n",
    "# Interpretation\n",
    "if p_value < 0.05:\n",
    "    print(\"Reject H₀: Clarity of instructions significantly impacts intention to purchase.\")\n",
    "else:\n",
    "    print(\"Fail to reject H₀: No significant relationship.\")"
   ]
  },
  {
   "cell_type": "markdown",
   "id": "95b8a49c",
   "metadata": {
    "papermill": {
     "duration": 0.007306,
     "end_time": "2025-05-13T21:14:01.367913",
     "exception": false,
     "start_time": "2025-05-13T21:14:01.360607",
     "status": "completed"
    },
    "tags": []
   },
   "source": [
    "# Response Time has no impact on intention to purchase online."
   ]
  },
  {
   "cell_type": "code",
   "execution_count": 11,
   "id": "71fcf9be",
   "metadata": {
    "execution": {
     "iopub.execute_input": "2025-05-13T21:14:01.383919Z",
     "iopub.status.busy": "2025-05-13T21:14:01.383548Z",
     "iopub.status.idle": "2025-05-13T21:14:01.397795Z",
     "shell.execute_reply": "2025-05-13T21:14:01.396781Z"
    },
    "papermill": {
     "duration": 0.024177,
     "end_time": "2025-05-13T21:14:01.399428",
     "exception": false,
     "start_time": "2025-05-13T21:14:01.375251",
     "status": "completed"
    },
    "tags": []
   },
   "outputs": [
    {
     "name": "stdout",
     "output_type": "stream",
     "text": [
      "Spearman's rho (Response Time vs Intention): 0.07607996063588794\n",
      "p-value: 0.028882628417328946\n",
      "Result: Reject H₀ → Significant relationship exists between Response Time and Intention.\n"
     ]
    }
   ],
   "source": [
    "# Response Time has no impact on intention to purchase online.\n",
    "\n",
    "# Define columns related to Response Time\n",
    "response_time_columns = ['ResponseTime1', 'ResponseTime2']\n",
    "\n",
    "\n",
    "# Compute average scores for each participant\n",
    "df['ResponseTime'] = df[response_time_columns].mean(axis=1)\n",
    "df['Intention'] = df[intention_columns].mean(axis=1)\n",
    "\n",
    "# Drop missing values\n",
    "correlation_df = df[['ResponseTime', 'Intention']].dropna()\n",
    "\n",
    "# Compute Spearman rank correlation\n",
    "spearman_corr, p_value = spearmanr(correlation_df['ResponseTime'], correlation_df['Intention'])\n",
    "\n",
    "# Display the results\n",
    "print(\"Spearman's rho (Response Time vs Intention):\", spearman_corr)\n",
    "print(\"p-value:\", p_value)\n",
    "\n",
    "# Interpretation\n",
    "if p_value < 0.05:\n",
    "    print(\"Result: Reject H₀ → Significant relationship exists between Response Time and Intention.\")\n",
    "else:\n",
    "    print(\"Result: Fail to reject H₀ → No significant relationship.\")"
   ]
  },
  {
   "cell_type": "markdown",
   "id": "44e2c5f5",
   "metadata": {
    "papermill": {
     "duration": 0.007654,
     "end_time": "2025-05-13T21:14:01.415101",
     "exception": false,
     "start_time": "2025-05-13T21:14:01.407447",
     "status": "completed"
    },
    "tags": []
   },
   "source": [
    "# Error handling has no impact on intention to purchase online"
   ]
  },
  {
   "cell_type": "code",
   "execution_count": 12,
   "id": "6b300774",
   "metadata": {
    "execution": {
     "iopub.execute_input": "2025-05-13T21:14:01.432336Z",
     "iopub.status.busy": "2025-05-13T21:14:01.432011Z",
     "iopub.status.idle": "2025-05-13T21:14:01.445981Z",
     "shell.execute_reply": "2025-05-13T21:14:01.444889Z"
    },
    "papermill": {
     "duration": 0.024537,
     "end_time": "2025-05-13T21:14:01.447398",
     "exception": false,
     "start_time": "2025-05-13T21:14:01.422861",
     "status": "completed"
    },
    "tags": []
   },
   "outputs": [
    {
     "name": "stdout",
     "output_type": "stream",
     "text": [
      "Spearman's rho (Error Handling vs Intention): 0.14893676915712514\n",
      "p-value: 1.7439795709379758e-05\n",
      "Result: Reject H₀ → Significant relationship exists between Error Handling and Intention to Purchase.\n"
     ]
    }
   ],
   "source": [
    "# Error handling has no impact on intention to purchase online\n",
    "\n",
    "# Define the columns related to Error Handling\n",
    "error_handling_columns = ['ErrorHandling1', 'ErrorHandling2']\n",
    "\n",
    "# Compute the average score for each construct\n",
    "df['ErrorHandling'] = df[error_handling_columns].mean(axis=1)\n",
    "df['Intention'] = df[intention_columns].mean(axis=1)\n",
    "\n",
    "# Drop rows with missing values\n",
    "correlation_df = df[['ErrorHandling', 'Intention']].dropna()\n",
    "\n",
    "# Compute Spearman's rank correlation\n",
    "spearman_corr, p_value = spearmanr(correlation_df['ErrorHandling'], correlation_df['Intention'])\n",
    "\n",
    "# Display the result\n",
    "print(\"Spearman's rho (Error Handling vs Intention):\", spearman_corr)\n",
    "print(\"p-value:\", p_value)\n",
    "\n",
    "# Interpret the result\n",
    "if p_value < 0.05:\n",
    "    print(\"Result: Reject H₀ → Significant relationship exists between Error Handling and Intention to Purchase.\")\n",
    "else:\n",
    "    print(\"Result: Fail to reject H₀ → No significant relationship.\")"
   ]
  },
  {
   "cell_type": "markdown",
   "id": "b12f3dee",
   "metadata": {
    "papermill": {
     "duration": 0.007707,
     "end_time": "2025-05-13T21:14:01.463019",
     "exception": false,
     "start_time": "2025-05-13T21:14:01.455312",
     "status": "completed"
    },
    "tags": []
   },
   "source": [
    "# Part (b)"
   ]
  },
  {
   "cell_type": "markdown",
   "id": "6abf53d6",
   "metadata": {
    "papermill": {
     "duration": 0.007625,
     "end_time": "2025-05-13T21:14:01.478175",
     "exception": false,
     "start_time": "2025-05-13T21:14:01.470550",
     "status": "completed"
    },
    "tags": []
   },
   "source": [
    "In addition to the above hypotheses, create your own 10 hypotheses based\n",
    " on the given conceptual diagram and validate them using suitable statistical\n",
    " tests"
   ]
  },
  {
   "cell_type": "code",
   "execution_count": 13,
   "id": "74a5976a",
   "metadata": {
    "execution": {
     "iopub.execute_input": "2025-05-13T21:14:01.495062Z",
     "iopub.status.busy": "2025-05-13T21:14:01.494721Z",
     "iopub.status.idle": "2025-05-13T21:14:01.503026Z",
     "shell.execute_reply": "2025-05-13T21:14:01.502266Z"
    },
    "papermill": {
     "duration": 0.018686,
     "end_time": "2025-05-13T21:14:01.504403",
     "exception": false,
     "start_time": "2025-05-13T21:14:01.485717",
     "status": "completed"
    },
    "tags": []
   },
   "outputs": [],
   "source": [
    "# Define the intention columns globally (used in every case)\n",
    "intention_columns = [\n",
    "    'IntentiontoPurchaseOnline1',\n",
    "    'IntentiontoPurchaseOnline2',\n",
    "    'IntentiontoPurchaseOnline3',\n",
    "    'IntentiontoPurchaseOnline4'\n",
    "]\n",
    "df['Intention'] = df[intention_columns].mean(axis=1)\n",
    "\n",
    "# Define a reusable function\n",
    "def test_spearman_correlation(factor_name, columns):\n",
    "    \"\"\"\n",
    "    Computes and prints Spearman correlation between a given factor and purchase intention.\n",
    "    \n",
    "    Parameters:\n",
    "    - factor_name: str, name of the new column to be used for the factor\n",
    "    - columns: list of str, names of the columns representing the subfactor items\n",
    "    \"\"\"\n",
    "    df[factor_name] = df[columns].mean(axis=1)\n",
    "    corr_df = df[[factor_name, 'Intention']].dropna()\n",
    "    rho, p = spearmanr(corr_df[factor_name], corr_df['Intention'])\n",
    "    print(f\"\\n--- {factor_name} ---\")\n",
    "    print(f\"Spearman's rho: {rho:.3f}\")\n",
    "    print(f\"p-value       : {p:.4g}\")\n",
    "    if p < 0.05:\n",
    "        print(\"✅ Significant relationship (reject H₀)\")\n",
    "    else:\n",
    "        print(\"❌ Not significant (fail to reject H₀)\")"
   ]
  },
  {
   "cell_type": "markdown",
   "id": "09505fb9",
   "metadata": {
    "papermill": {
     "duration": 0.007282,
     "end_time": "2025-05-13T21:14:01.519516",
     "exception": false,
     "start_time": "2025-05-13T21:14:01.512234",
     "status": "completed"
    },
    "tags": []
   },
   "source": [
    "### 1. Personalization has no impact on the intention to purchase online."
   ]
  },
  {
   "cell_type": "code",
   "execution_count": 14,
   "id": "9832b7b0",
   "metadata": {
    "execution": {
     "iopub.execute_input": "2025-05-13T21:14:01.536066Z",
     "iopub.status.busy": "2025-05-13T21:14:01.535733Z",
     "iopub.status.idle": "2025-05-13T21:14:01.545216Z",
     "shell.execute_reply": "2025-05-13T21:14:01.544244Z"
    },
    "papermill": {
     "duration": 0.019656,
     "end_time": "2025-05-13T21:14:01.546575",
     "exception": false,
     "start_time": "2025-05-13T21:14:01.526919",
     "status": "completed"
    },
    "tags": []
   },
   "outputs": [
    {
     "name": "stdout",
     "output_type": "stream",
     "text": [
      "\n",
      "--- Personalization ---\n",
      "Spearman's rho: 0.060\n",
      "p-value       : 0.08348\n",
      "❌ Not significant (fail to reject H₀)\n"
     ]
    }
   ],
   "source": [
    "test_spearman_correlation(\"Personalization\", ['Personalization1', 'Personalization2'])"
   ]
  },
  {
   "cell_type": "markdown",
   "id": "c109d2b9",
   "metadata": {
    "papermill": {
     "duration": 0.071913,
     "end_time": "2025-05-13T21:14:01.626310",
     "exception": false,
     "start_time": "2025-05-13T21:14:01.554397",
     "status": "completed"
    },
    "tags": []
   },
   "source": [
    "### 2. word of mouth has no impact on the intention to purchase online."
   ]
  },
  {
   "cell_type": "code",
   "execution_count": 15,
   "id": "ca1d13ca",
   "metadata": {
    "execution": {
     "iopub.execute_input": "2025-05-13T21:14:01.644217Z",
     "iopub.status.busy": "2025-05-13T21:14:01.643259Z",
     "iopub.status.idle": "2025-05-13T21:14:01.654369Z",
     "shell.execute_reply": "2025-05-13T21:14:01.653518Z"
    },
    "papermill": {
     "duration": 0.021579,
     "end_time": "2025-05-13T21:14:01.655875",
     "exception": false,
     "start_time": "2025-05-13T21:14:01.634296",
     "status": "completed"
    },
    "tags": []
   },
   "outputs": [
    {
     "name": "stdout",
     "output_type": "stream",
     "text": [
      "\n",
      "--- Word of Mouth ---\n",
      "Spearman's rho: 0.195\n",
      "p-value       : 1.609e-08\n",
      "✅ Significant relationship (reject H₀)\n"
     ]
    }
   ],
   "source": [
    "test_spearman_correlation(\"Word of Mouth\", ['WordofMouthandRecommendations1', 'WordofMouthandRecommendations2'])"
   ]
  },
  {
   "cell_type": "markdown",
   "id": "adf1ec85",
   "metadata": {
    "papermill": {
     "duration": 0.007722,
     "end_time": "2025-05-13T21:14:01.671468",
     "exception": false,
     "start_time": "2025-05-13T21:14:01.663746",
     "status": "completed"
    },
    "tags": []
   },
   "source": [
    "### 3. Normative Pressure has no impact on the intention to purchase online"
   ]
  },
  {
   "cell_type": "code",
   "execution_count": 16,
   "id": "8190c398",
   "metadata": {
    "execution": {
     "iopub.execute_input": "2025-05-13T21:14:01.688715Z",
     "iopub.status.busy": "2025-05-13T21:14:01.688378Z",
     "iopub.status.idle": "2025-05-13T21:14:01.698250Z",
     "shell.execute_reply": "2025-05-13T21:14:01.697489Z"
    },
    "papermill": {
     "duration": 0.02018,
     "end_time": "2025-05-13T21:14:01.699646",
     "exception": false,
     "start_time": "2025-05-13T21:14:01.679466",
     "status": "completed"
    },
    "tags": []
   },
   "outputs": [
    {
     "name": "stdout",
     "output_type": "stream",
     "text": [
      "\n",
      "--- Normative Pressure ---\n",
      "Spearman's rho: 0.111\n",
      "p-value       : 0.001367\n",
      "✅ Significant relationship (reject H₀)\n"
     ]
    }
   ],
   "source": [
    "test_spearman_correlation(\"Normative Pressure\", ['NormativePressure1', 'NormativePressure2'])"
   ]
  },
  {
   "cell_type": "markdown",
   "id": "ccee3f3a",
   "metadata": {
    "papermill": {
     "duration": 0.00785,
     "end_time": "2025-05-13T21:14:01.715695",
     "exception": false,
     "start_time": "2025-05-13T21:14:01.707845",
     "status": "completed"
    },
    "tags": []
   },
   "source": [
    "### 4. Learning Curve has no impact on the intention to purchase online"
   ]
  },
  {
   "cell_type": "code",
   "execution_count": 17,
   "id": "3b611cdf",
   "metadata": {
    "execution": {
     "iopub.execute_input": "2025-05-13T21:14:01.733304Z",
     "iopub.status.busy": "2025-05-13T21:14:01.732985Z",
     "iopub.status.idle": "2025-05-13T21:14:01.742934Z",
     "shell.execute_reply": "2025-05-13T21:14:01.742044Z"
    },
    "papermill": {
     "duration": 0.02036,
     "end_time": "2025-05-13T21:14:01.744325",
     "exception": false,
     "start_time": "2025-05-13T21:14:01.723965",
     "status": "completed"
    },
    "tags": []
   },
   "outputs": [
    {
     "name": "stdout",
     "output_type": "stream",
     "text": [
      "\n",
      "--- Learning Curve ---\n",
      "Spearman's rho: 0.221\n",
      "p-value       : 1.409e-10\n",
      "✅ Significant relationship (reject H₀)\n"
     ]
    }
   ],
   "source": [
    "test_spearman_correlation(\"Learning Curve\", ['LearnCurve1', 'LearnCurve2'])"
   ]
  },
  {
   "cell_type": "markdown",
   "id": "a9fc4033",
   "metadata": {
    "papermill": {
     "duration": 0.008086,
     "end_time": "2025-05-13T21:14:01.760576",
     "exception": false,
     "start_time": "2025-05-13T21:14:01.752490",
     "status": "completed"
    },
    "tags": []
   },
   "source": [
    "### 5. Privacy Protection has no impact on the intention to purchase online"
   ]
  },
  {
   "cell_type": "code",
   "execution_count": 18,
   "id": "48b29f45",
   "metadata": {
    "execution": {
     "iopub.execute_input": "2025-05-13T21:14:01.778041Z",
     "iopub.status.busy": "2025-05-13T21:14:01.777443Z",
     "iopub.status.idle": "2025-05-13T21:14:01.788169Z",
     "shell.execute_reply": "2025-05-13T21:14:01.787127Z"
    },
    "papermill": {
     "duration": 0.021073,
     "end_time": "2025-05-13T21:14:01.789575",
     "exception": false,
     "start_time": "2025-05-13T21:14:01.768502",
     "status": "completed"
    },
    "tags": []
   },
   "outputs": [
    {
     "name": "stdout",
     "output_type": "stream",
     "text": [
      "\n",
      "--- Privacy Protection ---\n",
      "Spearman's rho: 0.107\n",
      "p-value       : 0.00207\n",
      "✅ Significant relationship (reject H₀)\n"
     ]
    }
   ],
   "source": [
    "test_spearman_correlation(\"Privacy Protection\", ['PrivacyProtection1', 'PrivacyProtection2'])"
   ]
  },
  {
   "cell_type": "markdown",
   "id": "7ab98f4b",
   "metadata": {
    "papermill": {
     "duration": 0.007878,
     "end_time": "2025-05-13T21:14:01.805731",
     "exception": false,
     "start_time": "2025-05-13T21:14:01.797853",
     "status": "completed"
    },
    "tags": []
   },
   "source": [
    "### 6. Perceived risk does not mediate the relationship between social influence and intention to purchase online."
   ]
  },
  {
   "cell_type": "markdown",
   "id": "e2640635",
   "metadata": {
    "papermill": {
     "duration": 0.007942,
     "end_time": "2025-05-13T21:14:01.824022",
     "exception": false,
     "start_time": "2025-05-13T21:14:01.816080",
     "status": "completed"
    },
    "tags": []
   },
   "source": [
    "Intention = β₀ + β₁*PEOU + β₂*MaritalStatus + β₃*(PEOU × MaritalStatus) + error"
   ]
  },
  {
   "cell_type": "code",
   "execution_count": 19,
   "id": "b3ffe6f9",
   "metadata": {
    "execution": {
     "iopub.execute_input": "2025-05-13T21:14:01.841883Z",
     "iopub.status.busy": "2025-05-13T21:14:01.841539Z",
     "iopub.status.idle": "2025-05-13T21:14:01.878309Z",
     "shell.execute_reply": "2025-05-13T21:14:01.877195Z"
    },
    "papermill": {
     "duration": 0.047407,
     "end_time": "2025-05-13T21:14:01.879771",
     "exception": false,
     "start_time": "2025-05-13T21:14:01.832364",
     "status": "completed"
    },
    "tags": []
   },
   "outputs": [
    {
     "name": "stdout",
     "output_type": "stream",
     "text": [
      "----- Mediation Test Summary -----\n",
      "Step 1 (c):  SocialInfluence → Intention   coef = 0.304,  p = 9.868e-24\n",
      "Step 2 (a):  SocialInfluence → Risk        coef = 0.271,  p = 8.842e-12\n",
      "Step 3 (b):  Risk → Intention               coef = 0.342,  p = 6.533e-44\n",
      "Step 3 (c’): SocialInfluence → Intention   coef = 0.211, p = 1.21e-14\n",
      "\n",
      "✅ Partial mediation — Reject H₀\n"
     ]
    }
   ],
   "source": [
    "from statsmodels.formula.api import ols\n",
    "\n",
    "# Define variable groups\n",
    "social_influence_cols = [\n",
    "    'WordofMouthandRecommendations1', 'WordofMouthandRecommendations2',\n",
    "    'SocialMediaPosts/Influence1', 'SocialMediaPosts/Influence2',\n",
    "    'OnlineReviewsandRatings1', 'OnlineReviewsandRatings2',\n",
    "    'SocialProof1', 'SocialProof2',\n",
    "    'NormativePressure1', 'NormativePressure2',\n",
    "    'InformationSharing1', 'InformationSharing2'\n",
    "]\n",
    "\n",
    "risk_cols = ['PerceivedRisk1', 'PerceivedRisk2']\n",
    "\n",
    "intention_cols = [\n",
    "    'IntentiontoPurchaseOnline1',\n",
    "    'IntentiontoPurchaseOnline2',\n",
    "    'IntentiontoPurchaseOnline3',\n",
    "    'IntentiontoPurchaseOnline4'\n",
    "]\n",
    "\n",
    "# Compute mean scores\n",
    "df['SocialInfluence'] = df[social_influence_cols].mean(axis=1)\n",
    "df['Risk'] = df[risk_cols].mean(axis=1)\n",
    "df['Intention'] = df[intention_cols].mean(axis=1)\n",
    "\n",
    "# Drop missing values\n",
    "med_df = df[['SocialInfluence', 'Risk', 'Intention']].dropna()\n",
    "\n",
    "# Step 1: Total effect (c path)\n",
    "model1 = ols(\"Intention ~ SocialInfluence\", data=med_df).fit()\n",
    "c_path = model1.params['SocialInfluence']\n",
    "c_pval = model1.pvalues['SocialInfluence']\n",
    "\n",
    "# Step 2: a path\n",
    "model2 = ols(\"Risk ~ SocialInfluence\", data=med_df).fit()\n",
    "a_path = model2.params['SocialInfluence']\n",
    "a_pval = model2.pvalues['SocialInfluence']\n",
    "\n",
    "# Step 3: Direct + Mediator (c' and b paths)\n",
    "model3 = ols(\"Intention ~ SocialInfluence + Risk\", data=med_df).fit()\n",
    "c_prime = model3.params['SocialInfluence']\n",
    "b_path = model3.params['Risk']\n",
    "c_prime_pval = model3.pvalues['SocialInfluence']\n",
    "b_pval = model3.pvalues['Risk']\n",
    "\n",
    "# Output results\n",
    "print(\"----- Mediation Test Summary -----\")\n",
    "print(f\"Step 1 (c):  SocialInfluence → Intention   coef = {c_path:.3f},  p = {c_pval:.4g}\")\n",
    "print(f\"Step 2 (a):  SocialInfluence → Risk        coef = {a_path:.3f},  p = {a_pval:.4g}\")\n",
    "print(f\"Step 3 (b):  Risk → Intention               coef = {b_path:.3f},  p = {b_pval:.4g}\")\n",
    "print(f\"Step 3 (c’): SocialInfluence → Intention   coef = {c_prime:.3f}, p = {c_prime_pval:.4g}\")\n",
    "\n",
    "# Interpret mediation\n",
    "if a_pval < 0.05 and b_pval < 0.05:\n",
    "    if c_prime_pval < 0.05 and abs(c_prime) < abs(c_path):\n",
    "        print(\"\\n✅ Partial mediation — Reject H₀\")\n",
    "    elif c_prime_pval >= 0.05:\n",
    "        print(\"\\n✅ Full mediation — Reject H₀\")\n",
    "    else:\n",
    "        print(\"\\n❌ No mediation — Fail to reject H₀\")\n",
    "else:\n",
    "    print(\"\\n❌ No mediation — Fail to reject H₀\")\n"
   ]
  },
  {
   "cell_type": "markdown",
   "id": "ec665641",
   "metadata": {
    "papermill": {
     "duration": 0.007836,
     "end_time": "2025-05-13T21:14:01.896124",
     "exception": false,
     "start_time": "2025-05-13T21:14:01.888288",
     "status": "completed"
    },
    "tags": []
   },
   "source": [
    "###  7. Age does not moderate the relationship between Perceived Usefulness and Intention to Purchase Online."
   ]
  },
  {
   "cell_type": "code",
   "execution_count": 20,
   "id": "14b0371c",
   "metadata": {
    "execution": {
     "iopub.execute_input": "2025-05-13T21:14:01.914188Z",
     "iopub.status.busy": "2025-05-13T21:14:01.913868Z",
     "iopub.status.idle": "2025-05-13T21:14:01.945437Z",
     "shell.execute_reply": "2025-05-13T21:14:01.944331Z"
    },
    "papermill": {
     "duration": 0.04254,
     "end_time": "2025-05-13T21:14:01.946806",
     "exception": false,
     "start_time": "2025-05-13T21:14:01.904266",
     "status": "completed"
    },
    "tags": []
   },
   "outputs": [
    {
     "name": "stdout",
     "output_type": "stream",
     "text": [
      "0.01327596536818294\n",
      "\n",
      "✅ Age significantly moderates the relationship (Reject H₀)\n"
     ]
    }
   ],
   "source": [
    "import statsmodels.formula.api as smf\n",
    "\n",
    "# Define columns\n",
    "pu_columns = [\n",
    "    'ProductAvailability1', 'ProductAvailability2',\n",
    "    'Convenience1', 'Convenience2',\n",
    "    'Cost-effectiveness1', 'Cost-effectiveness2',\n",
    "    'InformationAccessibility1', 'InformationAccessibility2',\n",
    "    'Personalization1', 'Personalization2'\n",
    "]\n",
    "intention_columns = [\n",
    "    'IntentiontoPurchaseOnline1',\n",
    "    'IntentiontoPurchaseOnline2',\n",
    "    'IntentiontoPurchaseOnline3',\n",
    "    'IntentiontoPurchaseOnline4'\n",
    "]\n",
    "\n",
    "# Compute averages\n",
    "df['PU'] = df[pu_columns].mean(axis=1)\n",
    "df['Intention'] = df[intention_columns].mean(axis=1)\n",
    "\n",
    "# Ensure age is numeric (convert if needed)\n",
    "df['Age'] = pd.to_numeric(df['age'], errors='coerce')\n",
    "\n",
    "# Drop missing values\n",
    "mod_df = df[['PU', 'Age', 'Intention']].dropna()\n",
    "\n",
    "# Create interaction term\n",
    "mod_df['PUxAge'] = mod_df['PU'] * mod_df['Age']\n",
    "\n",
    "# Regression model with interaction\n",
    "model = smf.ols(\"Intention ~ PU + Age + PUxAge\", data=mod_df).fit()\n",
    "\n",
    "# Interpretation\n",
    "pval_interaction = model.pvalues['PUxAge']\n",
    "print(pval_interaction)\n",
    "if pval_interaction < 0.05:\n",
    "    print(\"\\n✅ Age significantly moderates the relationship (Reject H₀)\")\n",
    "else:\n",
    "    print(\"\\n❌ Age does NOT significantly moderate the relationship (Fail to reject H₀)\")"
   ]
  },
  {
   "cell_type": "markdown",
   "id": "b11d43a8",
   "metadata": {
    "papermill": {
     "duration": 0.008385,
     "end_time": "2025-05-13T21:14:01.963650",
     "exception": false,
     "start_time": "2025-05-13T21:14:01.955265",
     "status": "completed"
    },
    "tags": []
   },
   "source": [
    "### 8. Marital status does not moderate the relationship between Perceived Ease of Use (PEOU) and Intention to Purchase Online."
   ]
  },
  {
   "cell_type": "code",
   "execution_count": 21,
   "id": "accb06ab",
   "metadata": {
    "execution": {
     "iopub.execute_input": "2025-05-13T21:14:01.982576Z",
     "iopub.status.busy": "2025-05-13T21:14:01.981637Z",
     "iopub.status.idle": "2025-05-13T21:14:02.006364Z",
     "shell.execute_reply": "2025-05-13T21:14:02.005459Z"
    },
    "papermill": {
     "duration": 0.035848,
     "end_time": "2025-05-13T21:14:02.007889",
     "exception": false,
     "start_time": "2025-05-13T21:14:01.972041",
     "status": "completed"
    },
    "tags": []
   },
   "outputs": [
    {
     "name": "stdout",
     "output_type": "stream",
     "text": [
      "pval: 0.1491320561538677\n",
      "\n",
      "❌ No significant moderation by marital status (Fail to reject H₀)\n"
     ]
    }
   ],
   "source": [
    "# Define PEOU columns\n",
    "peou_cols = [\n",
    "    'EaseofNavigation1', 'EaseofNavigation2',\n",
    "    'LearnCurve1', 'LearnCurve2',\n",
    "    'ClarityofInstructions1', 'ClarityofInstructions2',\n",
    "    'ResponseTime1', 'ResponseTime2',\n",
    "    'ErrorHandling1', 'ErrorHandling2'\n",
    "]\n",
    "\n",
    "# Intention columns\n",
    "intention_cols = [\n",
    "    'IntentiontoPurchaseOnline1',\n",
    "    'IntentiontoPurchaseOnline2',\n",
    "    'IntentiontoPurchaseOnline3',\n",
    "    'IntentiontoPurchaseOnline4'\n",
    "]\n",
    "\n",
    "# Compute averages\n",
    "df['PEOU'] = df[peou_cols].mean(axis=1)\n",
    "df['Intention'] = df[intention_cols].mean(axis=1)\n",
    "\n",
    "# Encode Marital Status (you may already have dummy columns, if not do this)\n",
    "if 'marital_status_Married' not in df.columns:\n",
    "    df['Married'] = df['marital_status_Married'] = df['marital_status'].apply(lambda x: 1 if x == 'Married' else 0)\n",
    "\n",
    "# Drop missing\n",
    "mod_df = df[['PEOU', 'marital_status_Married', 'Intention']].dropna()\n",
    "\n",
    "# Create interaction term\n",
    "mod_df['PEOUxMarried'] = mod_df['PEOU'] * mod_df['marital_status_Married']\n",
    "\n",
    "# Fit the moderation model\n",
    "model = smf.ols(\"Intention ~ PEOU + marital_status_Married + PEOUxMarried\", data=mod_df).fit()\n",
    "\n",
    "# Interpretation logic\n",
    "pval_interaction = model.pvalues['PEOUxMarried']\n",
    "print(\"pval:\" ,pval_interaction)\n",
    "if pval_interaction < 0.05:\n",
    "    print(\"\\n✅ Marital status significantly moderates the relationship (Reject H₀)\")\n",
    "else:\n",
    "    print(\"\\n❌ No significant moderation by marital status (Fail to reject H₀)\")"
   ]
  },
  {
   "cell_type": "markdown",
   "id": "58641dcc",
   "metadata": {
    "papermill": {
     "duration": 0.008232,
     "end_time": "2025-05-13T21:14:02.024545",
     "exception": false,
     "start_time": "2025-05-13T21:14:02.016313",
     "status": "completed"
    },
    "tags": []
   },
   "source": [
    "### 9. Gender does not moderate the relationship between PU and Intention."
   ]
  },
  {
   "cell_type": "code",
   "execution_count": 22,
   "id": "77930fe9",
   "metadata": {
    "execution": {
     "iopub.execute_input": "2025-05-13T21:14:02.043125Z",
     "iopub.status.busy": "2025-05-13T21:14:02.042245Z",
     "iopub.status.idle": "2025-05-13T21:14:02.068743Z",
     "shell.execute_reply": "2025-05-13T21:14:02.067431Z"
    },
    "papermill": {
     "duration": 0.037814,
     "end_time": "2025-05-13T21:14:02.070598",
     "exception": false,
     "start_time": "2025-05-13T21:14:02.032784",
     "status": "completed"
    },
    "tags": []
   },
   "outputs": [
    {
     "name": "stdout",
     "output_type": "stream",
     "text": [
      "\n",
      "❌ No significant moderation by gender (Fail to reject H₀)\n"
     ]
    }
   ],
   "source": [
    "# Define columns for Perceived Usefulness (PU)\n",
    "pu_cols = [\n",
    "    'ProductAvailability1', 'ProductAvailability2',\n",
    "    'Convenience1', 'Convenience2',\n",
    "    'Cost-effectiveness1', 'Cost-effectiveness2',\n",
    "    'InformationAccessibility1', 'InformationAccessibility2',\n",
    "    'Personalization1', 'Personalization2'\n",
    "]\n",
    "\n",
    "# Define Intention columns\n",
    "intention_cols = [\n",
    "    'IntentiontoPurchaseOnline1',\n",
    "    'IntentiontoPurchaseOnline2',\n",
    "    'IntentiontoPurchaseOnline3',\n",
    "    'IntentiontoPurchaseOnline4'\n",
    "]\n",
    "\n",
    "# Calculate averages\n",
    "df['PU'] = df[pu_cols].mean(axis=1)\n",
    "df['Intention'] = df[intention_cols].mean(axis=1)\n",
    "\n",
    "# Ensure gender is binary coded (e.g., Male = 1, Female = 0)\n",
    "if 'gender_Male' not in df.columns:\n",
    "    df['gender_Male'] = df['gender'].apply(lambda x: 1 if x.lower() == 'male' else 0)\n",
    "\n",
    "# Drop missing\n",
    "mod_df = df[['PU', 'Intention', 'gender_Male']].dropna()\n",
    "\n",
    "# Create interaction term\n",
    "mod_df['PUxGender'] = mod_df['PU'] * mod_df['gender_Male']\n",
    "\n",
    "# Fit the moderation model\n",
    "model = smf.ols(\"Intention ~ PU + gender_Male + PUxGender\", data=mod_df).fit()\n",
    "\n",
    "# Interpret the interaction term\n",
    "pval_interaction = model.pvalues['PUxGender']\n",
    "if pval_interaction < 0.05:\n",
    "    print(\"\\n✅ Gender significantly moderates the relationship (Reject H₀)\")\n",
    "else:\n",
    "    print(\"\\n❌ No significant moderation by gender (Fail to reject H₀)\")"
   ]
  },
  {
   "cell_type": "markdown",
   "id": "82f5176d",
   "metadata": {
    "papermill": {
     "duration": 0.00813,
     "end_time": "2025-05-13T21:14:02.089565",
     "exception": false,
     "start_time": "2025-05-13T21:14:02.081435",
     "status": "completed"
    },
    "tags": []
   },
   "source": [
    "### 10. Convenience has no impact on the intention to purchase online"
   ]
  },
  {
   "cell_type": "code",
   "execution_count": 23,
   "id": "a01b4401",
   "metadata": {
    "execution": {
     "iopub.execute_input": "2025-05-13T21:14:02.108320Z",
     "iopub.status.busy": "2025-05-13T21:14:02.107401Z",
     "iopub.status.idle": "2025-05-13T21:14:02.117061Z",
     "shell.execute_reply": "2025-05-13T21:14:02.116054Z"
    },
    "papermill": {
     "duration": 0.02051,
     "end_time": "2025-05-13T21:14:02.118461",
     "exception": false,
     "start_time": "2025-05-13T21:14:02.097951",
     "status": "completed"
    },
    "tags": []
   },
   "outputs": [
    {
     "name": "stdout",
     "output_type": "stream",
     "text": [
      "\n",
      "--- Convenience ---\n",
      "Spearman's rho: 0.240\n",
      "p-value       : 2.991e-12\n",
      "✅ Significant relationship (reject H₀)\n"
     ]
    }
   ],
   "source": [
    "test_spearman_correlation(\"Convenience\", ['Convenience1', 'Convenience2'])"
   ]
  }
 ],
 "metadata": {
  "kaggle": {
   "accelerator": "none",
   "dataSources": [
    {
     "datasetId": 7390461,
     "sourceId": 11793769,
     "sourceType": "datasetVersion"
    }
   ],
   "dockerImageVersionId": 31040,
   "isGpuEnabled": false,
   "isInternetEnabled": false,
   "language": "python",
   "sourceType": "notebook"
  },
  "kernelspec": {
   "display_name": "Python 3",
   "language": "python",
   "name": "python3"
  },
  "language_info": {
   "codemirror_mode": {
    "name": "ipython",
    "version": 3
   },
   "file_extension": ".py",
   "mimetype": "text/x-python",
   "name": "python",
   "nbconvert_exporter": "python",
   "pygments_lexer": "ipython3",
   "version": "3.11.11"
  },
  "papermill": {
   "default_parameters": {},
   "duration": 12.086801,
   "end_time": "2025-05-13T21:14:02.847223",
   "environment_variables": {},
   "exception": null,
   "input_path": "__notebook__.ipynb",
   "output_path": "__notebook__.ipynb",
   "parameters": {},
   "start_time": "2025-05-13T21:13:50.760422",
   "version": "2.6.0"
  }
 },
 "nbformat": 4,
 "nbformat_minor": 5
}
